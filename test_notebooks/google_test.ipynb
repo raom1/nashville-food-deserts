{
 "cells": [
  {
   "cell_type": "markdown",
   "metadata": {},
   "source": [
    "# Question 1"
   ]
  },
  {
   "cell_type": "code",
   "execution_count": 46,
   "metadata": {},
   "outputs": [],
   "source": [
    "primes = [2, 3, 5, 7]"
   ]
  },
  {
   "cell_type": "code",
   "execution_count": 36,
   "metadata": {},
   "outputs": [
    {
     "data": {
      "text/plain": [
       "list"
      ]
     },
     "execution_count": 36,
     "metadata": {},
     "output_type": "execute_result"
    }
   ],
   "source": [
    "type(primes)"
   ]
  },
  {
   "cell_type": "code",
   "execution_count": 19,
   "metadata": {},
   "outputs": [],
   "source": [
    "prime_list = list()"
   ]
  },
  {
   "cell_type": "code",
   "execution_count": 74,
   "metadata": {
    "scrolled": true
   },
   "outputs": [],
   "source": [
    "def get_id_number(n):\n",
    "    \"\"\"Give minion their new ID number given a number they draw out of a hat between 1 and 10000\"\"\"\n",
    "    prime_list = [2]\n",
    "    for i in range(2,20233):\n",
    "        if any(i%prime == 0 for prime in prime_list) == False:\n",
    "            prime_list.append(i)\n",
    "    prime_list = ''.join(map(str, prime_list))\n",
    "    id_string = prime_list[n:n+5]\n",
    "    return(id_string)"
   ]
  },
  {
   "cell_type": "code",
   "execution_count": 75,
   "metadata": {},
   "outputs": [
    {
     "data": {
      "text/plain": [
       "'02192'"
      ]
     },
     "execution_count": 75,
     "metadata": {},
     "output_type": "execute_result"
    }
   ],
   "source": [
    "get_id_number(10000)"
   ]
  },
  {
   "cell_type": "code",
   "execution_count": 93,
   "metadata": {
    "scrolled": true
   },
   "outputs": [
    {
     "data": {
      "text/plain": [
       "10009"
      ]
     },
     "execution_count": 93,
     "metadata": {},
     "output_type": "execute_result"
    }
   ],
   "source": [
    "prime_list = [2]\n",
    "for i in range(2,20233):\n",
    "    if any(i%prime == 0 for prime in prime_list) == False:\n",
    "        prime_list.append(i)\n",
    "prime_list = ''.join(map(str, prime_list))\n",
    "len(prime_list)"
   ]
  },
  {
   "cell_type": "code",
   "execution_count": null,
   "metadata": {},
   "outputs": [],
   "source": [
    "2, 3, 5, 7, 11, 13, 17, 19, 23, 29, 31, 37, 41, 43, 47, 53, 59, 61, 67, 71, 73, 79, 83, 89, 97, 101, 103, 107, 109, 113\n",
    "127, 131, 137, 139, 149, 151, 157, 163, 167, 173, 179, 181, 191, 193, 197, 199, 211, 223, 227, 229, 233, 239, 241, 251\n",
    "257, 263, 269, 271, 277, 281, 283, 293, 307, 311, 313, 317, 331, 337, 347, 349, 353, 359, 367, 373, 379, 383, 389, 397\n",
    "401, 409, 419, 421, 431, 433, 439, 443, 449, 457, 461, 463, 467, 479, 487, 491, 499, 503, 509, 521, 523, 541, 547, 557\n",
    "563, 569, 571, 577, 587, 593, 599, 601, 607, 613, 617, 619, 631, 641, 643, 647, 653, 659, 661, 673, 677, 683, 691, 701\n",
    "709, 719, 727, 733, 739, 743, 751, 757, 761, 769, 773, 787, 797, 809, 811, 821, 823, 827, 829, 839, 853, 857, 859, 863\n",
    "877, 881, 883, 887, 907, 911, 919, 929, 937, 941, 947, 953, 967, 971, 977, 983, 991, 997"
   ]
  },
  {
   "cell_type": "markdown",
   "metadata": {},
   "source": [
    "# Question 2.1"
   ]
  },
  {
   "cell_type": "code",
   "execution_count": 1,
   "metadata": {},
   "outputs": [],
   "source": [
    "import numpy as np"
   ]
  },
  {
   "cell_type": "code",
   "execution_count": 7,
   "metadata": {},
   "outputs": [],
   "source": [
    "chess_board = np.matrix([[0, 1, 2, 3, 4, 5, 6, 7],\n",
    "                         [8, 9, 10, 11, 12, 13, 14, 15],\n",
    "                         [16, 17, 18, 19, 20, 21, 22, 23],\n",
    "                         [24, 25, 26, 27, 28, 29, 30, 31],\n",
    "                         [32, 33, 34, 35, 36, 37, 38, 39],\n",
    "                         [40, 41, 42, 43, 44, 45, 46, 47],\n",
    "                         [48, 49, 50, 51, 52, 53, 54, 55],\n",
    "                         [56, 57, 58, 59, 60, 61, 62, 63]])"
   ]
  },
  {
   "cell_type": "code",
   "execution_count": 8,
   "metadata": {},
   "outputs": [
    {
     "data": {
      "text/plain": [
       "matrix([[ 0,  1,  2,  3,  4,  5,  6,  7],\n",
       "        [ 8,  9, 10, 11, 12, 13, 14, 15],\n",
       "        [16, 17, 18, 19, 20, 21, 22, 23],\n",
       "        [24, 25, 26, 27, 28, 29, 30, 31],\n",
       "        [32, 33, 34, 35, 36, 37, 38, 39],\n",
       "        [40, 41, 42, 43, 44, 45, 46, 47],\n",
       "        [48, 49, 50, 51, 52, 53, 54, 55],\n",
       "        [56, 57, 58, 59, 60, 61, 62, 63]])"
      ]
     },
     "execution_count": 8,
     "metadata": {},
     "output_type": "execute_result"
    }
   ],
   "source": [
    "chess_board"
   ]
  },
  {
   "cell_type": "code",
   "execution_count": 15,
   "metadata": {},
   "outputs": [
    {
     "data": {
      "text/plain": [
       "17"
      ]
     },
     "execution_count": 15,
     "metadata": {},
     "output_type": "execute_result"
    }
   ],
   "source": [
    "chess_board[0+2,0+1]"
   ]
  },
  {
   "cell_type": "code",
   "execution_count": 61,
   "metadata": {},
   "outputs": [
    {
     "data": {
      "text/plain": [
       "array([[2, 1]])"
      ]
     },
     "execution_count": 61,
     "metadata": {},
     "output_type": "execute_result"
    }
   ],
   "source": [
    "np.argwhere(chess_board == 17)"
   ]
  },
  {
   "cell_type": "code",
   "execution_count": 62,
   "metadata": {},
   "outputs": [
    {
     "name": "stdout",
     "output_type": "stream",
     "text": [
      "2 1\n"
     ]
    }
   ],
   "source": [
    "starting_y = np.argwhere(chess_board == 17)[0][0]\n",
    "starting_x = np.argwhere(chess_board == 17)[0][1]\n",
    "print(starting_y, starting_x)"
   ]
  },
  {
   "cell_type": "code",
   "execution_count": 19,
   "metadata": {},
   "outputs": [],
   "source": [
    "x = 4\n",
    "y = 4"
   ]
  },
  {
   "cell_type": "code",
   "execution_count": 22,
   "metadata": {},
   "outputs": [],
   "source": [
    "moves = [[\"y+1\", \"x+2\"],\n",
    "         [\"y+1\", \"x-2\"],\n",
    "         [\"y-1\", \"x+2\"],\n",
    "         [\"y-1\", \"x-2\"],\n",
    "         [\"y+2\", \"x+1\"],\n",
    "         [\"y+2\", \"x-1\"],\n",
    "         [\"y-2\", \"x+1\"],\n",
    "         [\"y-2\", \"x-1\"]]"
   ]
  },
  {
   "cell_type": "code",
   "execution_count": 23,
   "metadata": {},
   "outputs": [
    {
     "data": {
      "text/plain": [
       "[['y+1', 'x+2'],\n",
       " ['y+1', 'x-2'],\n",
       " ['y-1', 'x+2'],\n",
       " ['y-1', 'x-2'],\n",
       " ['y+2', 'x+1'],\n",
       " ['y+2', 'x-1'],\n",
       " ['y-2', 'x+1'],\n",
       " ['y-2', 'x-1']]"
      ]
     },
     "execution_count": 23,
     "metadata": {},
     "output_type": "execute_result"
    }
   ],
   "source": [
    "moves"
   ]
  },
  {
   "cell_type": "code",
   "execution_count": 24,
   "metadata": {},
   "outputs": [],
   "source": [
    "y_moves = [1, -1, 2, -2]"
   ]
  },
  {
   "cell_type": "code",
   "execution_count": 26,
   "metadata": {},
   "outputs": [],
   "source": [
    "import random"
   ]
  },
  {
   "cell_type": "code",
   "execution_count": 35,
   "metadata": {},
   "outputs": [
    {
     "data": {
      "text/plain": [
       "-2"
      ]
     },
     "execution_count": 35,
     "metadata": {},
     "output_type": "execute_result"
    }
   ],
   "source": [
    "random.choice(y_moves)"
   ]
  },
  {
   "cell_type": "code",
   "execution_count": null,
   "metadata": {},
   "outputs": [],
   "source": [
    "if abs(y_move) == 1:\n",
    "    x_move = 2 | -2\n",
    "else:\n",
    "    x_move = 1 | -1"
   ]
  },
  {
   "cell_type": "code",
   "execution_count": 37,
   "metadata": {},
   "outputs": [],
   "source": [
    "def get_coord_change():\n",
    "    y_move = random.choice(y_moves)\n",
    "    if abs(y_move) == 1:\n",
    "        x_move = random.choice([2, -2])\n",
    "    else: \n",
    "        x_move = random.choice([1, -1])\n",
    "    movement = [y_move, x_move]\n",
    "    return(movement)"
   ]
  },
  {
   "cell_type": "code",
   "execution_count": 51,
   "metadata": {},
   "outputs": [
    {
     "data": {
      "text/plain": [
       "[-1, -2]"
      ]
     },
     "execution_count": 51,
     "metadata": {},
     "output_type": "execute_result"
    }
   ],
   "source": [
    "get_coord_change()"
   ]
  },
  {
   "cell_type": "code",
   "execution_count": 317,
   "metadata": {},
   "outputs": [],
   "source": [
    "def make_move(src, dest):\n",
    "    \n",
    "    chess_board = np.matrix([[0, 1, 2, 3, 4, 5, 6, 7],\n",
    "                         [8, 9, 10, 11, 12, 13, 14, 15],\n",
    "                         [16, 17, 18, 19, 20, 21, 22, 23],\n",
    "                         [24, 25, 26, 27, 28, 29, 30, 31],\n",
    "                         [32, 33, 34, 35, 36, 37, 38, 39],\n",
    "                         [40, 41, 42, 43, 44, 45, 46, 47],\n",
    "                         [48, 49, 50, 51, 52, 53, 54, 55],\n",
    "                         [56, 57, 58, 59, 60, 61, 62, 63]])\n",
    "    \n",
    "    possible_tiles = src\n",
    "    \n",
    "    move_number = 0\n",
    "\n",
    "    y_moves = [1, -1, 2, -2]\n",
    "    \n",
    "    if type(possible_tiles) == int:\n",
    "        possible_tiles = [possible_tiles]\n",
    "    \n",
    "    possible_coords = list()\n",
    "    \n",
    "    while (dest in possible_tiles) == False:\n",
    "    \n",
    "        for tile in possible_tiles:\n",
    "    \n",
    "            starting_y = np.argwhere(chess_board == tile)[0][0]\n",
    "            starting_x = np.argwhere(chess_board == tile)[0][1]\n",
    "    \n",
    "            for y in y_moves:\n",
    "                \n",
    "                if abs(y) == 1:\n",
    "                    x_1, x_2 = 2, -2\n",
    "                \n",
    "                else:\n",
    "                    x_1, x_2 = 1, -1\n",
    "    \n",
    "                possible_coords.extend([[starting_y+y, starting_x+x_1], [starting_y+y, starting_x+x_2]])\n",
    "    \n",
    "        for coord in possible_coords:\n",
    "            if 0 <= coord[0] <= 7 and 0 <= coord[1] <= 7:\n",
    "                possible_tiles.append(chess_board[coord[0], coord[1]])\n",
    "                \n",
    "        move_number = move_number + 1\n",
    "    \n",
    "    return(move_number)\n",
    "    \n",
    "#    y_move = random.choice(y_moves)\n",
    "#    \n",
    "#    if abs(y_move) == 1:\n",
    "#        x_move = random.choice([2, -2])\n",
    "#    else: \n",
    "#        x_move = random.choice([1, -1])\n",
    "#    new_tile = chess_board[starting_y + y_move, starting_x + x_move]\n",
    "#    \n",
    "#    return(end_tile)"
   ]
  },
  {
   "cell_type": "code",
   "execution_count": 313,
   "metadata": {},
   "outputs": [
    {
     "data": {
      "text/plain": [
       "False"
      ]
     },
     "execution_count": 313,
     "metadata": {},
     "output_type": "execute_result"
    }
   ],
   "source": [
    "src = 0\n",
    "dest = 1\n",
    "possible_tiles = src\n",
    "possible_tiles = [possible_tiles]\n",
    "dest in possible_tiles"
   ]
  },
  {
   "cell_type": "code",
   "execution_count": 320,
   "metadata": {},
   "outputs": [
    {
     "data": {
      "text/plain": [
       "6"
      ]
     },
     "execution_count": 320,
     "metadata": {},
     "output_type": "execute_result"
    }
   ],
   "source": [
    "make_move(56, 7)"
   ]
  },
  {
   "cell_type": "code",
   "execution_count": 301,
   "metadata": {
    "scrolled": true
   },
   "outputs": [
    {
     "data": {
      "text/plain": [
       "[10, 17]"
      ]
     },
     "execution_count": 301,
     "metadata": {},
     "output_type": "execute_result"
    }
   ],
   "source": [
    "starting_tile"
   ]
  },
  {
   "cell_type": "code",
   "execution_count": 302,
   "metadata": {},
   "outputs": [
    {
     "data": {
      "text/plain": [
       "False"
      ]
     },
     "execution_count": 302,
     "metadata": {},
     "output_type": "execute_result"
    }
   ],
   "source": [
    "1 in starting_tile"
   ]
  },
  {
   "cell_type": "code",
   "execution_count": 303,
   "metadata": {},
   "outputs": [],
   "source": [
    "starting_tile = make_move(starting_tile)"
   ]
  },
  {
   "cell_type": "code",
   "execution_count": 304,
   "metadata": {},
   "outputs": [
    {
     "data": {
      "text/plain": [
       "[20, 16, 4, 0, 27, 25, 27, 11, 34, 32, 2, 0]"
      ]
     },
     "execution_count": 304,
     "metadata": {},
     "output_type": "execute_result"
    }
   ],
   "source": [
    "starting_tile"
   ]
  },
  {
   "cell_type": "code",
   "execution_count": 305,
   "metadata": {},
   "outputs": [
    {
     "data": {
      "text/plain": [
       "False"
      ]
     },
     "execution_count": 305,
     "metadata": {},
     "output_type": "execute_result"
    }
   ],
   "source": [
    "1 in starting_tile"
   ]
  },
  {
   "cell_type": "code",
   "execution_count": 306,
   "metadata": {},
   "outputs": [],
   "source": [
    "starting_tile = make_move(starting_tile)"
   ]
  },
  {
   "cell_type": "code",
   "execution_count": 307,
   "metadata": {},
   "outputs": [
    {
     "data": {
      "text/plain": [
       "[30,\n",
       " 26,\n",
       " 14,\n",
       " 10,\n",
       " 37,\n",
       " 35,\n",
       " 5,\n",
       " 3,\n",
       " 26,\n",
       " 10,\n",
       " 33,\n",
       " 1,\n",
       " 14,\n",
       " 10,\n",
       " 21,\n",
       " 19,\n",
       " 10,\n",
       " 17,\n",
       " 37,\n",
       " 33,\n",
       " 21,\n",
       " 17,\n",
       " 44,\n",
       " 42,\n",
       " 12,\n",
       " 10,\n",
       " 35,\n",
       " 19,\n",
       " 42,\n",
       " 40,\n",
       " 10,\n",
       " 8,\n",
       " 37,\n",
       " 33,\n",
       " 21,\n",
       " 17,\n",
       " 44,\n",
       " 42,\n",
       " 12,\n",
       " 10,\n",
       " 21,\n",
       " 17,\n",
       " 5,\n",
       " 1,\n",
       " 28,\n",
       " 26,\n",
       " 44,\n",
       " 40,\n",
       " 28,\n",
       " 24,\n",
       " 51,\n",
       " 49,\n",
       " 19,\n",
       " 17,\n",
       " 42,\n",
       " 26,\n",
       " 49,\n",
       " 17,\n",
       " 12,\n",
       " 8,\n",
       " 19,\n",
       " 17,\n",
       " 10,\n",
       " 17]"
      ]
     },
     "execution_count": 307,
     "metadata": {},
     "output_type": "execute_result"
    }
   ],
   "source": [
    "starting_tile"
   ]
  },
  {
   "cell_type": "code",
   "execution_count": 308,
   "metadata": {},
   "outputs": [
    {
     "data": {
      "text/plain": [
       "True"
      ]
     },
     "execution_count": 308,
     "metadata": {},
     "output_type": "execute_result"
    }
   ],
   "source": [
    "1 in starting_tile"
   ]
  },
  {
   "cell_type": "code",
   "execution_count": 299,
   "metadata": {},
   "outputs": [
    {
     "data": {
      "text/plain": [
       "False"
      ]
     },
     "execution_count": 299,
     "metadata": {},
     "output_type": "execute_result"
    }
   ],
   "source": [
    "1 in starting_tile2"
   ]
  },
  {
   "cell_type": "code",
   "execution_count": 295,
   "metadata": {},
   "outputs": [
    {
     "name": "stdout",
     "output_type": "stream",
     "text": [
      "fail\n",
      "pass\n",
      "fail\n",
      "pass\n",
      "pass\n",
      "pass\n",
      "pass\n",
      "pass\n",
      "pass\n",
      "pass\n",
      "pass\n",
      "pass\n",
      "pass\n",
      "pass\n",
      "pass\n",
      "pass\n",
      "fail\n",
      "pass\n",
      "fail\n",
      "pass\n",
      "pass\n",
      "pass\n",
      "pass\n",
      "pass\n",
      "pass\n",
      "pass\n",
      "pass\n",
      "pass\n",
      "pass\n",
      "pass\n",
      "pass\n",
      "pass\n",
      "pass\n",
      "pass\n",
      "pass\n",
      "pass\n",
      "fail\n",
      "fail\n",
      "pass\n",
      "pass\n",
      "pass\n",
      "pass\n",
      "pass\n",
      "pass\n",
      "fail\n",
      "fail\n",
      "pass\n",
      "pass\n",
      "pass\n",
      "pass\n",
      "pass\n",
      "pass\n",
      "pass\n",
      "pass\n",
      "pass\n",
      "pass\n",
      "pass\n",
      "pass\n",
      "pass\n",
      "pass\n",
      "pass\n",
      "pass\n",
      "pass\n",
      "pass\n"
     ]
    }
   ],
   "source": [
    "for coord in starting_tile2:\n",
    "    if 0 <= coord[0] <= 7 and 0 <= coord[1] <= 7:\n",
    "        print(\"pass\")\n",
    "    else:\n",
    "        print(\"fail\")"
   ]
  },
  {
   "cell_type": "code",
   "execution_count": 293,
   "metadata": {},
   "outputs": [
    {
     "name": "stdout",
     "output_type": "stream",
     "text": [
      "[6, 8]\n",
      "[4, 8]\n",
      "[4, 8]\n",
      "[2, 8]\n",
      "[8, 6]\n",
      "[8, 4]\n",
      "[8, 4]\n",
      "[8, 2]\n"
     ]
    }
   ],
   "source": [
    "for coord in starting_tile2:\n",
    "    if coord[0] > 7 or coord[1] > 7:\n",
    "        print(coord)"
   ]
  },
  {
   "cell_type": "code",
   "execution_count": 204,
   "metadata": {},
   "outputs": [],
   "source": [
    "test_list = [1, 2, 3, 4]"
   ]
  },
  {
   "cell_type": "code",
   "execution_count": 205,
   "metadata": {},
   "outputs": [
    {
     "data": {
      "text/plain": [
       "[1, 2, 3, 4]"
      ]
     },
     "execution_count": 205,
     "metadata": {},
     "output_type": "execute_result"
    }
   ],
   "source": [
    "test_list"
   ]
  },
  {
   "cell_type": "code",
   "execution_count": 207,
   "metadata": {},
   "outputs": [],
   "source": [
    "test_int = 3"
   ]
  },
  {
   "cell_type": "code",
   "execution_count": 214,
   "metadata": {},
   "outputs": [
    {
     "data": {
      "text/plain": [
       "[3]"
      ]
     },
     "execution_count": 214,
     "metadata": {},
     "output_type": "execute_result"
    }
   ],
   "source": [
    "[test_int]"
   ]
  },
  {
   "cell_type": "code",
   "execution_count": 201,
   "metadata": {},
   "outputs": [
    {
     "data": {
      "text/plain": [
       "matrix([[ 0,  1,  2,  3,  4,  5,  6,  7],\n",
       "        [ 8,  9, 10, 11, 12, 13, 14, 15],\n",
       "        [16, 17, 18, 19, 20, 21, 22, 23],\n",
       "        [24, 25, 26, 27, 28, 29, 30, 31],\n",
       "        [32, 33, 34, 35, 36, 37, 38, 39],\n",
       "        [40, 41, 42, 43, 44, 45, 46, 47],\n",
       "        [48, 49, 50, 51, 52, 53, 54, 55],\n",
       "        [56, 57, 58, 59, 60, 61, 62, 63]])"
      ]
     },
     "execution_count": 201,
     "metadata": {},
     "output_type": "execute_result"
    }
   ],
   "source": [
    "chess_board"
   ]
  },
  {
   "cell_type": "code",
   "execution_count": 129,
   "metadata": {},
   "outputs": [
    {
     "data": {
      "text/plain": [
       "42"
      ]
     },
     "execution_count": 129,
     "metadata": {},
     "output_type": "execute_result"
    }
   ],
   "source": [
    "make_move(36)"
   ]
  },
  {
   "cell_type": "code",
   "execution_count": 149,
   "metadata": {},
   "outputs": [
    {
     "name": "stdout",
     "output_type": "stream",
     "text": [
      "out of bounds!\n",
      "out of bounds!\n",
      "out of bounds!\n",
      "out of bounds!\n"
     ]
    },
    {
     "data": {
      "text/plain": [
       "[36, 46, 46, 61, 61, 61, 61, 44, 29, 44]"
      ]
     },
     "execution_count": 149,
     "metadata": {},
     "output_type": "execute_result"
    }
   ],
   "source": [
    "moves = list()\n",
    "\n",
    "starting_tile = 36\n",
    "\n",
    "while len(moves) < 10:\n",
    "    try:\n",
    "        moves.append(starting_tile)\n",
    "        starting_tile = make_move(starting_tile)\n",
    "    except IndexError:\n",
    "        print(\"out of bounds!\")\n",
    "        \n",
    "\n",
    "moves"
   ]
  },
  {
   "cell_type": "code",
   "execution_count": 135,
   "metadata": {},
   "outputs": [
    {
     "data": {
      "text/plain": [
       "[36, 53, 59]"
      ]
     },
     "execution_count": 135,
     "metadata": {},
     "output_type": "execute_result"
    }
   ],
   "source": [
    "moves"
   ]
  },
  {
   "cell_type": "markdown",
   "metadata": {},
   "source": [
    "53, 51, 46, 42, 26, 30, 19, 21"
   ]
  },
  {
   "cell_type": "markdown",
   "metadata": {},
   "source": [
    "for y in y_moves:\n",
    "    if abs(y) == 1:\n",
    "        "
   ]
  },
  {
   "cell_type": "code",
   "execution_count": 99,
   "metadata": {},
   "outputs": [
    {
     "data": {
      "text/plain": [
       "matrix([[ 0,  1,  2,  3,  4,  5,  6,  7],\n",
       "        [ 8,  9, 10, 11, 12, 13, 14, 15],\n",
       "        [16, 17, 18, 19, 20, 21, 22, 23],\n",
       "        [24, 25, 26, 27, 28, 29, 30, 31],\n",
       "        [32, 33, 34, 35, 36, 37, 38, 39],\n",
       "        [40, 41, 42, 43, 44, 45, 46, 47],\n",
       "        [48, 49, 50, 51, 52, 53, 54, 55],\n",
       "        [56, 57, 58, 59, 60, 61, 62, 63]])"
      ]
     },
     "execution_count": 99,
     "metadata": {},
     "output_type": "execute_result"
    }
   ],
   "source": [
    "chess_board"
   ]
  },
  {
   "cell_type": "code",
   "execution_count": 96,
   "metadata": {},
   "outputs": [
    {
     "name": "stdout",
     "output_type": "stream",
     "text": [
      "0 5 1 2\n"
     ]
    }
   ],
   "source": [
    "starting_y = np.argwhere(chess_board == 5)[0][0]\n",
    "starting_x = np.argwhere(chess_board == 5)[0][1]\n",
    "ending_y = np.argwhere(chess_board == 10)[0][0]\n",
    "ending_x = np.argwhere(chess_board == 10)[0][1]\n",
    "\n",
    "print(starting_y, starting_x, ending_y, ending_x)"
   ]
  },
  {
   "cell_type": "code",
   "execution_count": 98,
   "metadata": {},
   "outputs": [
    {
     "name": "stdout",
     "output_type": "stream",
     "text": [
      "1 -3\n"
     ]
    }
   ],
   "source": [
    "y_diff = ending_y-starting_y\n",
    "x_diff = ending_x-starting_x\n",
    "\n",
    "print(y_diff, x_diff)"
   ]
  },
  {
   "cell_type": "code",
   "execution_count": null,
   "metadata": {},
   "outputs": [],
   "source": [
    "if abs(y_diff%2) > 0 and y_diff != 0:\n",
    "    y_move = 2*(y_diff/y_diff)\n",
    "    x_move = 1*(x_diff/x_diff)\n",
    "else:\n",
    "    y_move = 1*(y_diff/y_diff)\n",
    "    x_move = 2*(x_diff/x_diff)\n"
   ]
  },
  {
   "cell_type": "code",
   "execution_count": 113,
   "metadata": {},
   "outputs": [
    {
     "data": {
      "text/plain": [
       "array([5, 3])"
      ]
     },
     "execution_count": 113,
     "metadata": {},
     "output_type": "execute_result"
    }
   ],
   "source": [
    "abs([0, 8]-starting_x)"
   ]
  },
  {
   "cell_type": "code",
   "execution_count": 112,
   "metadata": {},
   "outputs": [
    {
     "data": {
      "text/plain": [
       "array([0, 8])"
      ]
     },
     "execution_count": 112,
     "metadata": {},
     "output_type": "execute_result"
    }
   ],
   "source": [
    "abs([0, 8]-starting_y)"
   ]
  },
  {
   "cell_type": "code",
   "execution_count": 122,
   "metadata": {},
   "outputs": [],
   "source": [
    "border_distances = np.concatenate([abs([0, 8]-starting_x), abs([0, 8]-starting_y)])"
   ]
  },
  {
   "cell_type": "code",
   "execution_count": 123,
   "metadata": {},
   "outputs": [
    {
     "name": "stdout",
     "output_type": "stream",
     "text": [
      "left: 5\n",
      "right: 3\n",
      "top: 0\n",
      "bottom: 8\n"
     ]
    }
   ],
   "source": [
    "left = border_distances[0]\n",
    "right = border_distances[1]\n",
    "top = border_distances[2]\n",
    "bottom = border_distances[3]\n",
    "print(\"left: {}\\nright: {}\\ntop: {}\\nbottom: {}\".format(left, right, top, bottom))"
   ]
  },
  {
   "cell_type": "code",
   "execution_count": 125,
   "metadata": {},
   "outputs": [
    {
     "data": {
      "text/plain": [
       "2"
      ]
     },
     "execution_count": 125,
     "metadata": {},
     "output_type": "execute_result"
    }
   ],
   "source": [
    "np.argmin(border_distances)"
   ]
  },
  {
   "cell_type": "code",
   "execution_count": 327,
   "metadata": {},
   "outputs": [],
   "source": [
    "w, h = 8, 8;\n",
    "Matrix = [[int for x in range(w)] for y in range(h)] "
   ]
  },
  {
   "cell_type": "code",
   "execution_count": 328,
   "metadata": {},
   "outputs": [
    {
     "data": {
      "text/plain": [
       "[[int, int, int, int, int, int, int, int],\n",
       " [int, int, int, int, int, int, int, int],\n",
       " [int, int, int, int, int, int, int, int],\n",
       " [int, int, int, int, int, int, int, int],\n",
       " [int, int, int, int, int, int, int, int],\n",
       " [int, int, int, int, int, int, int, int],\n",
       " [int, int, int, int, int, int, int, int],\n",
       " [int, int, int, int, int, int, int, int]]"
      ]
     },
     "execution_count": 328,
     "metadata": {},
     "output_type": "execute_result"
    }
   ],
   "source": [
    "Matrix"
   ]
  },
  {
   "cell_type": "code",
   "execution_count": 8,
   "metadata": {},
   "outputs": [],
   "source": [
    "from array import array"
   ]
  },
  {
   "cell_type": "code",
   "execution_count": 3,
   "metadata": {},
   "outputs": [],
   "source": [
    "### Part 2.1 Answer (no numpy):\n",
    "\n",
    "def answer(src, dest):\n",
    "    \n",
    "    \"\"\"Calculate minimum number of moves for knight to move between two spaces\"\"\"\n",
    "    \n",
    "    chess_board = [[0, 1, 2, 3, 4, 5, 6, 7],\n",
    "                   [8, 9, 10, 11, 12, 13, 14, 15],\n",
    "                   [16, 17, 18, 19, 20, 21, 22, 23],\n",
    "                   [24, 25, 26, 27, 28, 29, 30, 31],\n",
    "                   [32, 33, 34, 35, 36, 37, 38, 39],\n",
    "                   [40, 41, 42, 43, 44, 45, 46, 47],\n",
    "                   [48, 49, 50, 51, 52, 53, 54, 55],\n",
    "                   [56, 57, 58, 59, 60, 61, 62, 63]]\n",
    "    \n",
    "    possible_tiles = src\n",
    "    \n",
    "    move_number = 0\n",
    "\n",
    "    y_moves = [1, -1, 2, -2]\n",
    "    \n",
    "    if type(possible_tiles) == int:\n",
    "        possible_tiles = [possible_tiles]\n",
    "    \n",
    "    possible_coords = list()\n",
    "    \n",
    "    while (dest in possible_tiles) == False:\n",
    "    \n",
    "        for tile in possible_tiles:\n",
    "    \n",
    "            starting_y = [(column, row.index(tile))for column, row in enumerate(chess_board)if tile in row][0][0]\n",
    "            starting_x = [(column, row.index(tile))for column, row in enumerate(chess_board)if tile in row][0][1]\n",
    "    \n",
    "            for y in y_moves:\n",
    "                \n",
    "                if abs(y) == 1:\n",
    "                    x_1, x_2 = 2, -2\n",
    "                \n",
    "                else:\n",
    "                    x_1, x_2 = 1, -1\n",
    "    \n",
    "                possible_coords.extend([[starting_y+y, starting_x+x_1], [starting_y+y, starting_x+x_2]])\n",
    "    \n",
    "        for coord in possible_coords:\n",
    "            if 0 <= coord[0] <= 7 and 0 <= coord[1] <= 7:\n",
    "                possible_tiles.append(chess_board[coord[0]][coord[1]])\n",
    "                \n",
    "        move_number = move_number + 1\n",
    "    \n",
    "    return(move_number)"
   ]
  },
  {
   "cell_type": "code",
   "execution_count": 4,
   "metadata": {},
   "outputs": [
    {
     "data": {
      "text/plain": [
       "6"
      ]
     },
     "execution_count": 4,
     "metadata": {},
     "output_type": "execute_result"
    }
   ],
   "source": [
    "answer(56, 7)"
   ]
  },
  {
   "cell_type": "code",
   "execution_count": 12,
   "metadata": {},
   "outputs": [
    {
     "data": {
      "text/plain": [
       "[[0, 1, 2, 3, 4, 5, 6, 7],\n",
       " [8, 9, 10, 11, 12, 13, 14, 15],\n",
       " [16, 17, 18, 19, 20, 21, 22, 23],\n",
       " [24, 25, 26, 27, 28, 29, 30, 31],\n",
       " [32, 33, 34, 35, 36, 37, 38, 39],\n",
       " [40, 41, 42, 43, 44, 45, 46, 47],\n",
       " [48, 49, 50, 51, 52, 53, 54, 55],\n",
       " [56, 57, 58, 59, 60, 61, 62, 63]]"
      ]
     },
     "execution_count": 12,
     "metadata": {},
     "output_type": "execute_result"
    }
   ],
   "source": [
    "matrix = [[0, 1, 2, 3, 4, 5, 6, 7],\n",
    "          [8, 9, 10, 11, 12, 13, 14, 15],\n",
    "          [16, 17, 18, 19, 20, 21, 22, 23],\n",
    "          [24, 25, 26, 27, 28, 29, 30, 31],\n",
    "          [32, 33, 34, 35, 36, 37, 38, 39],\n",
    "          [40, 41, 42, 43, 44, 45, 46, 47],\n",
    "          [48, 49, 50, 51, 52, 53, 54, 55],\n",
    "          [56, 57, 58, 59, 60, 61, 62, 63]]\n",
    "\n",
    "matrix"
   ]
  },
  {
   "cell_type": "code",
   "execution_count": 17,
   "metadata": {},
   "outputs": [],
   "source": [
    "coord = [(column, row.index(43))for column, row in enumerate(matrix)if 43 in row]"
   ]
  },
  {
   "cell_type": "code",
   "execution_count": 18,
   "metadata": {},
   "outputs": [
    {
     "data": {
      "text/plain": [
       "5"
      ]
     },
     "execution_count": 18,
     "metadata": {},
     "output_type": "execute_result"
    }
   ],
   "source": [
    "coord[0][0]"
   ]
  },
  {
   "cell_type": "markdown",
   "metadata": {},
   "source": [
    "# Question 2.2"
   ]
  },
  {
   "cell_type": "code",
   "execution_count": 6,
   "metadata": {},
   "outputs": [
    {
     "data": {
      "text/plain": [
       "[0, 2]"
      ]
     },
     "execution_count": 6,
     "metadata": {},
     "output_type": "execute_result"
    }
   ],
   "source": [
    "[4, 3, 5, 7, 8]\n",
    "12\n",
    "[0, 2]"
   ]
  },
  {
   "cell_type": "code",
   "execution_count": null,
   "metadata": {},
   "outputs": [],
   "source": [
    "[4, 3, 10, 2, 8]\n",
    "12\n",
    "[2, 3]\n",
    "\n",
    "[1, 2, 3, 4]\n",
    "15\n",
    "[-1, -1]"
   ]
  },
  {
   "cell_type": "code",
   "execution_count": 56,
   "metadata": {},
   "outputs": [],
   "source": [
    "# Final Answer\n",
    "\n",
    "def answer(l, t):\n",
    "    \n",
    "    \"\"\"Decode messages by finding first sublist in l that adds up to t\"\"\"\n",
    "    \n",
    "    message = [-1, -1]\n",
    "    \n",
    "    start = 0\n",
    "    \n",
    "    stop = 0\n",
    "    \n",
    "    total = l[start]\n",
    "    \n",
    "    while total != t and start < len(l) :\n",
    "            \n",
    "        if total < t and stop < (len(l)-1):\n",
    "            stop = stop + 1\n",
    "            total = total + l[stop]\n",
    "                \n",
    "        elif total > t:\n",
    "            start = start + 1\n",
    "            stop = start\n",
    "            total = l[start]\n",
    "            \n",
    "        else:\n",
    "            break\n",
    "            \n",
    "    if total == t:\n",
    "        message[0], message[1] = start, stop\n",
    "            \n",
    "    return(message)"
   ]
  },
  {
   "cell_type": "code",
   "execution_count": 60,
   "metadata": {},
   "outputs": [
    {
     "data": {
      "text/plain": [
       "[-1, -1]"
      ]
     },
     "execution_count": 60,
     "metadata": {},
     "output_type": "execute_result"
    }
   ],
   "source": [
    "answer([1, 2, 3, 4], 15)"
   ]
  },
  {
   "cell_type": "code",
   "execution_count": 34,
   "metadata": {},
   "outputs": [],
   "source": [
    "l = [1, 2, 3, 4]\n",
    "t = 15"
   ]
  },
  {
   "cell_type": "code",
   "execution_count": 35,
   "metadata": {},
   "outputs": [],
   "source": [
    "message = [-1, -1]\n",
    "start = 0\n",
    "stop = 0\n",
    "total = l[start]"
   ]
  },
  {
   "cell_type": "code",
   "execution_count": 48,
   "metadata": {},
   "outputs": [
    {
     "data": {
      "text/plain": [
       "10"
      ]
     },
     "execution_count": 48,
     "metadata": {},
     "output_type": "execute_result"
    }
   ],
   "source": [
    "total"
   ]
  },
  {
   "cell_type": "code",
   "execution_count": 49,
   "metadata": {},
   "outputs": [
    {
     "data": {
      "text/plain": [
       "True"
      ]
     },
     "execution_count": 49,
     "metadata": {},
     "output_type": "execute_result"
    }
   ],
   "source": [
    "total != t and start < len(l)"
   ]
  },
  {
   "cell_type": "code",
   "execution_count": 50,
   "metadata": {},
   "outputs": [
    {
     "data": {
      "text/plain": [
       "False"
      ]
     },
     "execution_count": 50,
     "metadata": {},
     "output_type": "execute_result"
    }
   ],
   "source": [
    "total < t and stop < (len(l)-1)"
   ]
  },
  {
   "cell_type": "code",
   "execution_count": 47,
   "metadata": {},
   "outputs": [],
   "source": [
    "stop = stop + 1\n",
    "total = total + l[stop]"
   ]
  },
  {
   "cell_type": "code",
   "execution_count": 51,
   "metadata": {},
   "outputs": [
    {
     "data": {
      "text/plain": [
       "False"
      ]
     },
     "execution_count": 51,
     "metadata": {},
     "output_type": "execute_result"
    }
   ],
   "source": [
    "total > t"
   ]
  },
  {
   "cell_type": "code",
   "execution_count": 8,
   "metadata": {},
   "outputs": [
    {
     "data": {
      "text/plain": [
       "2"
      ]
     },
     "execution_count": 8,
     "metadata": {},
     "output_type": "execute_result"
    }
   ],
   "source": [
    "stop = stop + 1\n",
    "stop"
   ]
  },
  {
   "cell_type": "code",
   "execution_count": 9,
   "metadata": {},
   "outputs": [
    {
     "data": {
      "text/plain": [
       "12"
      ]
     },
     "execution_count": 9,
     "metadata": {},
     "output_type": "execute_result"
    }
   ],
   "source": [
    "total = total + l[stop]\n",
    "total"
   ]
  },
  {
   "cell_type": "code",
   "execution_count": 11,
   "metadata": {},
   "outputs": [
    {
     "data": {
      "text/plain": [
       "True"
      ]
     },
     "execution_count": 11,
     "metadata": {},
     "output_type": "execute_result"
    }
   ],
   "source": [
    "total == t"
   ]
  },
  {
   "cell_type": "code",
   "execution_count": 12,
   "metadata": {},
   "outputs": [],
   "source": [
    "message[0], message[1] = start, stop"
   ]
  },
  {
   "cell_type": "code",
   "execution_count": 13,
   "metadata": {},
   "outputs": [
    {
     "data": {
      "text/plain": [
       "[0, 2]"
      ]
     },
     "execution_count": 13,
     "metadata": {},
     "output_type": "execute_result"
    }
   ],
   "source": [
    "message"
   ]
  },
  {
   "cell_type": "markdown",
   "metadata": {},
   "source": [
    "# Question 3.1"
   ]
  },
  {
   "cell_type": "markdown",
   "metadata": {},
   "source": [
    "[\n",
    "  [0,1,0,0,0,1],  # s0, the initial state, goes to s1 and s5 with equal probability\n",
    "  [4,0,0,3,2,0],  # s1 can become s0, s3, or s4, but with different probabilities\n",
    "  [0,0,0,0,0,0],  # s2 is terminal, and unreachable (never observed in practice)\n",
    "  [0,0,0,0,0,0],  # s3 is terminal\n",
    "  [0,0,0,0,0,0],  # s4 is terminal\n",
    "  [0,0,0,0,0,0],  # s5 is terminal\n",
    "]\n",
    "So, we can consider different paths to terminal states, such as:\n",
    "s0 -> s1 -> s3\n",
    "s0 -> s1 -> s0 -> s1 -> s0 -> s1 -> s4\n",
    "s0 -> s1 -> s0 -> s5\n",
    "Tracing the probabilities of each, we find that\n",
    "s2 has probability 0\n",
    "s3 has probability 3/14\n",
    "s4 has probability 1/7\n",
    "s5 has probability 9/14\n",
    "So, putting that together, and making a common denominator, gives an answer in the form of\n",
    "[s2.numerator, s3.numerator, s4.numerator, s5.numerator, denominator] which is\n",
    "[0, 3, 2, 9, 14]."
   ]
  },
  {
   "cell_type": "markdown",
   "metadata": {},
   "source": [
    "# m_2\n",
    "Inputs:\n",
    "    (int) m = [[0, 2, 1, 0, 0], [0, 0, 0, 3, 4], [0, 0, 0, 0, 0], [0, 0, 0, 0, 0], [0, 0, 0, 0, 0]]\n",
    "Output:\n",
    "    (int list) [7, 6, 8, 21]"
   ]
  },
  {
   "cell_type": "markdown",
   "metadata": {},
   "source": [
    "# m_3\n",
    "Inputs:\n",
    "    (int) m = [[0, 1, 0, 0, 0, 1], [4, 0, 0, 3, 2, 0], [0, 0, 0, 0, 0, 0], [0, 0, 0, 0, 0, 0], [0, 0, 0, 0, 0, 0], [0, 0, 0, 0, 0, 0]]\n",
    "Output:\n",
    "    (int list) [0, 3, 2, 9, 14]"
   ]
  },
  {
   "cell_type": "code",
   "execution_count": 61,
   "metadata": {},
   "outputs": [],
   "source": [
    "m_1 = [\n",
    "    [0,1,0,0,0,1],\n",
    "    [4,0,0,3,2,0],\n",
    "    [0,0,0,0,0,0],\n",
    "    [0,0,0,0,0,0],\n",
    "    [0,0,0,0,0,0],\n",
    "    [0,0,0,0,0,0]\n",
    "]"
   ]
  },
  {
   "cell_type": "code",
   "execution_count": 53,
   "metadata": {},
   "outputs": [],
   "source": [
    "m_2 = [[0, 2, 1, 0, 0],\n",
    "      [0, 0, 0, 3, 4],\n",
    "      [0, 0, 0, 0, 0],\n",
    "      [0, 0, 0, 0, 0],\n",
    "      [0, 0, 0, 0, 0]]"
   ]
  },
  {
   "cell_type": "markdown",
   "metadata": {},
   "source": [
    "2 = 1/3, 3 = 2/3 * 3/7, 4 = 2/3 * 4/7\n",
    "[2, 3, 4, den]\n",
    "1/3, 6/21, 8/21\n",
    "[7, 6, 8, 21]"
   ]
  },
  {
   "cell_type": "code",
   "execution_count": 102,
   "metadata": {},
   "outputs": [],
   "source": [
    "m_3 = [[0, 1, 0, 0, 0, 1],\n",
    "       [4, 0, 0, 3, 2, 0],\n",
    "       [0, 0, 0, 0, 0, 0],\n",
    "       [0, 0, 0, 0, 0, 0],\n",
    "       [0, 0, 0, 0, 0, 0],\n",
    "       [0, 0, 0, 0, 0, 0]]"
   ]
  },
  {
   "cell_type": "code",
   "execution_count": 62,
   "metadata": {},
   "outputs": [
    {
     "data": {
      "text/plain": [
       "[4, 0, 0, 3, 2, 0]"
      ]
     },
     "execution_count": 62,
     "metadata": {},
     "output_type": "execute_result"
    }
   ],
   "source": [
    "m_1[1]"
   ]
  },
  {
   "cell_type": "code",
   "execution_count": 67,
   "metadata": {},
   "outputs": [
    {
     "name": "stdout",
     "output_type": "stream",
     "text": [
      "transition state\n",
      "transition state\n",
      "terminal state\n",
      "terminal state\n",
      "terminal state\n",
      "terminal state\n"
     ]
    }
   ],
   "source": [
    "for states in m_1:\n",
    "    if any(probs != 0 for probs in states):\n",
    "        print(\"transition\")\n",
    "    else:\n",
    "        print(\"terminal\")"
   ]
  },
  {
   "cell_type": "code",
   "execution_count": 173,
   "metadata": {},
   "outputs": [],
   "source": [
    "from fractions import Fraction\n",
    "\n",
    "\n",
    "def answer(m):\n",
    "\n",
    "    probs = list()\n",
    "    \n",
    "    for m_ind, state in enumerate(m):\n",
    "        \n",
    "        state_probs = list()\n",
    "        state_sum = sum(state)\n",
    "        \n",
    "        #if any(p != 0 for p in state):\n",
    "        if not state_sum:\n",
    "            for ind, _ in enumerate(state):\n",
    "                if ind == m_ind:\n",
    "                    state_probs.append(Fraction(1))\n",
    "                else:\n",
    "                    state_probs.append(Fraction())\n",
    "        \n",
    "        else:\n",
    "            for p in state:\n",
    "                if p:\n",
    "                    prob = Fraction(\"{}/{}\".format(p, state_sum))\n",
    "\n",
    "                    state_probs.append(prob)\n",
    "                else:\n",
    "                    state_probs.append(Fraction())\n",
    "            \n",
    "        #else:\n",
    "            \n",
    "        #    for p in state:\n",
    "                \n",
    "        #        prob = \"0/0\"\n",
    "                \n",
    "        #        state_probs.append(prob)\n",
    "                \n",
    "        probs.append(state_probs)\n",
    "    \n",
    "    return(probs)"
   ]
  },
  {
   "cell_type": "code",
   "execution_count": 174,
   "metadata": {},
   "outputs": [
    {
     "data": {
      "text/plain": [
       "[[Fraction(0, 1),\n",
       "  Fraction(1, 2),\n",
       "  Fraction(0, 1),\n",
       "  Fraction(0, 1),\n",
       "  Fraction(0, 1),\n",
       "  Fraction(1, 2)],\n",
       " [Fraction(4, 9),\n",
       "  Fraction(0, 1),\n",
       "  Fraction(0, 1),\n",
       "  Fraction(1, 3),\n",
       "  Fraction(2, 9),\n",
       "  Fraction(0, 1)],\n",
       " [Fraction(0, 1),\n",
       "  Fraction(0, 1),\n",
       "  Fraction(1, 1),\n",
       "  Fraction(0, 1),\n",
       "  Fraction(0, 1),\n",
       "  Fraction(0, 1)],\n",
       " [Fraction(0, 1),\n",
       "  Fraction(0, 1),\n",
       "  Fraction(0, 1),\n",
       "  Fraction(1, 1),\n",
       "  Fraction(0, 1),\n",
       "  Fraction(0, 1)],\n",
       " [Fraction(0, 1),\n",
       "  Fraction(0, 1),\n",
       "  Fraction(0, 1),\n",
       "  Fraction(0, 1),\n",
       "  Fraction(1, 1),\n",
       "  Fraction(0, 1)],\n",
       " [Fraction(0, 1),\n",
       "  Fraction(0, 1),\n",
       "  Fraction(0, 1),\n",
       "  Fraction(0, 1),\n",
       "  Fraction(0, 1),\n",
       "  Fraction(1, 1)]]"
      ]
     },
     "execution_count": 174,
     "metadata": {},
     "output_type": "execute_result"
    }
   ],
   "source": [
    "answer(m_1)"
   ]
  },
  {
   "cell_type": "code",
   "execution_count": 110,
   "metadata": {},
   "outputs": [
    {
     "data": {
      "text/plain": [
       "[['0/3', '2/3', '1/3', '0/3', '0/3'],\n",
       " ['0/7', '0/7', '0/7', '3/7', '4/7'],\n",
       " ['0/0', '0/0', '0/0', '0/0', '0/0'],\n",
       " ['0/0', '0/0', '0/0', '0/0', '0/0'],\n",
       " ['0/0', '0/0', '0/0', '0/0', '0/0']]"
      ]
     },
     "execution_count": 110,
     "metadata": {},
     "output_type": "execute_result"
    }
   ],
   "source": [
    "answer(m_2)"
   ]
  },
  {
   "cell_type": "code",
   "execution_count": 111,
   "metadata": {
    "scrolled": true
   },
   "outputs": [
    {
     "data": {
      "text/plain": [
       "[['0/2', '1/2', '0/2', '0/2', '0/2', '1/2'],\n",
       " ['4/9', '0/9', '0/9', '3/9', '2/9', '0/9'],\n",
       " ['0/0', '0/0', '0/0', '0/0', '0/0', '0/0'],\n",
       " ['0/0', '0/0', '0/0', '0/0', '0/0', '0/0'],\n",
       " ['0/0', '0/0', '0/0', '0/0', '0/0', '0/0'],\n",
       " ['0/0', '0/0', '0/0', '0/0', '0/0', '0/0']]"
      ]
     },
     "execution_count": 111,
     "metadata": {},
     "output_type": "execute_result"
    }
   ],
   "source": [
    "answer(m_3)"
   ]
  },
  {
   "cell_type": "code",
   "execution_count": 79,
   "metadata": {},
   "outputs": [
    {
     "name": "stdout",
     "output_type": "stream",
     "text": [
      "transition\n",
      "transition\n",
      "terminal\n",
      "terminal\n",
      "terminal\n",
      "terminal\n"
     ]
    }
   ],
   "source": [
    "for state in m_1:\n",
    "    if any(p != 0 for p in state):\n",
    "        print(\"transition\")\n",
    "    else:\n",
    "        print(\"terminal\")"
   ]
  },
  {
   "cell_type": "code",
   "execution_count": null,
   "metadata": {},
   "outputs": [],
   "source": [
    "probs = list()\n",
    "for p in m_1[1]:\n",
    "    prob = p/sum(m_1[1])\n",
    "    probs.append(prob)"
   ]
  },
  {
   "cell_type": "code",
   "execution_count": 84,
   "metadata": {},
   "outputs": [
    {
     "data": {
      "text/plain": [
       "0.3333333333333333"
      ]
     },
     "execution_count": 84,
     "metadata": {},
     "output_type": "execute_result"
    }
   ],
   "source": [
    "3/9"
   ]
  },
  {
   "cell_type": "code",
   "execution_count": 85,
   "metadata": {},
   "outputs": [
    {
     "data": {
      "text/plain": [
       "0.16666666666666666"
      ]
     },
     "execution_count": 85,
     "metadata": {},
     "output_type": "execute_result"
    }
   ],
   "source": [
    "(1/2)*(3/9)"
   ]
  },
  {
   "cell_type": "code",
   "execution_count": 86,
   "metadata": {},
   "outputs": [
    {
     "data": {
      "text/plain": [
       "(6004799503160661, 36028797018963968)"
      ]
     },
     "execution_count": 86,
     "metadata": {},
     "output_type": "execute_result"
    }
   ],
   "source": [
    "((1/2)*(3/9)).as_integer_ratio()"
   ]
  },
  {
   "cell_type": "code",
   "execution_count": 87,
   "metadata": {},
   "outputs": [
    {
     "data": {
      "text/plain": [
       "0.21428571428571427"
      ]
     },
     "execution_count": 87,
     "metadata": {},
     "output_type": "execute_result"
    }
   ],
   "source": [
    "3/14"
   ]
  },
  {
   "cell_type": "code",
   "execution_count": 88,
   "metadata": {},
   "outputs": [
    {
     "data": {
      "text/plain": [
       "0.6428571428571429"
      ]
     },
     "execution_count": 88,
     "metadata": {},
     "output_type": "execute_result"
    }
   ],
   "source": [
    "9/14"
   ]
  },
  {
   "cell_type": "code",
   "execution_count": 93,
   "metadata": {},
   "outputs": [
    {
     "data": {
      "text/plain": [
       "0.7222222222222222"
      ]
     },
     "execution_count": 93,
     "metadata": {},
     "output_type": "execute_result"
    }
   ],
   "source": [
    "(1/2) * (4/9) + (1/2)"
   ]
  },
  {
   "cell_type": "code",
   "execution_count": 95,
   "metadata": {},
   "outputs": [
    {
     "data": {
      "text/plain": [
       "0.9999999999999999"
      ]
     },
     "execution_count": 95,
     "metadata": {},
     "output_type": "execute_result"
    }
   ],
   "source": [
    "(4/9) + (3/9) + (2/9)"
   ]
  },
  {
   "cell_type": "markdown",
   "metadata": {},
   "source": [
    "1/2, 3/9 = 1/3, 3/6 2/6 3/18"
   ]
  },
  {
   "cell_type": "markdown",
   "metadata": {},
   "source": [
    "possible typo in examples"
   ]
  },
  {
   "cell_type": "code",
   "execution_count": 116,
   "metadata": {},
   "outputs": [],
   "source": [
    "def get_index(m):\n",
    "\n",
    "    row_index = list()\n",
    "    \n",
    "    col_index = list()\n",
    "    \n",
    "    for state, prob in enumerate(m):\n",
    "        \n",
    "        row_index.append(state)\n",
    "        \n",
    "        cols = list()\n",
    "        \n",
    "        for index, prob in enumerate(prob):\n",
    "            \n",
    "            cols.append(index)\n",
    "            \n",
    "        col_index.append(cols)\n",
    "        \n",
    "    return(row_index, col_index)\n",
    "    \n",
    "    #for state in m:\n",
    "    #    \n",
    "    #    if \n",
    "    #    \n",
    "    #    state_probs = list()\n",
    "    #    \n",
    "    #    for p in state:\n",
    "    #            \n",
    "    #        prob = \"{}/{}\".format(p, sum(state))\n",
    "    #            \n",
    "    #        state_probs.append(prob)\n",
    "    #        \n",
    "    #    probs.append(state_probs)\n",
    "    #\n",
    "    #return(probs)"
   ]
  },
  {
   "cell_type": "code",
   "execution_count": 117,
   "metadata": {},
   "outputs": [
    {
     "data": {
      "text/plain": [
       "([0, 1, 2, 3, 4, 5],\n",
       " [[0, 1, 2, 3, 4, 5],\n",
       "  [0, 1, 2, 3, 4, 5],\n",
       "  [0, 1, 2, 3, 4, 5],\n",
       "  [0, 1, 2, 3, 4, 5],\n",
       "  [0, 1, 2, 3, 4, 5],\n",
       "  [0, 1, 2, 3, 4, 5]])"
      ]
     },
     "execution_count": 117,
     "metadata": {},
     "output_type": "execute_result"
    }
   ],
   "source": [
    "get_index(m_1)"
   ]
  },
  {
   "cell_type": "code",
   "execution_count": 120,
   "metadata": {},
   "outputs": [
    {
     "data": {
      "text/plain": [
       "[(0, 0), (1, 1)]"
      ]
     },
     "execution_count": 120,
     "metadata": {},
     "output_type": "execute_result"
    }
   ],
   "source": [
    "test = [(column, row.index(prob))for column, row in enumerate(m_1) if any(p != 0 for p in row)]\n",
    "test"
   ]
  },
  {
   "cell_type": "code",
   "execution_count": 125,
   "metadata": {},
   "outputs": [
    {
     "data": {
      "text/plain": [
       "[[0, 1, 0, 0, 0, 1],\n",
       " [4, 0, 0, 3, 2, 0],\n",
       " [0, 0, 0, 0, 0, 0],\n",
       " [0, 0, 0, 0, 0, 0],\n",
       " [0, 0, 0, 0, 0, 0],\n",
       " [0, 0, 0, 0, 0, 0]]"
      ]
     },
     "execution_count": 125,
     "metadata": {},
     "output_type": "execute_result"
    }
   ],
   "source": [
    "m_1"
   ]
  },
  {
   "cell_type": "code",
   "execution_count": 141,
   "metadata": {},
   "outputs": [
    {
     "data": {
      "text/plain": [
       "0.9444444444444444"
      ]
     },
     "execution_count": 141,
     "metadata": {},
     "output_type": "execute_result"
    }
   ],
   "source": [
    "1/2 + 4/9"
   ]
  },
  {
   "cell_type": "code",
   "execution_count": 130,
   "metadata": {},
   "outputs": [],
   "source": [
    "def find_terminal_states(m):\n",
    "    \n",
    "    transition_states = list()\n",
    "    \n",
    "    terminal_states = list()\n",
    "    \n",
    "    for state, probs in enumerate(m):\n",
    "        \n",
    "        if any(prob != 0 for prob in probs):\n",
    "            \n",
    "            transition_states.append(state)\n",
    "        \n",
    "        else:\n",
    "            \n",
    "            terminal_states.append(state)\n",
    "            \n",
    "    path = list()\n",
    "    \n",
    "    for term in terminal_states:\n",
    "        \n",
    "        for state, prob in enumerate(transition_states):\n",
    "            \n",
    "            if term == state and prob != 0:\n",
    "                \n",
    "                path.append([state, term])\n",
    "            \n",
    "    return(path)"
   ]
  },
  {
   "cell_type": "code",
   "execution_count": 131,
   "metadata": {},
   "outputs": [
    {
     "data": {
      "text/plain": [
       "[]"
      ]
     },
     "execution_count": 131,
     "metadata": {},
     "output_type": "execute_result"
    }
   ],
   "source": [
    "find_terminal_states(m_1)"
   ]
  },
  {
   "cell_type": "code",
   "execution_count": 132,
   "metadata": {},
   "outputs": [],
   "source": [
    "transition_states = [0, 1]\n",
    "terminal_states = [2, 3, 4, 5]"
   ]
  },
  {
   "cell_type": "code",
   "execution_count": 140,
   "metadata": {},
   "outputs": [
    {
     "data": {
      "text/plain": [
       "['0-0.5->1',\n",
       " '0-0.5->5',\n",
       " '1-0.4444444444444444->0',\n",
       " '1-0.3333333333333333->3',\n",
       " '1-0.2222222222222222->4']"
      ]
     },
     "execution_count": 140,
     "metadata": {},
     "output_type": "execute_result"
    }
   ],
   "source": [
    "transitions = list()\n",
    "for state1, probs in enumerate(m_1):\n",
    "    if state1 in transition_states:\n",
    "        for state2, prob in enumerate(probs):\n",
    "            if prob != 0:\n",
    "                transitions.append(\"{}-{}->{}\".format(state1, prob/sum(probs), state2))\n",
    "transitions"
   ]
  },
  {
   "cell_type": "code",
   "execution_count": 149,
   "metadata": {},
   "outputs": [],
   "source": [
    "def decimal(m):\n",
    "\n",
    "    probs = list()\n",
    "    \n",
    "    for state in m:\n",
    "        \n",
    "        state_probs = list()\n",
    "        \n",
    "        if any(p != 0 for p in state):\n",
    "        \n",
    "            for p in state:\n",
    "                \n",
    "                prob = p/sum(state)\n",
    "                \n",
    "                state_probs.append(prob)\n",
    "            \n",
    "        else:\n",
    "                \n",
    "            for p in state:\n",
    "                \n",
    "                prob = 0\n",
    "                \n",
    "                state_probs.append(prob)\n",
    "                \n",
    "        probs.append(state_probs)\n",
    "    \n",
    "    return(probs)"
   ]
  },
  {
   "cell_type": "code",
   "execution_count": 151,
   "metadata": {},
   "outputs": [],
   "source": [
    "markov_m_1 = decimal(m_1)"
   ]
  },
  {
   "cell_type": "code",
   "execution_count": 152,
   "metadata": {},
   "outputs": [
    {
     "ename": "TypeError",
     "evalue": "can't multiply sequence by non-int of type 'list'",
     "output_type": "error",
     "traceback": [
      "\u001b[0;31m---------------------------------------------------------------------------\u001b[0m",
      "\u001b[0;31mTypeError\u001b[0m                                 Traceback (most recent call last)",
      "\u001b[0;32m<ipython-input-152-f83b3ade879c>\u001b[0m in \u001b[0;36m<module>\u001b[0;34m()\u001b[0m\n\u001b[0;32m----> 1\u001b[0;31m \u001b[0mmarkov_m_1\u001b[0m \u001b[0;34m*\u001b[0m \u001b[0mmarkov_m_1\u001b[0m\u001b[0;34m\u001b[0m\u001b[0m\n\u001b[0m",
      "\u001b[0;31mTypeError\u001b[0m: can't multiply sequence by non-int of type 'list'"
     ]
    }
   ],
   "source": [
    "markov_m_1 * markov_m_1"
   ]
  },
  {
   "cell_type": "code",
   "execution_count": 154,
   "metadata": {},
   "outputs": [
    {
     "ename": "TypeError",
     "evalue": "'module' object is not callable",
     "output_type": "error",
     "traceback": [
      "\u001b[0;31m---------------------------------------------------------------------------\u001b[0m",
      "\u001b[0;31mTypeError\u001b[0m                                 Traceback (most recent call last)",
      "\u001b[0;32m<ipython-input-154-cce98bcc95b5>\u001b[0m in \u001b[0;36m<module>\u001b[0;34m()\u001b[0m\n\u001b[1;32m      1\u001b[0m \u001b[0;32mimport\u001b[0m \u001b[0marray\u001b[0m\u001b[0;34m\u001b[0m\u001b[0m\n\u001b[1;32m      2\u001b[0m \u001b[0;34m\u001b[0m\u001b[0m\n\u001b[0;32m----> 3\u001b[0;31m test = array(array(0, 1, 0, 0, 0, 1),\n\u001b[0m\u001b[1;32m      4\u001b[0m              \u001b[0marray\u001b[0m\u001b[0;34m(\u001b[0m\u001b[0;36m4\u001b[0m\u001b[0;34m,\u001b[0m \u001b[0;36m0\u001b[0m\u001b[0;34m,\u001b[0m \u001b[0;36m0\u001b[0m\u001b[0;34m,\u001b[0m \u001b[0;36m3\u001b[0m\u001b[0;34m,\u001b[0m \u001b[0;36m2\u001b[0m\u001b[0;34m,\u001b[0m \u001b[0;36m0\u001b[0m\u001b[0;34m)\u001b[0m\u001b[0;34m,\u001b[0m\u001b[0;34m\u001b[0m\u001b[0m\n\u001b[1;32m      5\u001b[0m              \u001b[0marray\u001b[0m\u001b[0;34m(\u001b[0m\u001b[0;36m0\u001b[0m\u001b[0;34m,\u001b[0m \u001b[0;36m0\u001b[0m\u001b[0;34m,\u001b[0m \u001b[0;36m0\u001b[0m\u001b[0;34m,\u001b[0m \u001b[0;36m0\u001b[0m\u001b[0;34m,\u001b[0m \u001b[0;36m0\u001b[0m\u001b[0;34m,\u001b[0m \u001b[0;36m0\u001b[0m\u001b[0;34m)\u001b[0m\u001b[0;34m,\u001b[0m\u001b[0;34m\u001b[0m\u001b[0m\n",
      "\u001b[0;31mTypeError\u001b[0m: 'module' object is not callable"
     ]
    }
   ],
   "source": [
    "import array\n",
    "\n",
    "test = array(array(0, 1, 0, 0, 0, 1),\n",
    "             array(4, 0, 0, 3, 2, 0),\n",
    "             array(0, 0, 0, 0, 0, 0),\n",
    "             array(0, 0, 0, 0, 0, 0),\n",
    "             array(0, 0, 0, 0, 0, 0),\n",
    "             array(0, 0, 0, 0, 0, 0))\n"
   ]
  },
  {
   "cell_type": "code",
   "execution_count": 155,
   "metadata": {},
   "outputs": [],
   "source": [
    "import numpy as np"
   ]
  },
  {
   "cell_type": "code",
   "execution_count": 159,
   "metadata": {},
   "outputs": [],
   "source": [
    "test = np.matrix([[0, 1, 0, 0, 0, 1],\n",
    " [4, 0, 0, 3, 2, 0],\n",
    " [0, 0, 0, 0, 0, 0],\n",
    " [0, 0, 0, 0, 0, 0],\n",
    " [0, 0, 0, 0, 0, 0],\n",
    " [0, 0, 0, 0, 0, 0]])"
   ]
  },
  {
   "cell_type": "code",
   "execution_count": 160,
   "metadata": {},
   "outputs": [
    {
     "data": {
      "text/plain": [
       "matrix([[4, 0, 0, 3, 2, 0],\n",
       "        [0, 4, 0, 0, 0, 4],\n",
       "        [0, 0, 0, 0, 0, 0],\n",
       "        [0, 0, 0, 0, 0, 0],\n",
       "        [0, 0, 0, 0, 0, 0],\n",
       "        [0, 0, 0, 0, 0, 0]])"
      ]
     },
     "execution_count": 160,
     "metadata": {},
     "output_type": "execute_result"
    }
   ],
   "source": [
    "test * test"
   ]
  },
  {
   "cell_type": "code",
   "execution_count": 161,
   "metadata": {},
   "outputs": [
    {
     "data": {
      "text/plain": [
       "matrix([[ 0, 16,  0,  0,  0, 16],\n",
       "        [64,  0,  0, 48, 32,  0],\n",
       "        [ 0,  0,  0,  0,  0,  0],\n",
       "        [ 0,  0,  0,  0,  0,  0],\n",
       "        [ 0,  0,  0,  0,  0,  0],\n",
       "        [ 0,  0,  0,  0,  0,  0]])"
      ]
     },
     "execution_count": 161,
     "metadata": {},
     "output_type": "execute_result"
    }
   ],
   "source": [
    "test**5"
   ]
  },
  {
   "cell_type": "code",
   "execution_count": 163,
   "metadata": {},
   "outputs": [],
   "source": [
    "results = list()\n",
    "for i in range(1, 5):\n",
    "    results.append(test**i)"
   ]
  },
  {
   "cell_type": "code",
   "execution_count": 164,
   "metadata": {},
   "outputs": [
    {
     "data": {
      "text/plain": [
       "[matrix([[0, 1, 0, 0, 0, 1],\n",
       "         [4, 0, 0, 3, 2, 0],\n",
       "         [0, 0, 0, 0, 0, 0],\n",
       "         [0, 0, 0, 0, 0, 0],\n",
       "         [0, 0, 0, 0, 0, 0],\n",
       "         [0, 0, 0, 0, 0, 0]]), matrix([[4, 0, 0, 3, 2, 0],\n",
       "         [0, 4, 0, 0, 0, 4],\n",
       "         [0, 0, 0, 0, 0, 0],\n",
       "         [0, 0, 0, 0, 0, 0],\n",
       "         [0, 0, 0, 0, 0, 0],\n",
       "         [0, 0, 0, 0, 0, 0]]), matrix([[ 0,  4,  0,  0,  0,  4],\n",
       "         [16,  0,  0, 12,  8,  0],\n",
       "         [ 0,  0,  0,  0,  0,  0],\n",
       "         [ 0,  0,  0,  0,  0,  0],\n",
       "         [ 0,  0,  0,  0,  0,  0],\n",
       "         [ 0,  0,  0,  0,  0,  0]]), matrix([[16,  0,  0, 12,  8,  0],\n",
       "         [ 0, 16,  0,  0,  0, 16],\n",
       "         [ 0,  0,  0,  0,  0,  0],\n",
       "         [ 0,  0,  0,  0,  0,  0],\n",
       "         [ 0,  0,  0,  0,  0,  0],\n",
       "         [ 0,  0,  0,  0,  0,  0]])]"
      ]
     },
     "execution_count": 164,
     "metadata": {},
     "output_type": "execute_result"
    }
   ],
   "source": [
    "results"
   ]
  },
  {
   "cell_type": "code",
   "execution_count": 165,
   "metadata": {},
   "outputs": [
    {
     "data": {
      "text/plain": [
       "0.38888888888888884"
      ]
     },
     "execution_count": 165,
     "metadata": {},
     "output_type": "execute_result"
    }
   ],
   "source": [
    "(4/9)*(1/2) + (1/2) * (3/9)"
   ]
  },
  {
   "cell_type": "code",
   "execution_count": 166,
   "metadata": {},
   "outputs": [
    {
     "data": {
      "text/plain": [
       "0.6428571428571429"
      ]
     },
     "execution_count": 166,
     "metadata": {},
     "output_type": "execute_result"
    }
   ],
   "source": [
    "9/14"
   ]
  },
  {
   "cell_type": "code",
   "execution_count": 212,
   "metadata": {},
   "outputs": [],
   "source": [
    "test = [[1, 1, 1],\n",
    "        [0, 0, 1],\n",
    "        [0, 0, 0]]"
   ]
  },
  {
   "cell_type": "code",
   "execution_count": 60,
   "metadata": {},
   "outputs": [],
   "source": [
    "def make_prob_mat(m):\n",
    "    \n",
    "    from fractions import Fraction\n",
    "\n",
    "    probs = list()\n",
    "    \n",
    "    for mat_ind, row in enumerate(m):\n",
    "        \n",
    "        row_probs = list()\n",
    "        row_sum = sum(row)\n",
    "        \n",
    "        if not row_sum:\n",
    "            for ind, _ in enumerate(row):\n",
    "                row_probs.append(Fraction())\n",
    "                \n",
    "                #if ind == mat_ind:\n",
    "                    #row_probs.append(Fraction())\n",
    "                #else:\n",
    "                    #row_probs.append(Fraction())\n",
    "        \n",
    "        else:\n",
    "            for prob in row:\n",
    "                if prob:\n",
    "                    prob = Fraction(prob, row_sum)\n",
    "\n",
    "                    row_probs.append(prob)\n",
    "                else:\n",
    "                    row_probs.append(Fraction())\n",
    "                \n",
    "        probs.append(row_probs)\n",
    "    \n",
    "    return(probs)"
   ]
  },
  {
   "cell_type": "code",
   "execution_count": 238,
   "metadata": {},
   "outputs": [],
   "source": [
    "probability_mat = get_prob_mat(test)"
   ]
  },
  {
   "cell_type": "code",
   "execution_count": 239,
   "metadata": {},
   "outputs": [
    {
     "data": {
      "text/plain": [
       "[[Fraction(1, 3), Fraction(1, 3), Fraction(1, 3)],\n",
       " [Fraction(0, 1), Fraction(0, 1), Fraction(1, 1)],\n",
       " [Fraction(0, 1), Fraction(0, 1), Fraction(0, 1)]]"
      ]
     },
     "execution_count": 239,
     "metadata": {},
     "output_type": "execute_result"
    }
   ],
   "source": [
    "probability_mat"
   ]
  },
  {
   "cell_type": "code",
   "execution_count": 240,
   "metadata": {},
   "outputs": [],
   "source": [
    "i_mat = [[Fraction(1), Fraction()],[Fraction(), Fraction(1)]]"
   ]
  },
  {
   "cell_type": "code",
   "execution_count": 241,
   "metadata": {},
   "outputs": [],
   "source": [
    "q_mat = [[probability_mat[0][0], probability_mat[0][1]], [probability_mat[1][0], probability_mat[1][1]]]"
   ]
  },
  {
   "cell_type": "code",
   "execution_count": 242,
   "metadata": {},
   "outputs": [],
   "source": [
    "r_mat = [probability_mat[0], probability_mat[1]]"
   ]
  },
  {
   "cell_type": "code",
   "execution_count": 243,
   "metadata": {},
   "outputs": [],
   "source": [
    "f_mat = [[(i_mat[0][0] - q_mat[0][0]), (i_mat[0][1] - q_mat[0][1])],\n",
    "         [(i_mat[1][0] - q_mat[1][0]), (i_mat[1][1] - q_mat[1][1])]]"
   ]
  },
  {
   "cell_type": "code",
   "execution_count": 244,
   "metadata": {},
   "outputs": [
    {
     "data": {
      "text/plain": [
       "[[Fraction(2, 3), Fraction(-1, 3)], [Fraction(0, 1), Fraction(1, 1)]]"
      ]
     },
     "execution_count": 244,
     "metadata": {},
     "output_type": "execute_result"
    }
   ],
   "source": [
    "f_mat"
   ]
  },
  {
   "cell_type": "code",
   "execution_count": 245,
   "metadata": {},
   "outputs": [],
   "source": [
    "def get_inverse(m):\n",
    "    \n",
    "    determinant = (m[0][0] * m[1][1]) - (m[0][1] * m[1][0])\n",
    "    \n",
    "    cofactor_mat = [[m[1][1], -m[0][1]], [-m[1][0], m[0][0]]]\n",
    "    \n",
    "    adjoint = [[cofactor_mat[0][0], cofactor_mat[1][0]],[cofactor_mat[0][1], cofactor_mat[1][1]]]\n",
    "    \n",
    "    inverse = [[adjoint[0][0]/determinant, adjoint[0][1]/determinant],\n",
    "               [adjoint[1][0]/determinant, adjoint[1][1]/determinant]]\n",
    "    \n",
    "    return(inverse)"
   ]
  },
  {
   "cell_type": "code",
   "execution_count": 246,
   "metadata": {},
   "outputs": [],
   "source": [
    "f_mat = get_inverse(f_mat)"
   ]
  },
  {
   "cell_type": "code",
   "execution_count": 247,
   "metadata": {},
   "outputs": [
    {
     "data": {
      "text/plain": [
       "[[Fraction(3, 2), Fraction(0, 1)], [Fraction(1, 2), Fraction(1, 1)]]"
      ]
     },
     "execution_count": 247,
     "metadata": {},
     "output_type": "execute_result"
    }
   ],
   "source": [
    "f_mat"
   ]
  },
  {
   "cell_type": "code",
   "execution_count": 248,
   "metadata": {},
   "outputs": [],
   "source": [
    "fr_mat = [[(f_mat[0][0]*r_mat[0][0] + f_mat[0][1]*r_mat[1][0]), (f_mat[0][0]*r_mat[0][1] + f_mat[0][1]*r_mat[1][1]), (f_mat[0][0]*r_mat[0][2] + f_mat[0][1]*r_mat[1][2])], \n",
    "          [(f_mat[1][0]*r_mat[0][0] + f_mat[1][1]*r_mat[1][0]), (f_mat[1][0]*r_mat[0][1] + f_mat[1][1]*r_mat[1][1]), (f_mat[1][0]*r_mat[0][2] + f_mat[1][1]*r_mat[1][2])]]"
   ]
  },
  {
   "cell_type": "code",
   "execution_count": 249,
   "metadata": {},
   "outputs": [
    {
     "data": {
      "text/plain": [
       "[[Fraction(1, 2), Fraction(1, 2), Fraction(1, 2)],\n",
       " [Fraction(1, 6), Fraction(1, 6), Fraction(7, 6)]]"
      ]
     },
     "execution_count": 249,
     "metadata": {},
     "output_type": "execute_result"
    }
   ],
   "source": [
    "fr_mat"
   ]
  },
  {
   "cell_type": "code",
   "execution_count": 250,
   "metadata": {},
   "outputs": [
    {
     "data": {
      "text/plain": [
       "[[0, 1, 0, 0, 0, 1],\n",
       " [4, 0, 0, 3, 2, 0],\n",
       " [0, 0, 0, 0, 0, 0],\n",
       " [0, 0, 0, 0, 0, 0],\n",
       " [0, 0, 0, 0, 0, 0],\n",
       " [0, 0, 0, 0, 0, 0]]"
      ]
     },
     "execution_count": 250,
     "metadata": {},
     "output_type": "execute_result"
    }
   ],
   "source": [
    "m_1"
   ]
  },
  {
   "cell_type": "code",
   "execution_count": 251,
   "metadata": {},
   "outputs": [],
   "source": [
    "m_1_prob = get_prob_mat(m_1)"
   ]
  },
  {
   "cell_type": "code",
   "execution_count": 355,
   "metadata": {},
   "outputs": [],
   "source": [
    "def make_r_matrix(m):\n",
    "    r_mat = list()\n",
    "    for state in m:\n",
    "        if any(p != 0 for p in state):\n",
    "            r_mat.append(state)\n",
    "            \n",
    "    return(r_mat)"
   ]
  },
  {
   "cell_type": "code",
   "execution_count": 375,
   "metadata": {},
   "outputs": [
    {
     "data": {
      "text/plain": [
       "[[0, 1, 0, 0, 0, 1], [4, 0, 0, 3, 2, 0]]"
      ]
     },
     "execution_count": 375,
     "metadata": {},
     "output_type": "execute_result"
    }
   ],
   "source": [
    "r_mat = make_r_matrix(m_1)\n",
    "r_mat"
   ]
  },
  {
   "cell_type": "code",
   "execution_count": 378,
   "metadata": {},
   "outputs": [],
   "source": [
    "def make_q_matrix(r_mat):\n",
    "    transition_cols = list(range(len(r_mat)))\n",
    "    q_mat = list()\n",
    "    for row in r_mat:\n",
    "        row_vals = list()\n",
    "        for ind, val in enumerate(row):\n",
    "            if ind in transition_cols:\n",
    "                row_vals.append(val)\n",
    "        q_mat.append(row_vals)\n",
    "    return(q_mat)"
   ]
  },
  {
   "cell_type": "code",
   "execution_count": 379,
   "metadata": {},
   "outputs": [
    {
     "data": {
      "text/plain": [
       "[[0, 1], [4, 0]]"
      ]
     },
     "execution_count": 379,
     "metadata": {},
     "output_type": "execute_result"
    }
   ],
   "source": [
    "make_q_matrix(r_mat)"
   ]
  },
  {
   "cell_type": "code",
   "execution_count": null,
   "metadata": {},
   "outputs": [],
   "source": [
    "def make_q_matrix_2(r_mat):\n",
    "    transition_cols = list(range(len(r_mat)))\n",
    "    q_mat = list()\n",
    "    for row in r_mat:\n",
    "        row_vals = list()\n",
    "        for ind, val in enumerate(row):\n",
    "            if ind not in transition_cols:\n",
    "                row_vals.append(val)\n",
    "        q_mat.append(row_vals)\n",
    "    return(q_mat)"
   ]
  },
  {
   "cell_type": "code",
   "execution_count": 358,
   "metadata": {},
   "outputs": [
    {
     "data": {
      "text/plain": [
       "[[0, 1], [4, 0]]"
      ]
     },
     "execution_count": 358,
     "metadata": {},
     "output_type": "execute_result"
    }
   ],
   "source": [
    "test = make_q_matrix(r_mat)\n",
    "test"
   ]
  },
  {
   "cell_type": "code",
   "execution_count": 365,
   "metadata": {},
   "outputs": [
    {
     "name": "stdout",
     "output_type": "stream",
     "text": [
      "[] []\n"
     ]
    }
   ],
   "source": [
    "#transition_cols = list(range(len(r_mat)))\n",
    "q_mat = list()\n",
    "r_mat = list()\n",
    "for row in r_mat:\n",
    "    #print(row)\n",
    "    q_vals = list()\n",
    "    r_vals = list()\n",
    "    for ind, val in enumerate(row):\n",
    "        if ind in list(range(len(r_mat))):\n",
    "            q_vals.append(val)\n",
    "#            print(q_vals)\n",
    "        else:\n",
    "            r_vals.append(val)\n",
    "    q_mat.append(q_vals)\n",
    "    r_mat.append(r_vals)\n",
    "print(q_mat, r_mat)"
   ]
  },
  {
   "cell_type": "code",
   "execution_count": 281,
   "metadata": {},
   "outputs": [
    {
     "data": {
      "text/plain": [
       "[0, 1]"
      ]
     },
     "execution_count": 281,
     "metadata": {},
     "output_type": "execute_result"
    }
   ],
   "source": [
    "list(range(len(r_mat)))"
   ]
  },
  {
   "cell_type": "code",
   "execution_count": 271,
   "metadata": {},
   "outputs": [],
   "source": [
    "def make_identity_matrix(l):\n",
    "    i_mat = list()\n",
    "    for r in range(l):\n",
    "        row = [\"none\"]*l\n",
    "        for ind, _ in enumerate(row):\n",
    "            if ind == r:\n",
    "                val = 1\n",
    "            else:\n",
    "                val = 0\n",
    "            row[ind] = val\n",
    "        i_mat.append(row)\n",
    "    return(i_mat)"
   ]
  },
  {
   "cell_type": "code",
   "execution_count": 272,
   "metadata": {},
   "outputs": [
    {
     "data": {
      "text/plain": [
       "[[1, 0, 0, 0, 0],\n",
       " [0, 1, 0, 0, 0],\n",
       " [0, 0, 1, 0, 0],\n",
       " [0, 0, 0, 1, 0],\n",
       " [0, 0, 0, 0, 1]]"
      ]
     },
     "execution_count": 272,
     "metadata": {},
     "output_type": "execute_result"
    }
   ],
   "source": [
    "make_identity_matrix(5)"
   ]
  },
  {
   "cell_type": "code",
   "execution_count": 284,
   "metadata": {},
   "outputs": [
    {
     "data": {
      "text/plain": [
       "[[0, 1, 0, 0, 0, 1],\n",
       " [4, 0, 0, 3, 2, 0],\n",
       " [0, 0, 0, 0, 0, 0],\n",
       " [0, 0, 0, 0, 0, 0],\n",
       " [0, 0, 0, 0, 0, 0],\n",
       " [0, 0, 0, 0, 0, 0]]"
      ]
     },
     "execution_count": 284,
     "metadata": {},
     "output_type": "execute_result"
    }
   ],
   "source": [
    "m_1"
   ]
  },
  {
   "cell_type": "code",
   "execution_count": 341,
   "metadata": {},
   "outputs": [
    {
     "data": {
      "text/plain": [
       "[[Fraction(0, 1),\n",
       "  Fraction(1, 2),\n",
       "  Fraction(0, 1),\n",
       "  Fraction(0, 1),\n",
       "  Fraction(0, 1),\n",
       "  Fraction(1, 2)],\n",
       " [Fraction(4, 9),\n",
       "  Fraction(0, 1),\n",
       "  Fraction(0, 1),\n",
       "  Fraction(1, 3),\n",
       "  Fraction(2, 9),\n",
       "  Fraction(0, 1)],\n",
       " [Fraction(0, 1),\n",
       "  Fraction(0, 1),\n",
       "  Fraction(0, 1),\n",
       "  Fraction(0, 1),\n",
       "  Fraction(0, 1),\n",
       "  Fraction(0, 1)],\n",
       " [Fraction(0, 1),\n",
       "  Fraction(0, 1),\n",
       "  Fraction(0, 1),\n",
       "  Fraction(0, 1),\n",
       "  Fraction(0, 1),\n",
       "  Fraction(0, 1)],\n",
       " [Fraction(0, 1),\n",
       "  Fraction(0, 1),\n",
       "  Fraction(0, 1),\n",
       "  Fraction(0, 1),\n",
       "  Fraction(0, 1),\n",
       "  Fraction(0, 1)],\n",
       " [Fraction(0, 1),\n",
       "  Fraction(0, 1),\n",
       "  Fraction(0, 1),\n",
       "  Fraction(0, 1),\n",
       "  Fraction(0, 1),\n",
       "  Fraction(0, 1)]]"
      ]
     },
     "execution_count": 341,
     "metadata": {},
     "output_type": "execute_result"
    }
   ],
   "source": [
    "m_1_prob = make_prob_mat(m_1)\n",
    "m_1_prob"
   ]
  },
  {
   "cell_type": "code",
   "execution_count": 342,
   "metadata": {},
   "outputs": [
    {
     "data": {
      "text/plain": [
       "[[Fraction(0, 1),\n",
       "  Fraction(1, 2),\n",
       "  Fraction(0, 1),\n",
       "  Fraction(0, 1),\n",
       "  Fraction(0, 1),\n",
       "  Fraction(1, 2)],\n",
       " [Fraction(4, 9),\n",
       "  Fraction(0, 1),\n",
       "  Fraction(0, 1),\n",
       "  Fraction(1, 3),\n",
       "  Fraction(2, 9),\n",
       "  Fraction(0, 1)]]"
      ]
     },
     "execution_count": 342,
     "metadata": {},
     "output_type": "execute_result"
    }
   ],
   "source": [
    "m_1_r = make_r_matrix(m_1_prob)\n",
    "m_1_r"
   ]
  },
  {
   "cell_type": "code",
   "execution_count": 343,
   "metadata": {},
   "outputs": [
    {
     "data": {
      "text/plain": [
       "([], [])"
      ]
     },
     "execution_count": 343,
     "metadata": {},
     "output_type": "execute_result"
    }
   ],
   "source": [
    "m_1_q = make_q_matrix(m_1_r)\n",
    "m_1_q"
   ]
  },
  {
   "cell_type": "code",
   "execution_count": 289,
   "metadata": {},
   "outputs": [],
   "source": [
    "m_1_i = make_identity_matrix(len(m_1_q))"
   ]
  },
  {
   "cell_type": "code",
   "execution_count": 297,
   "metadata": {},
   "outputs": [],
   "source": [
    "def make_f_matrix(i_mat, q_mat):\n",
    "    f_mat = list()\n",
    "    for row_i, row_q in m_1_i, m_1_q:\n",
    "        rows = list()\n",
    "        for val_i, val_q in row_i, row_q:\n",
    "            rows.append(Fraction(val_i - val_q))\n",
    "        f_mat.append(rows)\n",
    "    return(f_mat)\n",
    "            "
   ]
  },
  {
   "cell_type": "code",
   "execution_count": 298,
   "metadata": {},
   "outputs": [],
   "source": [
    "m_1_f = make_f_matrix(m_1_i, m_1_q)"
   ]
  },
  {
   "cell_type": "code",
   "execution_count": 299,
   "metadata": {},
   "outputs": [],
   "source": [
    "def make_inverse_matrix(f_mat):\n",
    "    if len(f_mat) <= 2:\n",
    "        get_inverse(f_mat)\n",
    "    else:\n",
    "        print(\"too big\")"
   ]
  },
  {
   "cell_type": "code",
   "execution_count": 300,
   "metadata": {},
   "outputs": [],
   "source": [
    "make_inverse_matrix(m_1_f)"
   ]
  },
  {
   "cell_type": "markdown",
   "metadata": {},
   "source": [
    "f_mat = [[(i_mat[0][0] - q_mat[0][0]), (i_mat[0][1] - q_mat[0][1])],\n",
    "         [(i_mat[1][0] - q_mat[1][0]), (i_mat[1][1] - q_mat[1][1])]]"
   ]
  },
  {
   "cell_type": "markdown",
   "metadata": {},
   "source": [
    "f_mat = list()\n",
    "for row_i, row_q in m_1_i, m_1_q:\n",
    "    rows = list()\n",
    "    for val_i, val_q in row_i, row_q:\n",
    "        rows.append(Fraction(val_i - val_q))\n",
    "    f_mat.append(rows)\n",
    "f_mat\n",
    "    #print(\"row_i: {}\\nrow_q: {}\".format(row_i, row_q))"
   ]
  },
  {
   "cell_type": "code",
   "execution_count": null,
   "metadata": {},
   "outputs": [],
   "source": [
    "fr_mat = [[(f_mat[0][0]*r_mat[0][0] + f_mat[0][1]*r_mat[1][0]), (f_mat[0][0]*r_mat[0][1] + f_mat[0][1]*r_mat[1][1]), (f_mat[0][0]*r_mat[0][2] + f_mat[0][1]*r_mat[1][2])], \n",
    "          [(f_mat[1][0]*r_mat[0][0] + f_mat[1][1]*r_mat[1][0]), (f_mat[1][0]*r_mat[0][1] + f_mat[1][1]*r_mat[1][1]), (f_mat[1][0]*r_mat[0][2] + f_mat[1][1]*r_mat[1][2])]]"
   ]
  },
  {
   "cell_type": "code",
   "execution_count": 326,
   "metadata": {},
   "outputs": [],
   "source": [
    "def multiply_matrices(f_mat, r_mat):\n",
    "    assert len(f_mat[0]) == len(r_mat)\n",
    "    mult_mat = list()\n",
    "    r_cols = list(zip(*r_mat))\n",
    "    for f_ind, row in enumerate(f_mat):\n",
    "        mult_rows = list()\n",
    "        for r_ind, col in enumerate(r_cols):\n",
    "            zipped_vals = list(zip(f_mat[f_ind], r_cols[r_ind]))\n",
    "            mult_rows.append(sum([a*b for a, b in zipped_vals]))\n",
    "        mult_mat.append(mult_rows)\n",
    "    return(mult_mat)"
   ]
  },
  {
   "cell_type": "code",
   "execution_count": 335,
   "metadata": {},
   "outputs": [
    {
     "data": {
      "text/plain": [
       "6"
      ]
     },
     "execution_count": 335,
     "metadata": {},
     "output_type": "execute_result"
    }
   ],
   "source": [
    "len(m_1_r[0])"
   ]
  },
  {
   "cell_type": "code",
   "execution_count": 328,
   "metadata": {},
   "outputs": [],
   "source": [
    "m_1_fr = multiply_matrices(m_1_f, m_1_r)"
   ]
  },
  {
   "cell_type": "code",
   "execution_count": 331,
   "metadata": {},
   "outputs": [
    {
     "data": {
      "text/plain": [
       "[[Fraction(-4, 9),\n",
       "  Fraction(1, 2),\n",
       "  Fraction(0, 1),\n",
       "  Fraction(-1, 3),\n",
       "  Fraction(-2, 9),\n",
       "  Fraction(1, 2)],\n",
       " [Fraction(16, 81),\n",
       "  Fraction(-1, 4),\n",
       "  Fraction(0, 1),\n",
       "  Fraction(4, 27),\n",
       "  Fraction(8, 81),\n",
       "  Fraction(-1, 4)]]"
      ]
     },
     "execution_count": 331,
     "metadata": {},
     "output_type": "execute_result"
    }
   ],
   "source": [
    "m_1_fr"
   ]
  },
  {
   "cell_type": "code",
   "execution_count": 332,
   "metadata": {},
   "outputs": [
    {
     "data": {
      "text/plain": [
       "6"
      ]
     },
     "execution_count": 332,
     "metadata": {},
     "output_type": "execute_result"
    }
   ],
   "source": [
    "len(m_1_fr[1])"
   ]
  },
  {
   "cell_type": "code",
   "execution_count": 304,
   "metadata": {},
   "outputs": [],
   "source": [
    "def matmult(a,b):\n",
    "    zip_b = zip(*b)\n",
    "    # uncomment next line if python 3 : \n",
    "    # zip_b = list(zip_b)\n",
    "    return [[sum(ele_a*ele_b for ele_a, ele_b in zip(row_a, col_b)) \n",
    "             for col_b in zip_b] for row_a in a]\n",
    "\n",
    "x = [[1,2,3],[4,5,6],[7,8,9],[10,11,12]]\n",
    "y = [[1,2],[1,2],[3,4]]"
   ]
  },
  {
   "cell_type": "code",
   "execution_count": 306,
   "metadata": {},
   "outputs": [
    {
     "data": {
      "text/plain": [
       "([[1, 2, 3], [4, 5, 6], [7, 8, 9], [10, 11, 12]], [[1, 2], [1, 2], [3, 4]])"
      ]
     },
     "execution_count": 306,
     "metadata": {},
     "output_type": "execute_result"
    }
   ],
   "source": [
    "x = [[1,2,3],[4,5,6],[7,8,9],[10,11,12]]\n",
    "y = [[1,2],[1,2],[3,4]]\n",
    "x, y"
   ]
  },
  {
   "cell_type": "code",
   "execution_count": 319,
   "metadata": {},
   "outputs": [
    {
     "data": {
      "text/plain": [
       "[(1, 1, 3), (2, 2, 4)]"
      ]
     },
     "execution_count": 319,
     "metadata": {},
     "output_type": "execute_result"
    }
   ],
   "source": [
    "y_cols = list(zip(*y))\n",
    "y_cols"
   ]
  },
  {
   "cell_type": "code",
   "execution_count": 316,
   "metadata": {},
   "outputs": [],
   "source": [
    "zipped_vals = list(zip(x[0], y_cols[0]))"
   ]
  },
  {
   "cell_type": "code",
   "execution_count": 318,
   "metadata": {},
   "outputs": [
    {
     "data": {
      "text/plain": [
       "12"
      ]
     },
     "execution_count": 318,
     "metadata": {},
     "output_type": "execute_result"
    }
   ],
   "source": [
    "sum([a*b for a, b in zipped_vals])"
   ]
  },
  {
   "cell_type": "code",
   "execution_count": 321,
   "metadata": {},
   "outputs": [
    {
     "data": {
      "text/plain": [
       "[[12, 18], [27, 42], [42, 66], [57, 90]]"
      ]
     },
     "execution_count": 321,
     "metadata": {},
     "output_type": "execute_result"
    }
   ],
   "source": [
    "mult_mat = list()\n",
    "y_cols = list(zip(*y))\n",
    "for x_ind, row in enumerate(x):\n",
    "    mult_rows = list()\n",
    "    for y_ind, col in enumerate(y_cols):\n",
    "        zipped_vals = list(zip(x[x_ind], y_cols[y_ind]))\n",
    "        mult_rows.append(sum([a*b for a, b in zipped_vals]))\n",
    "    mult_mat.append(mult_rows)\n",
    "mult_mat"
   ]
  },
  {
   "cell_type": "markdown",
   "metadata": {},
   "source": [
    "# Fix this noise up, also the next 3 cells.\n",
    "\n",
    "def find_terminal_states(m):\n",
    "    \n",
    "    transition_states = list()\n",
    "    \n",
    "    terminal_states = list()\n",
    "    \n",
    "    for state, probs in enumerate(m):\n",
    "        \n",
    "        if any(prob != 0 for prob in probs):\n",
    "            \n",
    "            transition_states.append(state)\n",
    "        \n",
    "        else:\n",
    "            \n",
    "            terminal_states.append(state)\n",
    "            \n",
    "    #path = list()\n",
    "    \n",
    "    #for term in terminal_states:\n",
    "        \n",
    "        #for state, prob in enumerate(transition_states):\n",
    "            \n",
    "            #if term == state and prob != 0:\n",
    "                \n",
    "                #path.append([state, term])\n",
    "            \n",
    "    return(transition_states, terminal_states)"
   ]
  },
  {
   "cell_type": "markdown",
   "metadata": {},
   "source": [
    "find_terminal_states(m_1)"
   ]
  },
  {
   "cell_type": "markdown",
   "metadata": {},
   "source": [
    "def make_r_matrix(m):\n",
    "    r_mat = list()\n",
    "    for state in m:\n",
    "        if any(p != 0 for p in state):\n",
    "            r_mat.append(state)\n",
    "            \n",
    "    return(r_mat)"
   ]
  },
  {
   "cell_type": "code",
   "execution_count": 23,
   "metadata": {},
   "outputs": [],
   "source": [
    "from fractions import Fraction"
   ]
  },
  {
   "cell_type": "code",
   "execution_count": 3,
   "metadata": {},
   "outputs": [],
   "source": [
    "import math\n",
    "from functools import reduce"
   ]
  },
  {
   "cell_type": "code",
   "execution_count": 130,
   "metadata": {},
   "outputs": [
    {
     "data": {
      "text/plain": [
       "[1, 14, 7, 14]"
      ]
     },
     "execution_count": 130,
     "metadata": {},
     "output_type": "execute_result"
    }
   ],
   "source": [
    "denominators"
   ]
  },
  {
   "cell_type": "code",
   "execution_count": 131,
   "metadata": {},
   "outputs": [
    {
     "data": {
      "text/plain": [
       "[0, 3, 1, 9]"
      ]
     },
     "execution_count": 131,
     "metadata": {},
     "output_type": "execute_result"
    }
   ],
   "source": [
    "numerators"
   ]
  },
  {
   "cell_type": "code",
   "execution_count": 1,
   "metadata": {},
   "outputs": [],
   "source": [
    "denominators = [1, 14, 7, 14]\n",
    "numerators = [0, 3, 1, 9]"
   ]
  },
  {
   "cell_type": "code",
   "execution_count": 140,
   "metadata": {},
   "outputs": [],
   "source": [
    "lcm = reduce((lambda x, y: int((x * y)/math.gcd(x, y))), denominators)"
   ]
  },
  {
   "cell_type": "code",
   "execution_count": 141,
   "metadata": {},
   "outputs": [
    {
     "data": {
      "text/plain": [
       "14"
      ]
     },
     "execution_count": 141,
     "metadata": {},
     "output_type": "execute_result"
    }
   ],
   "source": [
    "lcm"
   ]
  },
  {
   "cell_type": "code",
   "execution_count": 5,
   "metadata": {},
   "outputs": [],
   "source": [
    "lcm = reduce((lambda x, y: int((x * y)/math.gcd(x, y))), denominators)\n",
    "multiply = list()\n",
    "answer = list()\n",
    "for d in denominators:\n",
    "    multiply.append(lcm/d)\n",
    "for a, b in zip(multiply, numerators):\n",
    "    answer.append(int(a*b))\n",
    "answer.append(lcm)"
   ]
  },
  {
   "cell_type": "code",
   "execution_count": 6,
   "metadata": {},
   "outputs": [
    {
     "data": {
      "text/plain": [
       "[0, 3, 2, 9, 14]"
      ]
     },
     "execution_count": 6,
     "metadata": {},
     "output_type": "execute_result"
    }
   ],
   "source": [
    "answer"
   ]
  },
  {
   "cell_type": "code",
   "execution_count": 86,
   "metadata": {},
   "outputs": [
    {
     "data": {
      "text/plain": [
       "7"
      ]
     },
     "execution_count": 86,
     "metadata": {},
     "output_type": "execute_result"
    }
   ],
   "source": [
    "math.gcd(denominators[3], math.gcd(denominators[1], denominators[2]))"
   ]
  },
  {
   "cell_type": "code",
   "execution_count": 94,
   "metadata": {},
   "outputs": [
    {
     "data": {
      "text/plain": [
       "7"
      ]
     },
     "execution_count": 94,
     "metadata": {},
     "output_type": "execute_result"
    }
   ],
   "source": [
    "(reduce(math.gcd, denominators))"
   ]
  },
  {
   "cell_type": "code",
   "execution_count": 100,
   "metadata": {},
   "outputs": [
    {
     "ename": "TypeError",
     "evalue": "'float' object cannot be interpreted as an integer",
     "output_type": "error",
     "traceback": [
      "\u001b[0;31m---------------------------------------------------------------------------\u001b[0m",
      "\u001b[0;31mTypeError\u001b[0m                                 Traceback (most recent call last)",
      "\u001b[0;32m<ipython-input-100-1e02d433e503>\u001b[0m in \u001b[0;36m<module>\u001b[0;34m()\u001b[0m\n\u001b[0;32m----> 1\u001b[0;31m \u001b[0mreduce\u001b[0m\u001b[0;34m(\u001b[0m\u001b[0;32mlambda\u001b[0m \u001b[0mx\u001b[0m\u001b[0;34m,\u001b[0m \u001b[0my\u001b[0m\u001b[0;34m:\u001b[0m \u001b[0;34m(\u001b[0m\u001b[0mx\u001b[0m\u001b[0;34m*\u001b[0m\u001b[0my\u001b[0m\u001b[0;34m)\u001b[0m\u001b[0;34m/\u001b[0m\u001b[0mmath\u001b[0m\u001b[0;34m.\u001b[0m\u001b[0mgcd\u001b[0m\u001b[0;34m(\u001b[0m\u001b[0mx\u001b[0m\u001b[0;34m,\u001b[0m \u001b[0my\u001b[0m\u001b[0;34m)\u001b[0m\u001b[0;34m,\u001b[0m \u001b[0mdenominators\u001b[0m\u001b[0;34m)\u001b[0m\u001b[0;34m\u001b[0m\u001b[0m\n\u001b[0m",
      "\u001b[0;32m<ipython-input-100-1e02d433e503>\u001b[0m in \u001b[0;36m<lambda>\u001b[0;34m(x, y)\u001b[0m\n\u001b[0;32m----> 1\u001b[0;31m \u001b[0mreduce\u001b[0m\u001b[0;34m(\u001b[0m\u001b[0;32mlambda\u001b[0m \u001b[0mx\u001b[0m\u001b[0;34m,\u001b[0m \u001b[0my\u001b[0m\u001b[0;34m:\u001b[0m \u001b[0;34m(\u001b[0m\u001b[0mx\u001b[0m\u001b[0;34m*\u001b[0m\u001b[0my\u001b[0m\u001b[0;34m)\u001b[0m\u001b[0;34m/\u001b[0m\u001b[0mmath\u001b[0m\u001b[0;34m.\u001b[0m\u001b[0mgcd\u001b[0m\u001b[0;34m(\u001b[0m\u001b[0mx\u001b[0m\u001b[0;34m,\u001b[0m \u001b[0my\u001b[0m\u001b[0;34m)\u001b[0m\u001b[0;34m,\u001b[0m \u001b[0mdenominators\u001b[0m\u001b[0;34m)\u001b[0m\u001b[0;34m\u001b[0m\u001b[0m\n\u001b[0m",
      "\u001b[0;31mTypeError\u001b[0m: 'float' object cannot be interpreted as an integer"
     ]
    }
   ],
   "source": [
    "reduce(lambda x, y: (x*y)/math.gcd(x, y), denominators)"
   ]
  },
  {
   "cell_type": "code",
   "execution_count": 101,
   "metadata": {},
   "outputs": [
    {
     "data": {
      "text/plain": [
       "14.0"
      ]
     },
     "execution_count": 101,
     "metadata": {},
     "output_type": "execute_result"
    }
   ],
   "source": [
    "(14*7)/math.gcd(14, 7)"
   ]
  },
  {
   "cell_type": "code",
   "execution_count": 102,
   "metadata": {},
   "outputs": [
    {
     "data": {
      "text/plain": [
       "14.0"
      ]
     },
     "execution_count": 102,
     "metadata": {},
     "output_type": "execute_result"
    }
   ],
   "source": [
    "(14*14)/math.gcd(14, 14)"
   ]
  },
  {
   "cell_type": "code",
   "execution_count": 106,
   "metadata": {},
   "outputs": [
    {
     "data": {
      "text/plain": [
       "7"
      ]
     },
     "execution_count": 106,
     "metadata": {},
     "output_type": "execute_result"
    }
   ],
   "source": [
    "math.gcd(14, 7)"
   ]
  },
  {
   "cell_type": "code",
   "execution_count": 107,
   "metadata": {},
   "outputs": [
    {
     "data": {
      "text/plain": [
       "98"
      ]
     },
     "execution_count": 107,
     "metadata": {},
     "output_type": "execute_result"
    }
   ],
   "source": [
    "14 * 7"
   ]
  },
  {
   "cell_type": "code",
   "execution_count": 108,
   "metadata": {},
   "outputs": [
    {
     "data": {
      "text/plain": [
       "14.0"
      ]
     },
     "execution_count": 108,
     "metadata": {},
     "output_type": "execute_result"
    }
   ],
   "source": [
    "98/7"
   ]
  },
  {
   "cell_type": "code",
   "execution_count": 55,
   "metadata": {},
   "outputs": [],
   "source": [
    "def answer(m):\n",
    "    \n",
    "    from fractions import Fraction\n",
    "    import math\n",
    "    from functools import reduce\n",
    "\n",
    "    probs = list()\n",
    "    \n",
    "    for row in m:\n",
    "        \n",
    "        row_probs = list()\n",
    "        row_sum = sum(row)\n",
    "        \n",
    "        for val in row:\n",
    "            if row_sum != 0:\n",
    "                \n",
    "                prob = Fraction(val, row_sum)\n",
    "                \n",
    "            else:\n",
    "                \n",
    "                prob = Fraction()\n",
    "                \n",
    "            row_probs.append(prob)   \n",
    "            \n",
    "        probs.append(row_probs)\n",
    "\n",
    "    trans_mat = list()\n",
    "    \n",
    "    for state in probs:\n",
    "        if any(p != 0 for p in state):\n",
    "            trans_mat.append(state)\n",
    "        \n",
    "    transition_states = list()\n",
    "    terminal_states = list()\n",
    "    \n",
    "    for state, probs in enumerate(probs):\n",
    "        if any(prob != 0 for prob in probs):\n",
    "            transition_states.append(state)\n",
    "        else:\n",
    "            terminal_states.append(state)\n",
    "    \n",
    "    q_mat = list()\n",
    "    r_mat = list()\n",
    "    \n",
    "    for row in trans_mat:\n",
    "        q_vals = list()\n",
    "        r_vals = list()\n",
    "        for ind, val in enumerate(row):\n",
    "            if ind in transition_states:\n",
    "                q_vals.append(val)\n",
    "            elif ind in terminal_states:\n",
    "                r_vals.append(val)\n",
    "        q_mat.append(q_vals)\n",
    "        r_mat.append(r_vals)\n",
    "        \n",
    "    l = len(q_mat)\n",
    "    \n",
    "    i_mat = list()\n",
    "    for r in range(l):\n",
    "        row = [\"none\"]*l\n",
    "        for ind, _ in enumerate(row):\n",
    "            if ind == r:\n",
    "                val = 1\n",
    "            else:\n",
    "                val = 0\n",
    "            row[ind] = val\n",
    "        i_mat.append(row)\n",
    "        \n",
    "    f_mat = list()\n",
    "    for row_i, row_q in zip(i_mat, q_mat):\n",
    "        rows = list()\n",
    "        for val_i, val_q in zip(row_i, row_q):\n",
    "            rows.append(Fraction(val_i - val_q))\n",
    "        f_mat.append(rows)\n",
    "    \n",
    "    if len(f_mat) <= 2:\n",
    "        determinant = (f_mat[0][0] * f_mat[1][1]) - (f_mat[0][1] * f_mat[1][0])\n",
    "        cofactor_mat = [[f_mat[1][1], -f_mat[0][1]], [-f_mat[1][0], f_mat[0][0]]]\n",
    "        f_mat = [[cofactor_mat[0][0]/determinant, cofactor_mat[0][1]/determinant],\n",
    "                   [cofactor_mat[1][0]/determinant, cofactor_mat[1][1]/determinant]]\n",
    "\n",
    "    else:\n",
    "        print(\"too big\")\n",
    "    \n",
    "    assert len(f_mat[0]) == len(r_mat)\n",
    "    fr_mat = list()\n",
    "    r_cols = list(zip(*r_mat))\n",
    "    for f_ind, row in enumerate(f_mat):\n",
    "        fr_rows = list()\n",
    "        for r_ind, col in enumerate(r_cols):\n",
    "            zipped_vals = list(zip(f_mat[f_ind], r_cols[r_ind]))\n",
    "            fr_rows.append(sum([a*b for a, b in zipped_vals]))\n",
    "        fr_mat.append(fr_rows)\n",
    "    \n",
    "    denominators = list()\n",
    "    numerators = list()\n",
    "    for d in fr_mat[0]:\n",
    "        numerators.append(d.numerator)\n",
    "        denominators.append(d.denominator)\n",
    "\n",
    "    lcm = reduce((lambda x, y: int((x * y)/math.gcd(x, y))), denominators)\n",
    "\n",
    "    answer = list()\n",
    "    for d, n in zip(denominators, numerators):\n",
    "        answer.append(int(n*(lcm/d)))\n",
    "    answer.append(lcm)\n",
    "\n",
    "    return(answer)"
   ]
  },
  {
   "cell_type": "code",
   "execution_count": 56,
   "metadata": {},
   "outputs": [
    {
     "data": {
      "text/plain": [
       "[7, 6, 8, 21]"
      ]
     },
     "execution_count": 56,
     "metadata": {},
     "output_type": "execute_result"
    }
   ],
   "source": [
    "answer(m_2)"
   ]
  },
  {
   "cell_type": "code",
   "execution_count": 46,
   "metadata": {},
   "outputs": [
    {
     "data": {
      "text/plain": [
       "([0, 1], [2, 3, 4, 5])"
      ]
     },
     "execution_count": 46,
     "metadata": {},
     "output_type": "execute_result"
    }
   ],
   "source": [
    "from fractions import Fraction\n",
    "import math\n",
    "from functools import reduce\n",
    "\n",
    "probs = list()\n",
    "    \n",
    "for row in m_1:\n",
    "        \n",
    "    row_probs = list()\n",
    "    row_sum = sum(row)\n",
    "        \n",
    "    for val in row:\n",
    "        if row_sum != 0:\n",
    "                \n",
    "            prob = Fraction(val, row_sum)\n",
    "                \n",
    "        else:\n",
    "                \n",
    "            prob = Fraction()\n",
    "                \n",
    "        row_probs.append(prob)   \n",
    "            \n",
    "    probs.append(row_probs)\n",
    "\n",
    "trans_mat = list()\n",
    "    \n",
    "for state in probs:\n",
    "    if any(p != 0 for p in state):\n",
    "        trans_mat.append(state)\n",
    "        \n",
    "transition_states = list()\n",
    "terminal_states = list()\n",
    "    \n",
    "for state, probs in enumerate(probs):\n",
    "    if any(prob != 0 for prob in probs):\n",
    "        transition_states.append(state)\n",
    "    else:\n",
    "        terminal_states.append(state)\n",
    "    \n",
    "transition_states, terminal_states"
   ]
  },
  {
   "cell_type": "code",
   "execution_count": 25,
   "metadata": {},
   "outputs": [],
   "source": [
    "def make_prob_mat(m):\n",
    "    \n",
    "    from fractions import Fraction\n",
    "\n",
    "    probs = list()\n",
    "    \n",
    "    for mat_ind, row in enumerate(m):\n",
    "        \n",
    "        row_probs = list()\n",
    "        row_sum = sum(row)\n",
    "        \n",
    "        for val in row:\n",
    "            if row_sum != 0:\n",
    "                \n",
    "                prob = Fraction(val, row_sum)\n",
    "                \n",
    "            else:\n",
    "                \n",
    "                prob = Fraction()\n",
    "                \n",
    "            row_probs.append(prob)   \n",
    "            \n",
    "        probs.append(row_probs)\n",
    "        \n",
    "#        if not row_sum:\n",
    "#            for ind, _ in enumerate(row):\n",
    "#                row_probs.append(Fraction())\n",
    "                \n",
    "                #if ind == mat_ind:\n",
    "                    #row_probs.append(Fraction())\n",
    "                #else:\n",
    "                    #row_probs.append(Fraction())\n",
    "        \n",
    "#        else:\n",
    "#            for prob in row:\n",
    "#                if prob:\n",
    "#                    prob = Fraction(prob, row_sum)\n",
    "\n",
    "#                    row_probs.append(prob)\n",
    "#                else:\n",
    "#                    row_probs.append(Fraction())\n",
    "                \n",
    "#        probs.append(row_probs)\n",
    "    \n",
    "    return(probs)"
   ]
  },
  {
   "cell_type": "code",
   "execution_count": 2,
   "metadata": {},
   "outputs": [],
   "source": [
    "def make_q_r_matrices(m):\n",
    "    \n",
    "    transition_states = list()\n",
    "    terminal_states = list()\n",
    "    \n",
    "    for state, probs in enumerate(m):\n",
    "        if any(prob != 0 for prob in probs):\n",
    "            transition_states.append(state)\n",
    "        else:\n",
    "            terminal_states.append(state)\n",
    "            \n",
    "    trans_mat = list()\n",
    "    \n",
    "    for state in m:\n",
    "        if any(p != 0 for p in state):\n",
    "            trans_mat.append(state)\n",
    "    \n",
    "    q_mat = list()\n",
    "    r_mat = list()\n",
    "    \n",
    "    for row in trans_mat:\n",
    "        q_vals = list()\n",
    "        r_vals = list()\n",
    "        for ind, val in enumerate(row):\n",
    "            if ind in transition_states:\n",
    "                q_vals.append(val)\n",
    "            elif ind in terminal_states:\n",
    "                r_vals.append(val)\n",
    "        q_mat.append(q_vals)\n",
    "        r_mat.append(r_vals)\n",
    "    \n",
    "    return(q_mat, r_mat)"
   ]
  },
  {
   "cell_type": "code",
   "execution_count": 3,
   "metadata": {},
   "outputs": [],
   "source": [
    "def make_identity_matrix(l):\n",
    "    i_mat = list()\n",
    "    for r in range(l):\n",
    "        row = [\"none\"]*l\n",
    "        for ind, _ in enumerate(row):\n",
    "            if ind == r:\n",
    "                val = 1\n",
    "            else:\n",
    "                val = 0\n",
    "            row[ind] = val\n",
    "        i_mat.append(row)\n",
    "    return(i_mat)"
   ]
  },
  {
   "cell_type": "code",
   "execution_count": 4,
   "metadata": {},
   "outputs": [],
   "source": [
    "def get_inverse(m):\n",
    "    \n",
    "    determinant = (m[0][0] * m[1][1]) - (m[0][1] * m[1][0])\n",
    "    \n",
    "    cofactor_mat = [[m[1][1], -m[0][1]], [-m[1][0], m[0][0]]]\n",
    "    \n",
    "    adjoint = [[cofactor_mat[0][0], cofactor_mat[0][1]],[cofactor_mat[1][0], cofactor_mat[1][1]]]\n",
    "    \n",
    "    inverse = [[adjoint[0][0]/determinant, adjoint[0][1]/determinant],\n",
    "               [adjoint[1][0]/determinant, adjoint[1][1]/determinant]]\n",
    "    \n",
    "    return(inverse)"
   ]
  },
  {
   "cell_type": "code",
   "execution_count": 5,
   "metadata": {},
   "outputs": [],
   "source": [
    "def make_f_matrix(i_mat, q_mat):\n",
    "    \n",
    "    from fractions import Fraction\n",
    "    \n",
    "    f_mat = list()\n",
    "    for row_i, row_q in zip(i_mat, q_mat):\n",
    "        rows = list()\n",
    "        for val_i, val_q in zip(row_i, row_q):\n",
    "            rows.append(Fraction(val_i - val_q))\n",
    "        f_mat.append(rows)\n",
    "    \n",
    "    if len(f_mat) <= 2:\n",
    "        inverse = get_inverse(f_mat)\n",
    "    else:\n",
    "        print(\"too big\")\n",
    "    return(inverse)\n"
   ]
  },
  {
   "cell_type": "markdown",
   "metadata": {},
   "source": [
    "def make_inverse_matrix(f_mat):\n",
    "    if len(f_mat) <= 2:\n",
    "        inverse = get_inverse(f_mat)\n",
    "    else:\n",
    "        print(\"too big\")\n",
    "    return(inverse)"
   ]
  },
  {
   "cell_type": "code",
   "execution_count": 6,
   "metadata": {},
   "outputs": [],
   "source": [
    "def multiply_matrices(f_mat, r_mat):\n",
    "    \n",
    "    assert len(f_mat[0]) == len(r_mat)\n",
    "    mult_mat = list()\n",
    "    r_cols = list(zip(*r_mat))\n",
    "    for f_ind, row in enumerate(f_mat):\n",
    "        mult_rows = list()\n",
    "        for r_ind, col in enumerate(r_cols):\n",
    "            zipped_vals = list(zip(f_mat[f_ind], r_cols[r_ind]))\n",
    "            mult_rows.append(sum([a*b for a, b in zipped_vals]))\n",
    "        mult_mat.append(mult_rows)\n",
    "    return(mult_mat)"
   ]
  },
  {
   "cell_type": "code",
   "execution_count": 23,
   "metadata": {},
   "outputs": [],
   "source": [
    "m_1 = [\n",
    "    [0,1,0,0,0,1],\n",
    "    [4,0,0,3,2,0],\n",
    "    [0,0,0,0,0,0],\n",
    "    [0,0,0,0,0,0],\n",
    "    [0,0,0,0,0,0],\n",
    "    [0,0,0,0,0,0]\n",
    "]"
   ]
  },
  {
   "cell_type": "code",
   "execution_count": 26,
   "metadata": {},
   "outputs": [
    {
     "data": {
      "text/plain": [
       "[[Fraction(0, 1),\n",
       "  Fraction(1, 2),\n",
       "  Fraction(0, 1),\n",
       "  Fraction(0, 1),\n",
       "  Fraction(0, 1),\n",
       "  Fraction(1, 2)],\n",
       " [Fraction(4, 9),\n",
       "  Fraction(0, 1),\n",
       "  Fraction(0, 1),\n",
       "  Fraction(1, 3),\n",
       "  Fraction(2, 9),\n",
       "  Fraction(0, 1)],\n",
       " [Fraction(0, 1),\n",
       "  Fraction(0, 1),\n",
       "  Fraction(0, 1),\n",
       "  Fraction(0, 1),\n",
       "  Fraction(0, 1),\n",
       "  Fraction(0, 1)],\n",
       " [Fraction(0, 1),\n",
       "  Fraction(0, 1),\n",
       "  Fraction(0, 1),\n",
       "  Fraction(0, 1),\n",
       "  Fraction(0, 1),\n",
       "  Fraction(0, 1)],\n",
       " [Fraction(0, 1),\n",
       "  Fraction(0, 1),\n",
       "  Fraction(0, 1),\n",
       "  Fraction(0, 1),\n",
       "  Fraction(0, 1),\n",
       "  Fraction(0, 1)],\n",
       " [Fraction(0, 1),\n",
       "  Fraction(0, 1),\n",
       "  Fraction(0, 1),\n",
       "  Fraction(0, 1),\n",
       "  Fraction(0, 1),\n",
       "  Fraction(0, 1)]]"
      ]
     },
     "execution_count": 26,
     "metadata": {},
     "output_type": "execute_result"
    }
   ],
   "source": [
    "m_1_p = make_prob_mat(m_1)\n",
    "m_1_p"
   ]
  },
  {
   "cell_type": "code",
   "execution_count": 9,
   "metadata": {},
   "outputs": [],
   "source": [
    "m_1_q_r = make_q_r_matrices(m_1_p)"
   ]
  },
  {
   "cell_type": "code",
   "execution_count": 10,
   "metadata": {},
   "outputs": [
    {
     "data": {
      "text/plain": [
       "([[Fraction(0, 1), Fraction(1, 2)], [Fraction(4, 9), Fraction(0, 1)]],\n",
       " [[Fraction(0, 1), Fraction(0, 1), Fraction(0, 1), Fraction(1, 2)],\n",
       "  [Fraction(0, 1), Fraction(1, 3), Fraction(2, 9), Fraction(0, 1)]])"
      ]
     },
     "execution_count": 10,
     "metadata": {},
     "output_type": "execute_result"
    }
   ],
   "source": [
    "m_1_q_r"
   ]
  },
  {
   "cell_type": "code",
   "execution_count": 11,
   "metadata": {},
   "outputs": [
    {
     "data": {
      "text/plain": [
       "[[1, 0], [0, 1]]"
      ]
     },
     "execution_count": 11,
     "metadata": {},
     "output_type": "execute_result"
    }
   ],
   "source": [
    "m_1_i = make_identity_matrix(len(m_1_q_r[0]))\n",
    "m_1_i"
   ]
  },
  {
   "cell_type": "code",
   "execution_count": 12,
   "metadata": {},
   "outputs": [
    {
     "data": {
      "text/plain": [
       "[[Fraction(9, 7), Fraction(9, 14)], [Fraction(4, 7), Fraction(9, 7)]]"
      ]
     },
     "execution_count": 12,
     "metadata": {},
     "output_type": "execute_result"
    }
   ],
   "source": [
    "m_1_f = make_f_matrix(m_1_i, m_1_q_r[0])\n",
    "m_1_f"
   ]
  },
  {
   "cell_type": "markdown",
   "metadata": {},
   "source": [
    "m_1_inv = make_inverse_matrix(m_1_f)\n",
    "m_1_inv"
   ]
  },
  {
   "cell_type": "code",
   "execution_count": 13,
   "metadata": {},
   "outputs": [
    {
     "data": {
      "text/plain": [
       "[[Fraction(0, 1), Fraction(3, 14), Fraction(1, 7), Fraction(9, 14)],\n",
       " [Fraction(0, 1), Fraction(3, 7), Fraction(2, 7), Fraction(2, 7)]]"
      ]
     },
     "execution_count": 13,
     "metadata": {},
     "output_type": "execute_result"
    }
   ],
   "source": [
    "m_1_fr = multiply_matrices(m_1_f, m_1_q_r[1])\n",
    "m_1_fr"
   ]
  },
  {
   "cell_type": "code",
   "execution_count": 14,
   "metadata": {},
   "outputs": [
    {
     "data": {
      "text/plain": [
       "[0, 3, 2, 9, 14]"
      ]
     },
     "execution_count": 14,
     "metadata": {},
     "output_type": "execute_result"
    }
   ],
   "source": [
    "import math\n",
    "from functools import reduce\n",
    "\n",
    "denominators = list()\n",
    "numerators = list()\n",
    "for d in m_1_fr[0]:\n",
    "    numerators.append(d.numerator)\n",
    "    denominators.append(d.denominator)\n",
    "\n",
    "lcm = reduce((lambda x, y: int((x * y)/math.gcd(x, y))), denominators)\n",
    "\n",
    "answer = list()\n",
    "for d, n in zip(denominators, numerators):\n",
    "    answer.append(int(n*(lcm/d)))\n",
    "answer.append(lcm)\n",
    "\n",
    "answer"
   ]
  },
  {
   "cell_type": "code",
   "execution_count": null,
   "metadata": {},
   "outputs": [],
   "source": []
  }
 ],
 "metadata": {
  "kernelspec": {
   "display_name": "Python 3",
   "language": "python",
   "name": "python3"
  },
  "language_info": {
   "codemirror_mode": {
    "name": "ipython",
    "version": 3
   },
   "file_extension": ".py",
   "mimetype": "text/x-python",
   "name": "python",
   "nbconvert_exporter": "python",
   "pygments_lexer": "ipython3",
   "version": "3.7.2"
  }
 },
 "nbformat": 4,
 "nbformat_minor": 2
}
