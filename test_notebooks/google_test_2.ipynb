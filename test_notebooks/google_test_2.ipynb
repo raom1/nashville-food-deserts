{
 "cells": [
  {
   "cell_type": "code",
   "execution_count": 111,
   "metadata": {},
   "outputs": [],
   "source": [
    "def answer_1(m):\n",
    "    \n",
    "    from fractions import Fraction\n",
    "    import math\n",
    "    from functools import reduce\n",
    "\n",
    "    probs = list()\n",
    "    \n",
    "    for row in m:\n",
    "        \n",
    "        row_probs = list()\n",
    "        row_sum = sum(row)\n",
    "        \n",
    "        for val in row:\n",
    "            if row_sum != 0:\n",
    "                \n",
    "                prob = Fraction(val, row_sum)\n",
    "                \n",
    "            else:\n",
    "                \n",
    "                prob = Fraction()\n",
    "                \n",
    "            row_probs.append(prob)   \n",
    "            \n",
    "        probs.append(row_probs)\n",
    "\n",
    "    trans_mat = list()\n",
    "    \n",
    "    for state in probs:\n",
    "        if any(p != 0 for p in state):\n",
    "            trans_mat.append(state)\n",
    "        \n",
    "    transition_states = list()\n",
    "    terminal_states = list()\n",
    "    \n",
    "    for state, probs in enumerate(probs):\n",
    "        if any(prob != 0 for prob in probs):\n",
    "            transition_states.append(state)\n",
    "        else:\n",
    "            terminal_states.append(state)\n",
    "    \n",
    "    q_mat = list()\n",
    "    r_mat = list()\n",
    "    \n",
    "    for row in trans_mat:\n",
    "        q_vals = list()\n",
    "        r_vals = list()\n",
    "        for ind, val in enumerate(row):\n",
    "            if ind in transition_states:\n",
    "                q_vals.append(val)\n",
    "            elif ind in terminal_states:\n",
    "                r_vals.append(val)\n",
    "        q_mat.append(q_vals)\n",
    "        r_mat.append(r_vals)\n",
    "        \n",
    "    l = len(q_mat)\n",
    "    \n",
    "    i_mat = list()\n",
    "    for r in range(l):\n",
    "        row = [\"none\"]*l\n",
    "        for ind, _ in enumerate(row):\n",
    "            if ind == r:\n",
    "                val = 1\n",
    "            else:\n",
    "                val = 0\n",
    "            row[ind] = val\n",
    "        i_mat.append(row)\n",
    "        \n",
    "    f_mat = list()\n",
    "    for row_i, row_q in zip(i_mat, q_mat):\n",
    "        rows = list()\n",
    "        for val_i, val_q in zip(row_i, row_q):\n",
    "            rows.append(Fraction(val_i - val_q))\n",
    "        f_mat.append(rows)\n",
    "    \n",
    "    if len(f_mat) <= 2:\n",
    "        determinant = (f_mat[0][0] * f_mat[1][1]) - (f_mat[0][1] * f_mat[1][0])\n",
    "        cofactor_mat = [[f_mat[1][1], -f_mat[0][1]], [-f_mat[1][0], f_mat[0][0]]]\n",
    "        f_mat = [[cofactor_mat[0][0]/determinant, cofactor_mat[0][1]/determinant],\n",
    "                   [cofactor_mat[1][0]/determinant, cofactor_mat[1][1]/determinant]]\n",
    "\n",
    "    else:\n",
    "        print(\"too big\")\n",
    "    \n",
    "    assert len(f_mat[0]) == len(r_mat)\n",
    "    fr_mat = list()\n",
    "    r_cols = list(zip(*r_mat))\n",
    "    for f_ind, row in enumerate(f_mat):\n",
    "        fr_rows = list()\n",
    "        for r_ind, col in enumerate(r_cols):\n",
    "            zipped_vals = list(zip(f_mat[f_ind], r_cols[r_ind]))\n",
    "            fr_rows.append(sum([a*b for a, b in zipped_vals]))\n",
    "        fr_mat.append(fr_rows)\n",
    "    \n",
    "    denominators = list()\n",
    "    numerators = list()\n",
    "    for d in fr_mat[0]:\n",
    "        numerators.append(d.numerator)\n",
    "        denominators.append(d.denominator)\n",
    "\n",
    "    lcm = reduce((lambda x, y: int((x * y)/math.gcd(x, y))), denominators)\n",
    "\n",
    "    answer = list()\n",
    "    for d, n in zip(denominators, numerators):\n",
    "        answer.append(int(n*(lcm/d)))\n",
    "    answer.append(lcm)\n",
    "\n",
    "    return(answer)"
   ]
  },
  {
   "cell_type": "code",
   "execution_count": 112,
   "metadata": {},
   "outputs": [
    {
     "data": {
      "text/plain": [
       "[7, 6, 8, 21]"
      ]
     },
     "execution_count": 112,
     "metadata": {},
     "output_type": "execute_result"
    }
   ],
   "source": [
    "answer_1(test_1)"
   ]
  },
  {
   "cell_type": "code",
   "execution_count": 1,
   "metadata": {},
   "outputs": [],
   "source": [
    "m_1 = [\n",
    "    [0,1,0,0,0,1],\n",
    "    [4,0,0,3,2,0],\n",
    "    [0,0,0,0,0,0],\n",
    "    [0,0,0,0,0,0],\n",
    "    [0,0,0,0,0,0],\n",
    "    [0,0,0,0,0,0]\n",
    "]\n",
    "\n",
    "m_2 = [[0, 2, 1, 0, 0],\n",
    "      [0, 0, 0, 3, 4],\n",
    "      [0, 0, 0, 0, 0],\n",
    "      [0, 0, 0, 0, 0],\n",
    "      [0, 0, 0, 0, 0]]"
   ]
  },
  {
   "cell_type": "markdown",
   "metadata": {},
   "source": [
    "m_1 solution is [0, 3, 2, 9, 14]\n",
    "\n",
    "\n",
    "m_2 solution is [7, 6, 8, 21]"
   ]
  },
  {
   "cell_type": "code",
   "execution_count": 3,
   "metadata": {},
   "outputs": [
    {
     "data": {
      "text/plain": [
       "[0, 3, 2, 9, 14]"
      ]
     },
     "execution_count": 3,
     "metadata": {},
     "output_type": "execute_result"
    }
   ],
   "source": [
    "answer(m_1)"
   ]
  },
  {
   "cell_type": "code",
   "execution_count": 4,
   "metadata": {},
   "outputs": [
    {
     "data": {
      "text/plain": [
       "[7, 6, 8, 21]"
      ]
     },
     "execution_count": 4,
     "metadata": {},
     "output_type": "execute_result"
    }
   ],
   "source": [
    "answer(m_2)"
   ]
  },
  {
   "cell_type": "markdown",
   "metadata": {},
   "source": [
    "Make some more matrices to practice with"
   ]
  },
  {
   "cell_type": "code",
   "execution_count": 126,
   "metadata": {},
   "outputs": [],
   "source": [
    "m_3 = [[1, 4, 5, 0, 0, 0, 3, 0, 0, 0],\n",
    "       [6, 3, 0, 2, 0, 17, 0, 0, 5, 0],\n",
    "       [0, 0, 0, 5, 0, 0, 0, 0, 0, 0],\n",
    "       [0, 6, 0, 0, 7, 0, 0, 1, 0, 0],\n",
    "       [0, 0, 0, 0, 0, 5, 3, 0, 1, 0],\n",
    "       [0, 0, 3, 0, 4, 0, 12, 1, 0, 0],\n",
    "       [1, 0, 2, 4, 0, 0, 3, 0, 0, 2],\n",
    "       [0, 0, 0, 0, 0, 0, 0, 0, 0, 0],\n",
    "       [0, 0, 0, 0, 0, 0, 0, 0, 0, 0],\n",
    "       [0, 0, 0, 0, 0, 0, 0, 0, 0, 0]]"
   ]
  },
  {
   "cell_type": "code",
   "execution_count": 33,
   "metadata": {},
   "outputs": [
    {
     "data": {
      "text/plain": [
       "[(1, 6, 0, 0, 0, 0, 1, 0, 0, 0),\n",
       " (4, 3, 0, 6, 0, 0, 0, 0, 0, 0),\n",
       " (5, 0, 0, 0, 0, 3, 2, 0, 0, 0),\n",
       " (0, 2, 5, 0, 0, 0, 4, 0, 0, 0),\n",
       " (0, 0, 0, 7, 0, 4, 0, 0, 0, 0),\n",
       " (0, 17, 0, 0, 5, 0, 0, 0, 0, 0),\n",
       " (3, 0, 0, 0, 3, 12, 3, 0, 0, 0),\n",
       " (0, 0, 0, 1, 0, 1, 0, 0, 0, 0),\n",
       " (0, 5, 0, 0, 1, 0, 0, 0, 0, 0),\n",
       " (0, 0, 0, 0, 0, 0, 2, 0, 0, 0)]"
      ]
     },
     "execution_count": 33,
     "metadata": {},
     "output_type": "execute_result"
    }
   ],
   "source": [
    "col_wise = list(zip(*m_3))\n",
    "col_wise"
   ]
  },
  {
   "cell_type": "code",
   "execution_count": 27,
   "metadata": {},
   "outputs": [
    {
     "name": "stdout",
     "output_type": "stream",
     "text": [
      "13\n",
      "33\n",
      "5\n",
      "14\n",
      "9\n",
      "20\n",
      "12\n",
      "0\n",
      "0\n",
      "0\n"
     ]
    }
   ],
   "source": [
    "for row in m_3:\n",
    "    print(sum(row))"
   ]
  },
  {
   "cell_type": "code",
   "execution_count": 28,
   "metadata": {},
   "outputs": [],
   "source": [
    "from fractions import Fraction, gcd"
   ]
  },
  {
   "cell_type": "code",
   "execution_count": 29,
   "metadata": {},
   "outputs": [
    {
     "data": {
      "text/plain": [
       "[[Fraction(1, 13),\n",
       "  Fraction(4, 13),\n",
       "  Fraction(5, 13),\n",
       "  Fraction(0, 1),\n",
       "  Fraction(0, 1),\n",
       "  Fraction(0, 1),\n",
       "  Fraction(3, 13),\n",
       "  Fraction(0, 1),\n",
       "  Fraction(0, 1),\n",
       "  Fraction(0, 1)],\n",
       " [Fraction(2, 11),\n",
       "  Fraction(1, 11),\n",
       "  Fraction(0, 1),\n",
       "  Fraction(2, 33),\n",
       "  Fraction(0, 1),\n",
       "  Fraction(17, 33),\n",
       "  Fraction(0, 1),\n",
       "  Fraction(0, 1),\n",
       "  Fraction(5, 33),\n",
       "  Fraction(0, 1)],\n",
       " [Fraction(0, 1),\n",
       "  Fraction(0, 1),\n",
       "  Fraction(0, 1),\n",
       "  Fraction(1, 1),\n",
       "  Fraction(0, 1),\n",
       "  Fraction(0, 1),\n",
       "  Fraction(0, 1),\n",
       "  Fraction(0, 1),\n",
       "  Fraction(0, 1),\n",
       "  Fraction(0, 1)],\n",
       " [Fraction(0, 1),\n",
       "  Fraction(3, 7),\n",
       "  Fraction(0, 1),\n",
       "  Fraction(0, 1),\n",
       "  Fraction(1, 2),\n",
       "  Fraction(0, 1),\n",
       "  Fraction(0, 1),\n",
       "  Fraction(1, 14),\n",
       "  Fraction(0, 1),\n",
       "  Fraction(0, 1)],\n",
       " [Fraction(0, 1),\n",
       "  Fraction(0, 1),\n",
       "  Fraction(0, 1),\n",
       "  Fraction(0, 1),\n",
       "  Fraction(0, 1),\n",
       "  Fraction(5, 9),\n",
       "  Fraction(1, 3),\n",
       "  Fraction(0, 1),\n",
       "  Fraction(1, 9),\n",
       "  Fraction(0, 1)],\n",
       " [Fraction(0, 1),\n",
       "  Fraction(0, 1),\n",
       "  Fraction(3, 20),\n",
       "  Fraction(0, 1),\n",
       "  Fraction(1, 5),\n",
       "  Fraction(0, 1),\n",
       "  Fraction(3, 5),\n",
       "  Fraction(1, 20),\n",
       "  Fraction(0, 1),\n",
       "  Fraction(0, 1)],\n",
       " [Fraction(1, 12),\n",
       "  Fraction(0, 1),\n",
       "  Fraction(1, 6),\n",
       "  Fraction(1, 3),\n",
       "  Fraction(0, 1),\n",
       "  Fraction(0, 1),\n",
       "  Fraction(1, 4),\n",
       "  Fraction(0, 1),\n",
       "  Fraction(0, 1),\n",
       "  Fraction(1, 6)],\n",
       " [Fraction(0, 1),\n",
       "  Fraction(0, 1),\n",
       "  Fraction(0, 1),\n",
       "  Fraction(0, 1),\n",
       "  Fraction(0, 1),\n",
       "  Fraction(0, 1),\n",
       "  Fraction(0, 1),\n",
       "  Fraction(0, 1),\n",
       "  Fraction(0, 1),\n",
       "  Fraction(0, 1)],\n",
       " [Fraction(0, 1),\n",
       "  Fraction(0, 1),\n",
       "  Fraction(0, 1),\n",
       "  Fraction(0, 1),\n",
       "  Fraction(0, 1),\n",
       "  Fraction(0, 1),\n",
       "  Fraction(0, 1),\n",
       "  Fraction(0, 1),\n",
       "  Fraction(0, 1),\n",
       "  Fraction(0, 1)],\n",
       " [Fraction(0, 1),\n",
       "  Fraction(0, 1),\n",
       "  Fraction(0, 1),\n",
       "  Fraction(0, 1),\n",
       "  Fraction(0, 1),\n",
       "  Fraction(0, 1),\n",
       "  Fraction(0, 1),\n",
       "  Fraction(0, 1),\n",
       "  Fraction(0, 1),\n",
       "  Fraction(0, 1)]]"
      ]
     },
     "execution_count": 29,
     "metadata": {},
     "output_type": "execute_result"
    }
   ],
   "source": [
    "probs = list()\n",
    "    \n",
    "for row in m_3:\n",
    "        \n",
    "    row_probs = list()\n",
    "    row_sum = sum(row)\n",
    "        \n",
    "    for val in row:\n",
    "        if row_sum != 0:\n",
    "                \n",
    "            prob = Fraction(val, row_sum)\n",
    "                \n",
    "        else:\n",
    "                \n",
    "            prob = Fraction()\n",
    "                \n",
    "        row_probs.append(prob)   \n",
    "            \n",
    "    probs.append(row_probs)\n",
    "\n",
    "probs"
   ]
  },
  {
   "cell_type": "code",
   "execution_count": 30,
   "metadata": {},
   "outputs": [
    {
     "data": {
      "text/plain": [
       "([[Fraction(1, 13),\n",
       "   Fraction(4, 13),\n",
       "   Fraction(5, 13),\n",
       "   Fraction(0, 1),\n",
       "   Fraction(0, 1),\n",
       "   Fraction(0, 1),\n",
       "   Fraction(3, 13)],\n",
       "  [Fraction(2, 11),\n",
       "   Fraction(1, 11),\n",
       "   Fraction(0, 1),\n",
       "   Fraction(2, 33),\n",
       "   Fraction(0, 1),\n",
       "   Fraction(17, 33),\n",
       "   Fraction(0, 1)],\n",
       "  [Fraction(0, 1),\n",
       "   Fraction(0, 1),\n",
       "   Fraction(0, 1),\n",
       "   Fraction(1, 1),\n",
       "   Fraction(0, 1),\n",
       "   Fraction(0, 1),\n",
       "   Fraction(0, 1)],\n",
       "  [Fraction(0, 1),\n",
       "   Fraction(3, 7),\n",
       "   Fraction(0, 1),\n",
       "   Fraction(0, 1),\n",
       "   Fraction(1, 2),\n",
       "   Fraction(0, 1),\n",
       "   Fraction(0, 1)],\n",
       "  [Fraction(0, 1),\n",
       "   Fraction(0, 1),\n",
       "   Fraction(0, 1),\n",
       "   Fraction(0, 1),\n",
       "   Fraction(0, 1),\n",
       "   Fraction(5, 9),\n",
       "   Fraction(1, 3)],\n",
       "  [Fraction(0, 1),\n",
       "   Fraction(0, 1),\n",
       "   Fraction(3, 20),\n",
       "   Fraction(0, 1),\n",
       "   Fraction(1, 5),\n",
       "   Fraction(0, 1),\n",
       "   Fraction(3, 5)],\n",
       "  [Fraction(1, 12),\n",
       "   Fraction(0, 1),\n",
       "   Fraction(1, 6),\n",
       "   Fraction(1, 3),\n",
       "   Fraction(0, 1),\n",
       "   Fraction(0, 1),\n",
       "   Fraction(1, 4)]],\n",
       " [[Fraction(0, 1), Fraction(0, 1), Fraction(0, 1)],\n",
       "  [Fraction(0, 1), Fraction(5, 33), Fraction(0, 1)],\n",
       "  [Fraction(0, 1), Fraction(0, 1), Fraction(0, 1)],\n",
       "  [Fraction(1, 14), Fraction(0, 1), Fraction(0, 1)],\n",
       "  [Fraction(0, 1), Fraction(1, 9), Fraction(0, 1)],\n",
       "  [Fraction(1, 20), Fraction(0, 1), Fraction(0, 1)],\n",
       "  [Fraction(0, 1), Fraction(0, 1), Fraction(1, 6)]])"
      ]
     },
     "execution_count": 30,
     "metadata": {},
     "output_type": "execute_result"
    }
   ],
   "source": [
    "trans_mat = list()\n",
    "    \n",
    "for state in probs:\n",
    "    if any(p != 0 for p in state):\n",
    "            trans_mat.append(state)\n",
    "        \n",
    "transition_states = list()\n",
    "terminal_states = list()\n",
    "    \n",
    "for state, probs in enumerate(probs):\n",
    "    if any(prob != 0 for prob in probs):\n",
    "        transition_states.append(state)\n",
    "    else:\n",
    "        terminal_states.append(state)\n",
    "    \n",
    "q_mat = list()\n",
    "r_mat = list()\n",
    "    \n",
    "for row in trans_mat:\n",
    "    q_vals = list()\n",
    "    r_vals = list()\n",
    "    for ind, val in enumerate(row):\n",
    "        if ind in transition_states:\n",
    "            q_vals.append(val)\n",
    "        elif ind in terminal_states:\n",
    "            r_vals.append(val)\n",
    "    q_mat.append(q_vals)\n",
    "    r_mat.append(r_vals)\n",
    "    \n",
    "q_mat, r_mat"
   ]
  },
  {
   "cell_type": "code",
   "execution_count": 31,
   "metadata": {},
   "outputs": [
    {
     "data": {
      "text/plain": [
       "[[1, 0, 0, 0, 0, 0, 0],\n",
       " [0, 1, 0, 0, 0, 0, 0],\n",
       " [0, 0, 1, 0, 0, 0, 0],\n",
       " [0, 0, 0, 1, 0, 0, 0],\n",
       " [0, 0, 0, 0, 1, 0, 0],\n",
       " [0, 0, 0, 0, 0, 1, 0],\n",
       " [0, 0, 0, 0, 0, 0, 1]]"
      ]
     },
     "execution_count": 31,
     "metadata": {},
     "output_type": "execute_result"
    }
   ],
   "source": [
    "l = len(q_mat)\n",
    "    \n",
    "i_mat = list()\n",
    "for r in range(l):\n",
    "    row = [\"none\"]*l\n",
    "    for ind, _ in enumerate(row):\n",
    "        if ind == r:\n",
    "            val = 1\n",
    "        else:\n",
    "            val = 0\n",
    "        row[ind] = val\n",
    "    i_mat.append(row)\n",
    "    \n",
    "i_mat"
   ]
  },
  {
   "cell_type": "code",
   "execution_count": 32,
   "metadata": {},
   "outputs": [
    {
     "data": {
      "text/plain": [
       "[[Fraction(12, 13),\n",
       "  Fraction(-4, 13),\n",
       "  Fraction(-5, 13),\n",
       "  Fraction(0, 1),\n",
       "  Fraction(0, 1),\n",
       "  Fraction(0, 1),\n",
       "  Fraction(-3, 13)],\n",
       " [Fraction(-2, 11),\n",
       "  Fraction(10, 11),\n",
       "  Fraction(0, 1),\n",
       "  Fraction(-2, 33),\n",
       "  Fraction(0, 1),\n",
       "  Fraction(-17, 33),\n",
       "  Fraction(0, 1)],\n",
       " [Fraction(0, 1),\n",
       "  Fraction(0, 1),\n",
       "  Fraction(1, 1),\n",
       "  Fraction(-1, 1),\n",
       "  Fraction(0, 1),\n",
       "  Fraction(0, 1),\n",
       "  Fraction(0, 1)],\n",
       " [Fraction(0, 1),\n",
       "  Fraction(-3, 7),\n",
       "  Fraction(0, 1),\n",
       "  Fraction(1, 1),\n",
       "  Fraction(-1, 2),\n",
       "  Fraction(0, 1),\n",
       "  Fraction(0, 1)],\n",
       " [Fraction(0, 1),\n",
       "  Fraction(0, 1),\n",
       "  Fraction(0, 1),\n",
       "  Fraction(0, 1),\n",
       "  Fraction(1, 1),\n",
       "  Fraction(-5, 9),\n",
       "  Fraction(-1, 3)],\n",
       " [Fraction(0, 1),\n",
       "  Fraction(0, 1),\n",
       "  Fraction(-3, 20),\n",
       "  Fraction(0, 1),\n",
       "  Fraction(-1, 5),\n",
       "  Fraction(1, 1),\n",
       "  Fraction(-3, 5)],\n",
       " [Fraction(-1, 12),\n",
       "  Fraction(0, 1),\n",
       "  Fraction(-1, 6),\n",
       "  Fraction(-1, 3),\n",
       "  Fraction(0, 1),\n",
       "  Fraction(0, 1),\n",
       "  Fraction(3, 4)]]"
      ]
     },
     "execution_count": 32,
     "metadata": {},
     "output_type": "execute_result"
    }
   ],
   "source": [
    "f_mat = list()\n",
    "for row_i, row_q in zip(i_mat, q_mat):\n",
    "    rows = list()\n",
    "    for val_i, val_q in zip(row_i, row_q):\n",
    "        rows.append(Fraction(val_i - val_q))\n",
    "    f_mat.append(rows)\n",
    "f_mat"
   ]
  },
  {
   "cell_type": "code",
   "execution_count": null,
   "metadata": {},
   "outputs": [],
   "source": [
    "f_mat[0][0]*(\n",
    "    f_mat[1][1]*(\n",
    "        f_mat[2][2]*(\n",
    "            f_mat[3][3]*(\n",
    "                f_mat[4][4]*(\n",
    "                    f_mat[5][5]*f_mat[6][6]-f_mat[5][6]*f_mat[6][5])-f_mat[4][5]*(f_mat[5][4]*f_mat[6][6]-f_mat[5][6]*f_mat[6][4])))))))"
   ]
  },
  {
   "cell_type": "code",
   "execution_count": null,
   "metadata": {},
   "outputs": [],
   "source": [
    "if len(mat) <= 2:\n",
    "    determinant = (f_mat[0][0] * f_mat[1][1]) - (f_mat[0][1] * f_mat[1][0])\n",
    "    cofactor_mat = [[f_mat[1][1], -f_mat[0][1]], [-f_mat[1][0], f_mat[0][0]]]\n",
    "    f_mat = [[cofactor_mat[0][0]/determinant, cofactor_mat[0][1]/determinant],\n",
    "             [cofactor_mat[1][0]/determinant, cofactor_mat[1][1]/determinant]]\n",
    "\n",
    "else:\n",
    "    #col_wise = list(zip(*mat))\n",
    "    determinant = 0\n",
    "    minor_mat = mat\n",
    "    while len(minor_mat) > 2:\n",
    "        minor_mats = list\n",
    "        for ind, val in enumerate(mat):\n",
    "            \n",
    "            \n",
    "\n",
    "        \n",
    "        \n",
    "#    while len(mat) > 3:\n",
    "#        for val in mat[0]:\n",
    "            "
   ]
  },
  {
   "cell_type": "code",
   "execution_count": 63,
   "metadata": {},
   "outputs": [],
   "source": [
    "def make_cofactor_mat(mat):\n",
    "    if len(mat) > 2:\n",
    "        cofactor_mat = [[\"empty\"]*len(mat)]*len(mat)\n",
    "        mini_mat = mat\n",
    "        while len(mini_mat) > 3:\n",
    "            for ind_r, row in enumerate(mini_mat):\n",
    "                new_rows = list()\n",
    "                for ind_c, val in enumerate(row):\n",
    "                    if cofactor_mat[ind_r][ind_c] == \"empty\":\n",
    "                        del row[ind_c]\n",
    "                        new_rows.append(row)\n",
    "                #del new_rows[ind_r]\n",
    "                #mini_mat = new_rows\n",
    "            \n",
    "    return(new_rows)"
   ]
  },
  {
   "cell_type": "code",
   "execution_count": 55,
   "metadata": {},
   "outputs": [],
   "source": [
    "cofactor_mat = [[\"empty\"]*len(m_3)]*len(m_3)"
   ]
  },
  {
   "cell_type": "code",
   "execution_count": 151,
   "metadata": {},
   "outputs": [],
   "source": [
    "test_mat = [[1, 2, 3, 4],\n",
    "            [1, 2, 3, 4],\n",
    "            [1, 2, 3, 4],\n",
    "            [1, 2, 3, 4]]"
   ]
  },
  {
   "cell_type": "code",
   "execution_count": 85,
   "metadata": {},
   "outputs": [
    {
     "data": {
      "text/plain": [
       "True"
      ]
     },
     "execution_count": 85,
     "metadata": {},
     "output_type": "execute_result"
    }
   ],
   "source": [
    "len(test_mat) > 2"
   ]
  },
  {
   "cell_type": "code",
   "execution_count": 97,
   "metadata": {},
   "outputs": [
    {
     "data": {
      "text/plain": [
       "[[2, 4], [2, 4], [2, 4], [1, 2, 3, 4]]"
      ]
     },
     "execution_count": 97,
     "metadata": {},
     "output_type": "execute_result"
    }
   ],
   "source": [
    "mini_mat = test_mat\n",
    "mini_mat"
   ]
  },
  {
   "cell_type": "code",
   "execution_count": 87,
   "metadata": {},
   "outputs": [
    {
     "data": {
      "text/plain": [
       "[['empty', 'empty', 'empty', 'empty'],\n",
       " ['empty', 'empty', 'empty', 'empty'],\n",
       " ['empty', 'empty', 'empty', 'empty'],\n",
       " ['empty', 'empty', 'empty', 'empty']]"
      ]
     },
     "execution_count": 87,
     "metadata": {},
     "output_type": "execute_result"
    }
   ],
   "source": [
    "cofactor_mat = [[\"empty\"]*len(mini_mat)]*len(mini_mat)\n",
    "cofactor_mat"
   ]
  },
  {
   "cell_type": "code",
   "execution_count": 88,
   "metadata": {},
   "outputs": [
    {
     "data": {
      "text/plain": [
       "True"
      ]
     },
     "execution_count": 88,
     "metadata": {},
     "output_type": "execute_result"
    }
   ],
   "source": [
    "len(mini_mat) > 3"
   ]
  },
  {
   "cell_type": "code",
   "execution_count": 89,
   "metadata": {},
   "outputs": [
    {
     "name": "stdout",
     "output_type": "stream",
     "text": [
      "0 [1, 2, 3, 4]\n",
      "1 [1, 2, 3, 4]\n",
      "2 [1, 2, 3, 4]\n",
      "3 [1, 2, 3, 4]\n"
     ]
    }
   ],
   "source": [
    "for ind_r, row in enumerate(mini_mat):\n",
    "    print(ind_r, row)"
   ]
  },
  {
   "cell_type": "code",
   "execution_count": 90,
   "metadata": {},
   "outputs": [
    {
     "name": "stdout",
     "output_type": "stream",
     "text": [
      "0 1\n",
      "1 2\n",
      "2 3\n",
      "3 4\n",
      "0 1\n",
      "1 2\n",
      "2 3\n",
      "3 4\n",
      "0 1\n",
      "1 2\n",
      "2 3\n",
      "3 4\n",
      "0 1\n",
      "1 2\n",
      "2 3\n",
      "3 4\n"
     ]
    }
   ],
   "source": [
    "for ind_r, row in enumerate(mini_mat):\n",
    "    new_rows = list()\n",
    "    for ind_c, val in enumerate(row):\n",
    "        print(ind_c, val)"
   ]
  },
  {
   "cell_type": "code",
   "execution_count": 121,
   "metadata": {},
   "outputs": [
    {
     "ename": "IndexError",
     "evalue": "list assignment index out of range",
     "output_type": "error",
     "traceback": [
      "\u001b[0;31m---------------------------------------------------------------------------\u001b[0m",
      "\u001b[0;31mIndexError\u001b[0m                                Traceback (most recent call last)",
      "\u001b[0;32m<ipython-input-121-7b4874a27ecb>\u001b[0m in \u001b[0;36m<module>\u001b[0;34m()\u001b[0m\n\u001b[1;32m     10\u001b[0m             \u001b[0;32mdel\u001b[0m \u001b[0mrow\u001b[0m\u001b[0;34m[\u001b[0m\u001b[0;36m0\u001b[0m\u001b[0;34m]\u001b[0m\u001b[0;34m\u001b[0m\u001b[0m\n\u001b[1;32m     11\u001b[0m             \u001b[0mnew_rows\u001b[0m\u001b[0;34m.\u001b[0m\u001b[0mappend\u001b[0m\u001b[0;34m(\u001b[0m\u001b[0mrow\u001b[0m\u001b[0;34m)\u001b[0m\u001b[0;34m\u001b[0m\u001b[0m\n\u001b[0;32m---> 12\u001b[0;31m     \u001b[0;32mdel\u001b[0m \u001b[0mnew_rows\u001b[0m\u001b[0;34m[\u001b[0m\u001b[0mind_r\u001b[0m\u001b[0;34m]\u001b[0m\u001b[0;34m\u001b[0m\u001b[0m\n\u001b[0m\u001b[1;32m     13\u001b[0m         \u001b[0;31m#for ind_c, val in enumerate(row):\u001b[0m\u001b[0;34m\u001b[0m\u001b[0;34m\u001b[0m\u001b[0m\n\u001b[1;32m     14\u001b[0m             \u001b[0;31m#if cofactor_mat[ind_r][ind_c] == \"empty\":\u001b[0m\u001b[0;34m\u001b[0m\u001b[0;34m\u001b[0m\u001b[0m\n",
      "\u001b[0;31mIndexError\u001b[0m: list assignment index out of range"
     ]
    }
   ],
   "source": [
    "test_mat = [[1, 2, 3, 4],\n",
    "            [1, 2, 3, 4],\n",
    "            [1, 2, 3, 4],\n",
    "            [1, 2, 3, 4]]\n",
    "mini_mat = test_mat\n",
    "while len(mini_mat) > 3:\n",
    "    for ind_r, row in enumerate(mini_mat):\n",
    "        new_rows = list()\n",
    "        if cofactor_mat[ind_r][0] == \"empty\":\n",
    "            del row[0]\n",
    "            new_rows.append(row)\n",
    "    del new_rows[ind_r]\n",
    "        #for ind_c, val in enumerate(row):\n",
    "            #if cofactor_mat[ind_r][ind_c] == \"empty\":\n",
    "                #del row[ind_c]\n",
    "                #new_rows.append(row)\n",
    "        #del new_rows[ind_r]\n",
    "    mini_mat = new_rows\n",
    "mini_mat "
   ]
  },
  {
   "cell_type": "code",
   "execution_count": 102,
   "metadata": {},
   "outputs": [
    {
     "data": {
      "text/plain": [
       "[[1, 2, 3, 4], [1, 2, 3, 4], [1, 2, 3, 4], [1, 2, 3, 4]]"
      ]
     },
     "execution_count": 102,
     "metadata": {},
     "output_type": "execute_result"
    }
   ],
   "source": [
    "test_mat"
   ]
  },
  {
   "cell_type": "code",
   "execution_count": 117,
   "metadata": {},
   "outputs": [],
   "source": [
    "def remove_col(ind_r, ind_c):\n",
    "    test_mat = [[5, 6, 7, 8],\n",
    "            [1, 2, 3, 4],\n",
    "            [1, 2, 3, 4],\n",
    "            [1, 2, 3, 4]]\n",
    "    for row in test_mat:\n",
    "        del row[ind_c]\n",
    "    del test_mat[ind_r]\n",
    "    return(test_mat)"
   ]
  },
  {
   "cell_type": "code",
   "execution_count": 118,
   "metadata": {},
   "outputs": [
    {
     "data": {
      "text/plain": [
       "[[6, 7, 8], [2, 3, 4], [2, 3, 4]]"
      ]
     },
     "execution_count": 118,
     "metadata": {},
     "output_type": "execute_result"
    }
   ],
   "source": [
    "remove_col(1, 0)"
   ]
  },
  {
   "cell_type": "code",
   "execution_count": 38,
   "metadata": {},
   "outputs": [],
   "source": [
    "a = [1, 2, 3, 4]"
   ]
  },
  {
   "cell_type": "code",
   "execution_count": 42,
   "metadata": {},
   "outputs": [
    {
     "ename": "SyntaxError",
     "evalue": "invalid syntax (<ipython-input-42-92ef3436b1f0>, line 1)",
     "output_type": "error",
     "traceback": [
      "\u001b[0;36m  File \u001b[0;32m\"<ipython-input-42-92ef3436b1f0>\"\u001b[0;36m, line \u001b[0;32m1\u001b[0m\n\u001b[0;31m    b = a[!1]\u001b[0m\n\u001b[0m          ^\u001b[0m\n\u001b[0;31mSyntaxError\u001b[0m\u001b[0;31m:\u001b[0m invalid syntax\n"
     ]
    }
   ],
   "source": [
    "b = a[!1]"
   ]
  },
  {
   "cell_type": "code",
   "execution_count": 40,
   "metadata": {},
   "outputs": [
    {
     "data": {
      "text/plain": [
       "[1, 3, 4]"
      ]
     },
     "execution_count": 40,
     "metadata": {},
     "output_type": "execute_result"
    }
   ],
   "source": [
    "a"
   ]
  },
  {
   "cell_type": "code",
   "execution_count": 43,
   "metadata": {},
   "outputs": [],
   "source": [
    "def test_example_3(self):\n",
    "        response = answer([\n",
    "            [0, 2],\n",
    "            [0, 0]\n",
    "        ])    "
   ]
  },
  {
   "cell_type": "code",
   "execution_count": 45,
   "metadata": {},
   "outputs": [],
   "source": [
    "m_test = [\n",
    "            [0, 2],\n",
    "            [0, 0]\n",
    "        ]"
   ]
  },
  {
   "cell_type": "code",
   "execution_count": 46,
   "metadata": {},
   "outputs": [
    {
     "ename": "IndexError",
     "evalue": "list index out of range",
     "output_type": "error",
     "traceback": [
      "\u001b[0;31m---------------------------------------------------------------------------\u001b[0m",
      "\u001b[0;31mIndexError\u001b[0m                                Traceback (most recent call last)",
      "\u001b[0;32m<ipython-input-46-902f1aaeb2e3>\u001b[0m in \u001b[0;36m<module>\u001b[0;34m()\u001b[0m\n\u001b[0;32m----> 1\u001b[0;31m \u001b[0manswer\u001b[0m\u001b[0;34m(\u001b[0m\u001b[0mm_test\u001b[0m\u001b[0;34m)\u001b[0m\u001b[0;34m\u001b[0m\u001b[0m\n\u001b[0m",
      "\u001b[0;32m<ipython-input-9-74e157abab63>\u001b[0m in \u001b[0;36manswer\u001b[0;34m(m)\u001b[0m\n\u001b[1;32m     75\u001b[0m \u001b[0;34m\u001b[0m\u001b[0m\n\u001b[1;32m     76\u001b[0m     \u001b[0;32mif\u001b[0m \u001b[0mlen\u001b[0m\u001b[0;34m(\u001b[0m\u001b[0mf_mat\u001b[0m\u001b[0;34m)\u001b[0m \u001b[0;34m<=\u001b[0m \u001b[0;36m2\u001b[0m\u001b[0;34m:\u001b[0m\u001b[0;34m\u001b[0m\u001b[0m\n\u001b[0;32m---> 77\u001b[0;31m         \u001b[0mdeterminant\u001b[0m \u001b[0;34m=\u001b[0m \u001b[0;34m(\u001b[0m\u001b[0mf_mat\u001b[0m\u001b[0;34m[\u001b[0m\u001b[0;36m0\u001b[0m\u001b[0;34m]\u001b[0m\u001b[0;34m[\u001b[0m\u001b[0;36m0\u001b[0m\u001b[0;34m]\u001b[0m \u001b[0;34m*\u001b[0m \u001b[0mf_mat\u001b[0m\u001b[0;34m[\u001b[0m\u001b[0;36m1\u001b[0m\u001b[0;34m]\u001b[0m\u001b[0;34m[\u001b[0m\u001b[0;36m1\u001b[0m\u001b[0;34m]\u001b[0m\u001b[0;34m)\u001b[0m \u001b[0;34m-\u001b[0m \u001b[0;34m(\u001b[0m\u001b[0mf_mat\u001b[0m\u001b[0;34m[\u001b[0m\u001b[0;36m0\u001b[0m\u001b[0;34m]\u001b[0m\u001b[0;34m[\u001b[0m\u001b[0;36m1\u001b[0m\u001b[0;34m]\u001b[0m \u001b[0;34m*\u001b[0m \u001b[0mf_mat\u001b[0m\u001b[0;34m[\u001b[0m\u001b[0;36m1\u001b[0m\u001b[0;34m]\u001b[0m\u001b[0;34m[\u001b[0m\u001b[0;36m0\u001b[0m\u001b[0;34m]\u001b[0m\u001b[0;34m)\u001b[0m\u001b[0;34m\u001b[0m\u001b[0m\n\u001b[0m\u001b[1;32m     78\u001b[0m         \u001b[0mcofactor_mat\u001b[0m \u001b[0;34m=\u001b[0m \u001b[0;34m[\u001b[0m\u001b[0;34m[\u001b[0m\u001b[0mf_mat\u001b[0m\u001b[0;34m[\u001b[0m\u001b[0;36m1\u001b[0m\u001b[0;34m]\u001b[0m\u001b[0;34m[\u001b[0m\u001b[0;36m1\u001b[0m\u001b[0;34m]\u001b[0m\u001b[0;34m,\u001b[0m \u001b[0;34m-\u001b[0m\u001b[0mf_mat\u001b[0m\u001b[0;34m[\u001b[0m\u001b[0;36m0\u001b[0m\u001b[0;34m]\u001b[0m\u001b[0;34m[\u001b[0m\u001b[0;36m1\u001b[0m\u001b[0;34m]\u001b[0m\u001b[0;34m]\u001b[0m\u001b[0;34m,\u001b[0m \u001b[0;34m[\u001b[0m\u001b[0;34m-\u001b[0m\u001b[0mf_mat\u001b[0m\u001b[0;34m[\u001b[0m\u001b[0;36m1\u001b[0m\u001b[0;34m]\u001b[0m\u001b[0;34m[\u001b[0m\u001b[0;36m0\u001b[0m\u001b[0;34m]\u001b[0m\u001b[0;34m,\u001b[0m \u001b[0mf_mat\u001b[0m\u001b[0;34m[\u001b[0m\u001b[0;36m0\u001b[0m\u001b[0;34m]\u001b[0m\u001b[0;34m[\u001b[0m\u001b[0;36m0\u001b[0m\u001b[0;34m]\u001b[0m\u001b[0;34m]\u001b[0m\u001b[0;34m]\u001b[0m\u001b[0;34m\u001b[0m\u001b[0m\n\u001b[1;32m     79\u001b[0m         f_mat = [[cofactor_mat[0][0]/determinant, cofactor_mat[0][1]/determinant],\n",
      "\u001b[0;31mIndexError\u001b[0m: list index out of range"
     ]
    }
   ],
   "source": [
    "answer(m_test)"
   ]
  },
  {
   "cell_type": "code",
   "execution_count": 131,
   "metadata": {},
   "outputs": [],
   "source": [
    "def det(matrix):\n",
    "    matrix_length = len(matrix)\n",
    "\n",
    "    if matrix_length > 2:\n",
    "        \"\"\"\n",
    "        i --> either 1 or -1\n",
    "        starting column --> 0 .. matrix length - 1\n",
    "        _sum --> accumulative sum of the matrix column value and the determinant \n",
    "        \"\"\"\n",
    "        i, starting_column, _sum = 1, 0, 0\n",
    "\n",
    "        while starting_column <= matrix_length - 1:\n",
    "            d = list()\n",
    "            row_index = 1\n",
    "\n",
    "            while row_index <= matrix_length - 1:\n",
    "                column_index = 0\n",
    "\n",
    "                while column_index <= matrix_length - 1:\n",
    "                    if column_index != starting_column:\n",
    "                        d.append(matrix[row_index][column_index])\n",
    "\n",
    "                    column_index += 1\n",
    "                row_index += 1\n",
    "\n",
    "            l1 = [d[x] for x in d]\n",
    "            \n",
    "            _sum = _sum + i * (matrix[0][starting_column]) * (det(l1))\n",
    "            \n",
    "            # reverse i between 1 and negative one\n",
    "            i = i * (-1)\n",
    "            starting_column += 1\n",
    "\n",
    "        return _sum\n",
    "    else:\n",
    "        return matrix[0][0] * matrix[1][1] - matrix[0][1] * matrix[1][0]"
   ]
  },
  {
   "cell_type": "code",
   "execution_count": 132,
   "metadata": {},
   "outputs": [
    {
     "ename": "TypeError",
     "evalue": "'int' object is not subscriptable",
     "output_type": "error",
     "traceback": [
      "\u001b[0;31m---------------------------------------------------------------------------\u001b[0m",
      "\u001b[0;31mTypeError\u001b[0m                                 Traceback (most recent call last)",
      "\u001b[0;32m<ipython-input-132-09f3637a3928>\u001b[0m in \u001b[0;36m<module>\u001b[0;34m()\u001b[0m\n\u001b[0;32m----> 1\u001b[0;31m \u001b[0mdet\u001b[0m\u001b[0;34m(\u001b[0m\u001b[0mm_3\u001b[0m\u001b[0;34m)\u001b[0m\u001b[0;34m\u001b[0m\u001b[0m\n\u001b[0m",
      "\u001b[0;32m<ipython-input-131-aeac0e68ca47>\u001b[0m in \u001b[0;36mdet\u001b[0;34m(matrix)\u001b[0m\n\u001b[1;32m     26\u001b[0m             \u001b[0ml1\u001b[0m \u001b[0;34m=\u001b[0m \u001b[0;34m[\u001b[0m\u001b[0md\u001b[0m\u001b[0;34m[\u001b[0m\u001b[0mx\u001b[0m\u001b[0;34m]\u001b[0m \u001b[0;32mfor\u001b[0m \u001b[0mx\u001b[0m \u001b[0;32min\u001b[0m \u001b[0md\u001b[0m\u001b[0;34m]\u001b[0m\u001b[0;34m\u001b[0m\u001b[0m\n\u001b[1;32m     27\u001b[0m \u001b[0;34m\u001b[0m\u001b[0m\n\u001b[0;32m---> 28\u001b[0;31m             \u001b[0m_sum\u001b[0m \u001b[0;34m=\u001b[0m \u001b[0m_sum\u001b[0m \u001b[0;34m+\u001b[0m \u001b[0mi\u001b[0m \u001b[0;34m*\u001b[0m \u001b[0;34m(\u001b[0m\u001b[0mmatrix\u001b[0m\u001b[0;34m[\u001b[0m\u001b[0;36m0\u001b[0m\u001b[0;34m]\u001b[0m\u001b[0;34m[\u001b[0m\u001b[0mstarting_column\u001b[0m\u001b[0;34m]\u001b[0m\u001b[0;34m)\u001b[0m \u001b[0;34m*\u001b[0m \u001b[0;34m(\u001b[0m\u001b[0mdet\u001b[0m\u001b[0;34m(\u001b[0m\u001b[0ml1\u001b[0m\u001b[0;34m)\u001b[0m\u001b[0;34m)\u001b[0m\u001b[0;34m\u001b[0m\u001b[0m\n\u001b[0m\u001b[1;32m     29\u001b[0m \u001b[0;34m\u001b[0m\u001b[0m\n\u001b[1;32m     30\u001b[0m             \u001b[0;31m# reverse i between 1 and negative one\u001b[0m\u001b[0;34m\u001b[0m\u001b[0;34m\u001b[0m\u001b[0m\n",
      "\u001b[0;32m<ipython-input-131-aeac0e68ca47>\u001b[0m in \u001b[0;36mdet\u001b[0;34m(matrix)\u001b[0m\n\u001b[1;32m     19\u001b[0m                 \u001b[0;32mwhile\u001b[0m \u001b[0mcolumn_index\u001b[0m \u001b[0;34m<=\u001b[0m \u001b[0mmatrix_length\u001b[0m \u001b[0;34m-\u001b[0m \u001b[0;36m1\u001b[0m\u001b[0;34m:\u001b[0m\u001b[0;34m\u001b[0m\u001b[0m\n\u001b[1;32m     20\u001b[0m                     \u001b[0;32mif\u001b[0m \u001b[0mcolumn_index\u001b[0m \u001b[0;34m!=\u001b[0m \u001b[0mstarting_column\u001b[0m\u001b[0;34m:\u001b[0m\u001b[0;34m\u001b[0m\u001b[0m\n\u001b[0;32m---> 21\u001b[0;31m                         \u001b[0md\u001b[0m\u001b[0;34m.\u001b[0m\u001b[0mappend\u001b[0m\u001b[0;34m(\u001b[0m\u001b[0mmatrix\u001b[0m\u001b[0;34m[\u001b[0m\u001b[0mrow_index\u001b[0m\u001b[0;34m]\u001b[0m\u001b[0;34m[\u001b[0m\u001b[0mcolumn_index\u001b[0m\u001b[0;34m]\u001b[0m\u001b[0;34m)\u001b[0m\u001b[0;34m\u001b[0m\u001b[0m\n\u001b[0m\u001b[1;32m     22\u001b[0m \u001b[0;34m\u001b[0m\u001b[0m\n\u001b[1;32m     23\u001b[0m                     \u001b[0mcolumn_index\u001b[0m \u001b[0;34m+=\u001b[0m \u001b[0;36m1\u001b[0m\u001b[0;34m\u001b[0m\u001b[0m\n",
      "\u001b[0;31mTypeError\u001b[0m: 'int' object is not subscriptable"
     ]
    }
   ],
   "source": [
    "det(m_3)"
   ]
  },
  {
   "cell_type": "code",
   "execution_count": 129,
   "metadata": {},
   "outputs": [],
   "source": [
    "test=list()*3"
   ]
  },
  {
   "cell_type": "code",
   "execution_count": 130,
   "metadata": {},
   "outputs": [
    {
     "ename": "TypeError",
     "evalue": "'type' object is not subscriptable",
     "output_type": "error",
     "traceback": [
      "\u001b[0;31m---------------------------------------------------------------------------\u001b[0m",
      "\u001b[0;31mTypeError\u001b[0m                                 Traceback (most recent call last)",
      "\u001b[0;32m<ipython-input-130-73e5ea970ebf>\u001b[0m in \u001b[0;36m<module>\u001b[0;34m()\u001b[0m\n\u001b[0;32m----> 1\u001b[0;31m \u001b[0mlist\u001b[0m\u001b[0;34m[\u001b[0m\u001b[0;36m2\u001b[0m\u001b[0;34m]\u001b[0m\u001b[0;34m\u001b[0m\u001b[0m\n\u001b[0m",
      "\u001b[0;31mTypeError\u001b[0m: 'type' object is not subscriptable"
     ]
    }
   ],
   "source": [
    "list[2]"
   ]
  },
  {
   "cell_type": "code",
   "execution_count": 135,
   "metadata": {},
   "outputs": [],
   "source": [
    "def calculate_determinant(m):\n",
    "    determinant = (m[0][0] * m[1][1]) - (m[0][1] * m[1][0])\n",
    "    return(determinant)"
   ]
  },
  {
   "cell_type": "code",
   "execution_count": 137,
   "metadata": {},
   "outputs": [
    {
     "data": {
      "text/plain": [
       "Fraction(7, 9)"
      ]
     },
     "execution_count": 137,
     "metadata": {},
     "output_type": "execute_result"
    }
   ],
   "source": [
    "test_mat = [[1, Fraction(-1, 2),], [Fraction(-4, 9), 1]]\n",
    "calculate_determinant(test_mat)"
   ]
  },
  {
   "cell_type": "code",
   "execution_count": null,
   "metadata": {},
   "outputs": [],
   "source": [
    "for row_ind, row in enumerate(matrix[0]):\n",
    "    minor_matrix = [row.remove(row_ind) for row in matrix].remove(row_ind)\n",
    "    det = (-1**(row_ind)) * det(minor_matrix)"
   ]
  },
  {
   "cell_type": "code",
   "execution_count": 17,
   "metadata": {},
   "outputs": [
    {
     "data": {
      "text/plain": [
       "[[5, 6, 7, 8], [1, 2, 3, 4], [1, 2, 3, 4], [1, 2, 3, 4]]"
      ]
     },
     "execution_count": 17,
     "metadata": {},
     "output_type": "execute_result"
    }
   ],
   "source": [
    "test_mat = [[5, 6, 7, 8],\n",
    "            [1, 2, 3, 4],\n",
    "            [1, 2, 3, 4],\n",
    "            [1, 2, 3, 4]]\n",
    "test_mat"
   ]
  },
  {
   "cell_type": "code",
   "execution_count": 39,
   "metadata": {},
   "outputs": [],
   "source": [
    "def find_det(mat):\n",
    "    mat_len = len(mat)\n",
    "    \n",
    "    if mat_len == 2:\n",
    "        determinant = (mat[0][0] * mat[1][1]) - (mat[0][1] * mat[1][0])\n",
    "        \n",
    "        return(determinant)\n",
    "        \n",
    "    elif mat_len > 2:\n",
    "        \n",
    "        determinant_sum = 0\n",
    "        \n",
    "        exp = 0\n",
    "        \n",
    "        for col_ind, val in enumerate(mat[0]):\n",
    "            \n",
    "            minor_mat = mat[1:]\n",
    "            \n",
    "            for row_ind, row in enumerate(minor_mat):\n",
    "                row = row[:col_ind]+row[col_ind+1:]\n",
    "                minor_mat[row_ind] = row\n",
    "            \n",
    "            #print(minor_mat)\n",
    "            #minor_det = find_determinant(minor_mat)\n",
    "            \n",
    "            determinant_sum = determinant_sum + ((-1)**(exp))*val*find_det(minor_mat)\n",
    "            #print(determinant_sum)\n",
    "            exp = exp + 1\n",
    "            \n",
    "        return(determinant_sum)"
   ]
  },
  {
   "cell_type": "code",
   "execution_count": 20,
   "metadata": {},
   "outputs": [
    {
     "data": {
      "text/plain": [
       "0"
      ]
     },
     "execution_count": 20,
     "metadata": {},
     "output_type": "execute_result"
    }
   ],
   "source": [
    "det(test_mat)"
   ]
  },
  {
   "cell_type": "code",
   "execution_count": 165,
   "metadata": {},
   "outputs": [
    {
     "data": {
      "text/plain": [
       "([[5, 6, 7, 8]], [[2, 3, 4], [2, 3, 4], [2, 3, 4]])"
      ]
     },
     "execution_count": 165,
     "metadata": {},
     "output_type": "execute_result"
    }
   ],
   "source": [
    "## MAKE COFACTOR MATRIX ##\n",
    "\n",
    "cofactor_mat = list()\n",
    "\n",
    "for row in test_mat:\n",
    "    cofactor_row = list()\n",
    "    for val in row:\n",
    "        det = v*det(val)\n",
    "        cofactor_row.append(det)\n",
    "    cofactor_mat.append(cofactor_mat)\n",
    "    \n",
    "## CALCULATE MATRIX DETERMINANT ##\n",
    "\n",
    "matrix_determinant = 0\n",
    "for ind, det in enumerate(cofactor_mat[0]):\n",
    "    matrix_determinant = matrix_determinant + (-1**ind)*(det)\n",
    "\n",
    "## DETERMINANT FUNCTION ##\n",
    "\n",
    "mat_len = len(test_mat)\n",
    "row_ind = 0\n",
    "col_ind = 0\n",
    "\n",
    "# which val to calculate determinant and create minor matrix\n",
    "\n",
    "if row_index < mat_len:\n",
    "    determinant_for = test_mat[row_ind][col_ind]\n",
    "    minor_mat = test_mat[:row_index]+test_mat[row_index+1:]\n",
    "    for row_ind, row in enumerate(minor_mat):\n",
    "        row = row[:col_index]+row[col_index+1:]\n",
    "        minor_mat[row_ind] = row\n",
    "        \n",
    "    base_determinant = (minor_mat[0][0] * minor_mat[1][1]) - (minor_mat[0][1] * minor_mat[1][0])\n",
    "    \n",
    "    determinant = determinant_for*base_determinant\n",
    "\n",
    "\n",
    "    #det = (-1**(row_ind)) * det(minor_matrix)\n",
    "cofactor_row, minor_mat"
   ]
  },
  {
   "cell_type": "code",
   "execution_count": 255,
   "metadata": {},
   "outputs": [
    {
     "ename": "TypeError",
     "evalue": "'int' object is not callable",
     "output_type": "error",
     "traceback": [
      "\u001b[0;31m---------------------------------------------------------------------------\u001b[0m",
      "\u001b[0;31mTypeError\u001b[0m                                 Traceback (most recent call last)",
      "\u001b[0;32m<ipython-input-255-fb92abccdc8e>\u001b[0m in \u001b[0;36m<module>\u001b[0;34m()\u001b[0m\n\u001b[1;32m      8\u001b[0m             \u001b[0mrow\u001b[0m \u001b[0;34m=\u001b[0m \u001b[0mrow\u001b[0m\u001b[0;34m[\u001b[0m\u001b[0;34m:\u001b[0m\u001b[0mcol_index\u001b[0m\u001b[0;34m]\u001b[0m\u001b[0;34m+\u001b[0m\u001b[0mrow\u001b[0m\u001b[0;34m[\u001b[0m\u001b[0mcol_index\u001b[0m\u001b[0;34m+\u001b[0m\u001b[0;36m1\u001b[0m\u001b[0;34m:\u001b[0m\u001b[0;34m]\u001b[0m\u001b[0;34m\u001b[0m\u001b[0m\n\u001b[1;32m      9\u001b[0m             \u001b[0mminor_mat\u001b[0m\u001b[0;34m[\u001b[0m\u001b[0mrow_ind\u001b[0m\u001b[0;34m]\u001b[0m \u001b[0;34m=\u001b[0m \u001b[0mrow\u001b[0m\u001b[0;34m\u001b[0m\u001b[0m\n\u001b[0;32m---> 10\u001b[0;31m         \u001b[0mdet\u001b[0m \u001b[0;34m=\u001b[0m \u001b[0mdet\u001b[0m\u001b[0;34m(\u001b[0m\u001b[0mminor_mat\u001b[0m\u001b[0;34m)\u001b[0m\u001b[0;31m#(-1)**(row_index+col_index)*val*det(minor_mat)\u001b[0m\u001b[0;34m\u001b[0m\u001b[0m\n\u001b[0m\u001b[1;32m     11\u001b[0m         \u001b[0mcofactor_row\u001b[0m\u001b[0;34m.\u001b[0m\u001b[0mappend\u001b[0m\u001b[0;34m(\u001b[0m\u001b[0mdet\u001b[0m\u001b[0;34m)\u001b[0m\u001b[0;34m\u001b[0m\u001b[0m\n\u001b[1;32m     12\u001b[0m     \u001b[0mcofactor_mat\u001b[0m\u001b[0;34m.\u001b[0m\u001b[0mappend\u001b[0m\u001b[0;34m(\u001b[0m\u001b[0mcofactor_mat\u001b[0m\u001b[0;34m)\u001b[0m\u001b[0;34m\u001b[0m\u001b[0m\n",
      "\u001b[0;31mTypeError\u001b[0m: 'int' object is not callable"
     ]
    }
   ],
   "source": [
    "cofactor_mat = list()\n",
    "\n",
    "for row_index, row in enumerate(test_mat):\n",
    "    cofactor_row = list()\n",
    "    for col_index, val in enumerate(row):\n",
    "        minor_mat = test_mat[:row_index]+test_mat[row_index+1:]\n",
    "        for row_ind, row in enumerate(minor_mat):\n",
    "            row = row[:col_index]+row[col_index+1:]\n",
    "            minor_mat[row_ind] = row\n",
    "        det = det(minor_mat)#(-1)**(row_index+col_index)*val*det(minor_mat)\n",
    "        cofactor_row.append(det)\n",
    "    cofactor_mat.append(cofactor_mat)\n",
    "    \n",
    "cofactor_mat "
   ]
  },
  {
   "cell_type": "code",
   "execution_count": 233,
   "metadata": {},
   "outputs": [
    {
     "data": {
      "text/plain": [
       "[[5, 6, 7], [1, 2, 3], [1, 2, 3]]"
      ]
     },
     "execution_count": 233,
     "metadata": {},
     "output_type": "execute_result"
    }
   ],
   "source": [
    "for row_index, row in enumerate(test_mat):\n",
    "    #print(row_index, row)\n",
    "    cofactor_row = list()\n",
    "    for col_index, val in enumerate(row):\n",
    "        minor_mat = test_mat[:row_index]+test_mat[row_index+1:]\n",
    "        for row_ind, row in enumerate(minor_mat):\n",
    "            row = row[:col_index]+row[col_index+1:]\n",
    "            minor_mat[row_ind] = row\n",
    "            \n",
    "minor_mat\n"
   ]
  },
  {
   "cell_type": "code",
   "execution_count": 210,
   "metadata": {},
   "outputs": [
    {
     "data": {
      "text/plain": [
       "[[5, 6, 7, 8], [1, 2, 3, 4], [1, 2, 3, 4], [1, 2, 3, 4]]"
      ]
     },
     "execution_count": 210,
     "metadata": {},
     "output_type": "execute_result"
    }
   ],
   "source": [
    "test_mat"
   ]
  },
  {
   "cell_type": "code",
   "execution_count": 4,
   "metadata": {},
   "outputs": [],
   "source": [
    "from fractions import Fraction"
   ]
  },
  {
   "cell_type": "code",
   "execution_count": 23,
   "metadata": {},
   "outputs": [],
   "source": [
    "def find_determinant(mat):\n",
    "    mat_len = len(mat)\n",
    "    \n",
    "    if mat_len == 2:\n",
    "        determinant = (mat[0][0] * mat[1][1]) - (mat[0][1] * mat[1][0])\n",
    "        \n",
    "        return(determinant)\n",
    "        \n",
    "    elif mat_len > 2:\n",
    "        \n",
    "        determinant_sum = 0\n",
    "        \n",
    "        exp = 0\n",
    "        \n",
    "        for col_ind, val in enumerate(mat[0]):\n",
    "            \n",
    "            minor_mat = mat[1:]\n",
    "            \n",
    "            for row_ind, row in enumerate(minor_mat):\n",
    "                row = row[:col_ind]+row[col_ind+1:]\n",
    "                minor_mat[row_ind] = row\n",
    "            \n",
    "            print(minor_mat)\n",
    "            #minor_det = find_determinant(minor_mat)\n",
    "            \n",
    "            determinant_sum = determinant_sum + ((-1)**(exp))*val*find_determinant(minor_mat)\n",
    "            print(determinant_sum)\n",
    "            exp = exp + 1\n",
    "            \n",
    "        return(determinant_sum)\n",
    "        \n",
    "        #if col_ind <= mat_len:\n",
    "            \n",
    "            #determinant_for = mat[0][col_ind]\n",
    "            \n",
    "        \n",
    "            #minor_len = len(minor_mat)\n",
    "            \n",
    "            #determinant = determinant_for * det(minor_mat)\n",
    "            \n",
    "            \n",
    "            \n",
    "        \n",
    "        \n",
    "    #else:\n",
    "        #print(\"too small to find determinant\")\n",
    "            \n",
    "    \n",
    "        \n",
    "        #if col_ind > mat_len:\n",
    "            \n",
    "        #    col_ind = 0\n",
    "        #    row_ind += 1\n",
    "            \n",
    "    #return(determinant)"
   ]
  },
  {
   "cell_type": "code",
   "execution_count": 6,
   "metadata": {},
   "outputs": [],
   "source": [
    "i_q = [[1, Fraction(-1, 2)], [Fraction(-4, 9), 1]]"
   ]
  },
  {
   "cell_type": "code",
   "execution_count": 7,
   "metadata": {},
   "outputs": [
    {
     "data": {
      "text/plain": [
       "Fraction(7, 9)"
      ]
     },
     "execution_count": 7,
     "metadata": {},
     "output_type": "execute_result"
    }
   ],
   "source": [
    "find_determinant(i_q)"
   ]
  },
  {
   "cell_type": "code",
   "execution_count": 9,
   "metadata": {},
   "outputs": [
    {
     "name": "stdout",
     "output_type": "stream",
     "text": [
      "0\n",
      "0\n",
      "0\n",
      "0\n",
      "0\n",
      "0\n",
      "0\n",
      "0\n",
      "0\n",
      "0\n",
      "0\n",
      "0\n",
      "0\n",
      "0\n",
      "0\n",
      "0\n"
     ]
    }
   ],
   "source": [
    "for col_ind, val in enumerate(test_mat[0]):\n",
    "            \n",
    "    minor_mat = test_mat[1:]\n",
    "            \n",
    "    for row_ind, row in enumerate(minor_mat):\n",
    "        row = row[:col_ind]+row[col_ind+1:]\n",
    "        minor_mat[row_ind] = row\n",
    "                \n",
    "    minor_det = find_determinant(minor_mat)\n",
    "                \n",
    "    print(minor_det)"
   ]
  },
  {
   "cell_type": "code",
   "execution_count": 394,
   "metadata": {},
   "outputs": [
    {
     "data": {
      "text/plain": [
       "[[1, 2, 3], [1, 2, 3], [1, 2, 3]]"
      ]
     },
     "execution_count": 394,
     "metadata": {},
     "output_type": "execute_result"
    }
   ],
   "source": [
    "minor_mat"
   ]
  },
  {
   "cell_type": "code",
   "execution_count": 24,
   "metadata": {},
   "outputs": [
    {
     "name": "stdout",
     "output_type": "stream",
     "text": [
      "[[2, 3, 4], [2, 3, 4], [2, 3, 4]]\n",
      "[[3, 4], [3, 4]]\n",
      "0\n",
      "[[2, 4], [2, 4]]\n",
      "0\n",
      "[[2, 3], [2, 3]]\n",
      "0\n",
      "0\n",
      "[[1, 3, 4], [1, 3, 4], [1, 3, 4]]\n",
      "[[3, 4], [3, 4]]\n",
      "0\n",
      "[[1, 4], [1, 4]]\n",
      "0\n",
      "[[1, 3], [1, 3]]\n",
      "0\n",
      "0\n",
      "[[1, 2, 4], [1, 2, 4], [1, 2, 4]]\n",
      "[[2, 4], [2, 4]]\n",
      "0\n",
      "[[1, 4], [1, 4]]\n",
      "0\n",
      "[[1, 2], [1, 2]]\n",
      "0\n",
      "0\n",
      "[[1, 2, 3], [1, 2, 3], [1, 2, 3]]\n",
      "[[2, 3], [2, 3]]\n",
      "0\n",
      "[[1, 3], [1, 3]]\n",
      "0\n",
      "[[1, 2], [1, 2]]\n",
      "0\n",
      "0\n"
     ]
    },
    {
     "data": {
      "text/plain": [
       "0"
      ]
     },
     "execution_count": 24,
     "metadata": {},
     "output_type": "execute_result"
    }
   ],
   "source": [
    "find_determinant(test_mat)"
   ]
  },
  {
   "cell_type": "code",
   "execution_count": 381,
   "metadata": {},
   "outputs": [
    {
     "data": {
      "text/plain": [
       "[]"
      ]
     },
     "execution_count": 381,
     "metadata": {},
     "output_type": "execute_result"
    }
   ],
   "source": [
    "#test_mat[:3] + test_mat[3+1:]\n",
    "test_mat[3+1:]"
   ]
  },
  {
   "cell_type": "code",
   "execution_count": 10,
   "metadata": {},
   "outputs": [],
   "source": [
    "three_by_three = [[1, 2, 4], [5, 3, 6], [54, 4, 2]]"
   ]
  },
  {
   "cell_type": "code",
   "execution_count": 383,
   "metadata": {},
   "outputs": [
    {
     "name": "stdout",
     "output_type": "stream",
     "text": [
      "-18\n",
      "610\n",
      "42\n"
     ]
    }
   ],
   "source": [
    "determinant_sum = 0\n",
    "\n",
    "exp = 0\n",
    "\n",
    "for col_ind, val in enumerate(three_by_three[0]):\n",
    "            \n",
    "            minor_mat = three_by_three[1:]\n",
    "            \n",
    "            for row_ind, row in enumerate(minor_mat):\n",
    "                #row = list()\n",
    "                #for ind, val in enumerate(row):\n",
    "                #    if not ind in col_ind:\n",
    "                #        row.append(val)\n",
    "                #minor_mat[row_ind] == row\n",
    "                row = row[:col_ind]+row[col_ind+1:]\n",
    "                minor_mat[row_ind] = row\n",
    "                \n",
    "            #minor_det = find_determinant(minor_mat)\n",
    "            \n",
    "            determinant_sum = determinant_sum + ((-1)**(exp))*val*find_determinant(minor_mat)\n",
    "            \n",
    "            exp += 1\n",
    "            \n",
    "            print(determinant_sum)"
   ]
  },
  {
   "cell_type": "code",
   "execution_count": 11,
   "metadata": {},
   "outputs": [
    {
     "name": "stdout",
     "output_type": "stream",
     "text": [
      "-18\n",
      "610\n",
      "42\n"
     ]
    },
    {
     "data": {
      "text/plain": [
       "42"
      ]
     },
     "execution_count": 11,
     "metadata": {},
     "output_type": "execute_result"
    }
   ],
   "source": [
    "find_determinant(three_by_three)"
   ]
  },
  {
   "cell_type": "code",
   "execution_count": 385,
   "metadata": {},
   "outputs": [
    {
     "name": "stdout",
     "output_type": "stream",
     "text": [
      "0\n",
      "0\n",
      "0\n",
      "0\n",
      "0\n",
      "0\n",
      "0\n",
      "0\n",
      "0\n",
      "0\n",
      "0\n",
      "0\n",
      "0\n",
      "0\n",
      "0\n",
      "0\n",
      "0\n",
      "0\n",
      "0\n",
      "0\n",
      "0\n",
      "0\n",
      "0\n",
      "0\n",
      "0\n",
      "0\n",
      "0\n",
      "0\n",
      "0\n",
      "0\n",
      "0\n",
      "0\n",
      "0\n",
      "0\n",
      "0\n",
      "0\n",
      "0\n",
      "0\n",
      "0\n",
      "0\n",
      "0\n",
      "0\n",
      "0\n",
      "0\n",
      "0\n",
      "0\n",
      "0\n",
      "0\n",
      "0\n",
      "0\n",
      "0\n",
      "0\n",
      "0\n",
      "0\n",
      "0\n",
      "0\n",
      "0\n",
      "0\n",
      "0\n",
      "0\n",
      "0\n",
      "0\n",
      "0\n",
      "0\n",
      "0\n",
      "0\n",
      "0\n",
      "0\n",
      "0\n",
      "0\n",
      "0\n",
      "0\n",
      "0\n",
      "0\n",
      "0\n",
      "0\n",
      "0\n",
      "0\n",
      "0\n",
      "0\n",
      "0\n",
      "0\n",
      "0\n",
      "0\n",
      "0\n"
     ]
    },
    {
     "data": {
      "text/plain": [
       "0"
      ]
     },
     "execution_count": 385,
     "metadata": {},
     "output_type": "execute_result"
    }
   ],
   "source": [
    "find_determinant(m_2)"
   ]
  },
  {
   "cell_type": "code",
   "execution_count": 31,
   "metadata": {},
   "outputs": [],
   "source": [
    "nines = [[19,18,21,451,31],\n",
    "         [4,0,0,6,40],\n",
    "         [5,1,41,1,1],\n",
    "         [5,4,10,27,9.8],\n",
    "         [6,20,3.4,98,0]]"
   ]
  },
  {
   "cell_type": "code",
   "execution_count": 32,
   "metadata": {},
   "outputs": [
    {
     "name": "stdout",
     "output_type": "stream",
     "text": [
      "[[0, 0, 6, 40], [1, 41, 1, 1], [4, 10, 27, 9.8], [20, 3.4, 98, 0]]\n",
      "[[41, 1, 1], [10, 27, 9.8], [3.4, 98, 0]]\n",
      "[[27, 9.8], [98, 0]]\n",
      "-39376.4\n",
      "[[10, 9.8], [3.4, 0]]\n",
      "-39343.08\n",
      "[[10, 27], [3.4, 98]]\n",
      "-38454.880000000005\n",
      "0.0\n",
      "[[1, 1, 1], [4, 27, 9.8], [20, 98, 0]]\n",
      "[[27, 9.8], [98, 0]]\n",
      "-960.4000000000001\n",
      "[[4, 9.8], [20, 0]]\n",
      "-764.4000000000001\n",
      "[[4, 27], [20, 98]]\n",
      "-912.4000000000001\n",
      "0.0\n",
      "[[1, 41, 1], [4, 10, 9.8], [20, 3.4, 0]]\n",
      "[[10, 9.8], [3.4, 0]]\n",
      "-33.32\n",
      "[[4, 9.8], [20, 0]]\n",
      "8002.68\n",
      "[[4, 10], [20, 3.4]]\n",
      "7816.280000000001\n",
      "46897.68000000001\n",
      "[[1, 41, 1], [4, 10, 27], [20, 3.4, 98]]\n",
      "[[10, 27], [3.4, 98]]\n",
      "888.2\n",
      "[[4, 27], [20, 98]]\n",
      "6956.2\n",
      "[[4, 10], [20, 3.4]]\n",
      "6769.8\n",
      "-223894.32\n",
      "-4253992.08\n",
      "[[4, 0, 6, 40], [5, 41, 1, 1], [5, 10, 27, 9.8], [6, 3.4, 98, 0]]\n",
      "[[41, 1, 1], [10, 27, 9.8], [3.4, 98, 0]]\n",
      "[[27, 9.8], [98, 0]]\n",
      "-39376.4\n",
      "[[10, 9.8], [3.4, 0]]\n",
      "-39343.08\n",
      "[[10, 27], [3.4, 98]]\n",
      "-38454.880000000005\n",
      "-153819.52000000002\n",
      "[[5, 1, 1], [5, 27, 9.8], [6, 98, 0]]\n",
      "[[27, 9.8], [98, 0]]\n",
      "-4802.0\n",
      "[[5, 9.8], [6, 0]]\n",
      "-4743.2\n",
      "[[5, 27], [6, 98]]\n",
      "-4415.2\n",
      "-153819.52000000002\n",
      "[[5, 41, 1], [5, 10, 9.8], [6, 3.4, 0]]\n",
      "[[10, 9.8], [3.4, 0]]\n",
      "-166.6\n",
      "[[5, 9.8], [6, 0]]\n",
      "2244.2000000000003\n",
      "[[5, 10], [6, 3.4]]\n",
      "2201.2000000000003\n",
      "-140612.32\n",
      "[[5, 41, 1], [5, 10, 27], [6, 3.4, 98]]\n",
      "[[10, 27], [3.4, 98]]\n",
      "4441.0\n",
      "[[5, 27], [6, 98]]\n",
      "-9007.0\n",
      "[[5, 10], [6, 3.4]]\n",
      "-9050.0\n",
      "221387.68\n",
      "-8238970.32\n",
      "[[4, 0, 6, 40], [5, 1, 1, 1], [5, 4, 27, 9.8], [6, 20, 98, 0]]\n",
      "[[1, 1, 1], [4, 27, 9.8], [20, 98, 0]]\n",
      "[[27, 9.8], [98, 0]]\n",
      "-960.4000000000001\n",
      "[[4, 9.8], [20, 0]]\n",
      "-764.4000000000001\n",
      "[[4, 27], [20, 98]]\n",
      "-912.4000000000001\n",
      "-3649.6000000000004\n",
      "[[5, 1, 1], [5, 27, 9.8], [6, 98, 0]]\n",
      "[[27, 9.8], [98, 0]]\n",
      "-4802.0\n",
      "[[5, 9.8], [6, 0]]\n",
      "-4743.2\n",
      "[[5, 27], [6, 98]]\n",
      "-4415.2\n",
      "-3649.6000000000004\n",
      "[[5, 1, 1], [5, 4, 9.8], [6, 20, 0]]\n",
      "[[4, 9.8], [20, 0]]\n",
      "-980.0\n",
      "[[5, 9.8], [6, 0]]\n",
      "-921.2\n",
      "[[5, 4], [6, 20]]\n",
      "-845.2\n",
      "-8720.800000000001\n",
      "[[5, 1, 1], [5, 4, 27], [6, 20, 98]]\n",
      "[[4, 27], [20, 98]]\n",
      "-740\n",
      "[[5, 27], [6, 98]]\n",
      "-1068\n",
      "[[5, 4], [6, 20]]\n",
      "-992\n",
      "30959.199999999997\n",
      "-7588827.12\n",
      "[[4, 0, 0, 40], [5, 1, 41, 1], [5, 4, 10, 9.8], [6, 20, 3.4, 0]]\n",
      "[[1, 41, 1], [4, 10, 9.8], [20, 3.4, 0]]\n",
      "[[10, 9.8], [3.4, 0]]\n",
      "-33.32\n",
      "[[4, 9.8], [20, 0]]\n",
      "8002.68\n",
      "[[4, 10], [20, 3.4]]\n",
      "7816.280000000001\n",
      "31265.120000000003\n",
      "[[5, 41, 1], [5, 10, 9.8], [6, 3.4, 0]]\n",
      "[[10, 9.8], [3.4, 0]]\n",
      "-166.6\n",
      "[[5, 9.8], [6, 0]]\n",
      "2244.2000000000003\n",
      "[[5, 10], [6, 3.4]]\n",
      "2201.2000000000003\n",
      "31265.120000000003\n",
      "[[5, 1, 1], [5, 4, 9.8], [6, 20, 0]]\n",
      "[[4, 9.8], [20, 0]]\n",
      "-980.0\n",
      "[[5, 9.8], [6, 0]]\n",
      "-921.2\n",
      "[[5, 4], [6, 20]]\n",
      "-845.2\n",
      "31265.120000000003\n",
      "[[5, 1, 41], [5, 4, 10], [6, 20, 3.4]]\n",
      "[[4, 10], [20, 3.4]]\n",
      "-932.0\n",
      "[[5, 10], [6, 3.4]]\n",
      "-889.0\n",
      "[[5, 4], [6, 20]]\n",
      "2227.0\n",
      "-57814.88\n",
      "18485683.759999998\n",
      "[[4, 0, 0, 6], [5, 1, 41, 1], [5, 4, 10, 27], [6, 20, 3.4, 98]]\n",
      "[[1, 41, 1], [4, 10, 27], [20, 3.4, 98]]\n",
      "[[10, 27], [3.4, 98]]\n",
      "888.2\n",
      "[[4, 27], [20, 98]]\n",
      "6956.2\n",
      "[[4, 10], [20, 3.4]]\n",
      "6769.8\n",
      "27079.2\n",
      "[[5, 41, 1], [5, 10, 27], [6, 3.4, 98]]\n",
      "[[10, 27], [3.4, 98]]\n",
      "4441.0\n",
      "[[5, 27], [6, 98]]\n",
      "-9007.0\n",
      "[[5, 10], [6, 3.4]]\n",
      "-9050.0\n",
      "27079.2\n",
      "[[5, 1, 1], [5, 4, 27], [6, 20, 98]]\n",
      "[[4, 27], [20, 98]]\n",
      "-740\n",
      "[[5, 27], [6, 98]]\n",
      "-1068\n",
      "[[5, 4], [6, 20]]\n",
      "-992\n",
      "27079.2\n",
      "[[5, 1, 41], [5, 4, 10], [6, 20, 3.4]]\n",
      "[[4, 10], [20, 3.4]]\n",
      "-932.0\n",
      "[[5, 10], [6, 3.4]]\n",
      "-889.0\n",
      "[[5, 4], [6, 20]]\n",
      "2227.0\n",
      "13717.2\n",
      "18910916.959999997\n"
     ]
    },
    {
     "data": {
      "text/plain": [
       "18910916.959999997"
      ]
     },
     "execution_count": 32,
     "metadata": {},
     "output_type": "execute_result"
    }
   ],
   "source": [
    "find_determinant(nines)"
   ]
  },
  {
   "cell_type": "code",
   "execution_count": 28,
   "metadata": {},
   "outputs": [
    {
     "data": {
      "text/plain": [
       "0"
      ]
     },
     "execution_count": 28,
     "metadata": {},
     "output_type": "execute_result"
    }
   ],
   "source": [
    "find_determinant([[0, 0], [1, 1]])"
   ]
  },
  {
   "cell_type": "code",
   "execution_count": 33,
   "metadata": {},
   "outputs": [],
   "source": [
    "another_test = [\n",
    "        [0, 0, 12, 0, 15, 0, 0, 0, 1, 8],\n",
    "        [0, 0, 60, 0, 0, 7, 13, 0, 0, 0],\n",
    "        [0, 15, 0, 8, 7, 0, 0, 1, 9, 0],\n",
    "        [23, 0, 0, 0, 0, 1, 0, 0, 0, 0],\n",
    "        [37, 35, 0, 0, 0, 0, 3, 21, 0, 0],\n",
    "        [0, 0, 0, 0, 0, 0, 0, 0, 0, 0],\n",
    "        [0, 0, 0, 0, 0, 0, 0, 0, 0, 0],\n",
    "        [0, 0, 0, 0, 0, 0, 0, 0, 0, 0],\n",
    "        [0, 0, 0, 0, 0, 0, 0, 0, 0, 0],\n",
    "        [0, 0, 0, 0, 0, 0, 0, 0, 0, 0]\n",
    "    ]"
   ]
  },
  {
   "cell_type": "code",
   "execution_count": 145,
   "metadata": {},
   "outputs": [],
   "source": [
    "def answer(m):\n",
    "    \n",
    "    from fractions import Fraction\n",
    "    import math\n",
    "    from functools import reduce\n",
    "\n",
    "    #probs = list()\n",
    "    \n",
    "    #for row in m:\n",
    "        \n",
    "    #    row_probs = list()\n",
    "    #    row_sum = sum(row)\n",
    "        \n",
    "    #    for val in row:\n",
    "    #        if row_sum != 0:\n",
    "                \n",
    "    #            prob = Fraction(val, row_sum)\n",
    "                \n",
    "    #        else:\n",
    "                \n",
    "    #            prob = Fraction()\n",
    "                \n",
    "    #        row_probs.append(prob)   \n",
    "            \n",
    "    #    probs.append(row_probs)\n",
    "\n",
    "    trans_mat = list()\n",
    "    \n",
    "    for state in m:\n",
    "        if any(p != 0 for p in state):\n",
    "            trans_mat.append(state)\n",
    "        \n",
    "    transition_states = list()\n",
    "    terminal_states = list()\n",
    "    \n",
    "    for state, probs in enumerate(m):\n",
    "        if any(prob != 0 for prob in probs):\n",
    "            transition_states.append(state)\n",
    "        else:\n",
    "            terminal_states.append(state)\n",
    "    \n",
    "    q_mat = list()\n",
    "    r_mat = list()\n",
    "    \n",
    "    for row in trans_mat:\n",
    "        q_vals = list()\n",
    "        r_vals = list()\n",
    "        for ind, val in enumerate(row):\n",
    "            if ind in transition_states:\n",
    "                q_vals.append(val)\n",
    "            elif ind in terminal_states:\n",
    "                r_vals.append(val)\n",
    "        q_mat.append(q_vals)\n",
    "        r_mat.append(r_vals)\n",
    "        \n",
    "    l = len(q_mat)\n",
    "    \n",
    "    i_mat = list()\n",
    "    for r in range(l):\n",
    "        row = [\"none\"]*l\n",
    "        for ind, _ in enumerate(row):\n",
    "            if ind == r:\n",
    "                val = 1\n",
    "            else:\n",
    "                val = 0\n",
    "            row[ind] = val\n",
    "        i_mat.append(row)\n",
    "        \n",
    "    f_mat = list()\n",
    "    for row_i, row_q in zip(i_mat, q_mat):\n",
    "        rows = list()\n",
    "        for val_i, val_q in zip(row_i, row_q):\n",
    "            rows.append(Fraction(val_i - val_q))\n",
    "        f_mat.append(rows)\n",
    "    \n",
    "    f_len = len(f_mat)\n",
    "    \n",
    "    if f_len > 2:\n",
    "        cofactor_mat = list()\n",
    "    \n",
    "        for row_ind, row in enumerate(f_mat):\n",
    "            cofactor_row = list()\n",
    "            for col_ind, col in enumerate(row):\n",
    "                determinant_for = f_mat[row_ind][col_ind]\n",
    "            \n",
    "                minor_mat = f_mat[:row_ind]+f_mat[row_ind+1:]\n",
    "                for row_index, row in enumerate(minor_mat):\n",
    "                    row = row[:col_ind]+row[col_ind+1:]\n",
    "                    minor_mat[row_index] = row\n",
    "            \n",
    "                det = determinant_for*find_det(minor_mat)\n",
    "            \n",
    "                cofactor_row.append(det)\n",
    "        \n",
    "            cofactor_mat.append(cofactor_row)\n",
    "    \n",
    "        cofactor_len = len(cofactor_mat)\n",
    "    \n",
    "        matrix_determinant = sum(cofactor_mat[0])\n",
    "        adjugate_mat = list()\n",
    "        for row_ind, row in enumerate(cofactor_mat):\n",
    "            adjugate_row = list()\n",
    "            for col_ind, _ in enumerate(row):\n",
    "                adjugate_row.append(cofactor_mat[col_ind][row_ind])\n",
    "            adjugate_mat.append(adjugate_row)\n",
    "    \n",
    "        inverse_mat = list()\n",
    "        for row in adjugate_mat:\n",
    "            inverse_row = list()\n",
    "            for val in row:\n",
    "                inverse_row.append(val/matrix_determinant)\n",
    "            inverse_mat.append(inverse_row)\n",
    "            \n",
    "    elif f_len == 2:\n",
    "        determinant = (f_mat[0][0] * f_mat[1][1]) - (f_mat[0][1] * f_mat[1][0])\n",
    "        cofactor_mat = [[f_mat[1][1], -f_mat[0][1]], [-f_mat[1][0], f_mat[0][0]]]\n",
    "        inverse_mat = [[cofactor_mat[0][0]/determinant, cofactor_mat[0][1]/determinant],\n",
    "                   [cofactor_mat[1][0]/determinant, cofactor_mat[1][1]/determinant]]\n",
    "        \n",
    "        \n",
    "    assert len(inverse_mat[0]) == len(r_mat)\n",
    "    fr_mat = list()\n",
    "    r_cols = list(zip(*r_mat))\n",
    "    for f_ind, row in enumerate(inverse_mat):\n",
    "        fr_rows = list()\n",
    "        for r_ind, col in enumerate(r_cols):\n",
    "            zipped_vals = list(zip(inverse_mat[f_ind], r_cols[r_ind]))\n",
    "            fr_rows.append(sum([a*b for a, b in zipped_vals]))\n",
    "        fr_mat.append(fr_rows)\n",
    "\n",
    "    denominators = list()\n",
    "    numerators = list()\n",
    "    for d in fr_mat[0]:\n",
    "        numerators.append(d.numerator)\n",
    "        denominators.append(d.denominator)\n",
    "\n",
    "    lcm = reduce((lambda x, y: int((x * y)/math.gcd(x, y))), denominators)\n",
    "\n",
    "    answer = list()\n",
    "    for d, n in zip(denominators, numerators):\n",
    "        answer.append(int(n*(lcm/d)))\n",
    "    answer.append(lcm)\n",
    "    \n",
    "    return(fr_mat)"
   ]
  },
  {
   "cell_type": "code",
   "execution_count": 146,
   "metadata": {},
   "outputs": [
    {
     "data": {
      "text/plain": [
       "[[Fraction(0, 1), Fraction(-1, 1), Fraction(-2, 3), Fraction(-1, 3)],\n",
       " [Fraction(0, 1), Fraction(-1, 1), Fraction(-2, 3), Fraction(-4, 3)]]"
      ]
     },
     "execution_count": 146,
     "metadata": {},
     "output_type": "execute_result"
    }
   ],
   "source": [
    "answer(test_2)"
   ]
  },
  {
   "cell_type": "code",
   "execution_count": 55,
   "metadata": {
    "collapsed": true
   },
   "outputs": [
    {
     "name": "stdout",
     "output_type": "stream",
     "text": [
      "[[Fraction(1, 1), Fraction(-3, 4), Fraction(0, 1), Fraction(0, 1)], [Fraction(-3, 8), Fraction(1, 1), Fraction(-1, 5), Fraction(-7, 40)], [Fraction(0, 1), Fraction(0, 1), Fraction(1, 1), Fraction(0, 1)], [Fraction(-35, 96), Fraction(0, 1), Fraction(0, 1), Fraction(1, 1)]]\n",
      "[[Fraction(0, 1), Fraction(-3, 4), Fraction(0, 1), Fraction(0, 1)], [Fraction(0, 1), Fraction(1, 1), Fraction(-1, 5), Fraction(-7, 40)], [Fraction(-23, 24), Fraction(0, 1), Fraction(1, 1), Fraction(0, 1)], [Fraction(-37, 96), Fraction(0, 1), Fraction(0, 1), Fraction(1, 1)]]\n",
      "[[Fraction(0, 1), Fraction(1, 1), Fraction(0, 1), Fraction(0, 1)], [Fraction(0, 1), Fraction(-3, 8), Fraction(-1, 5), Fraction(-7, 40)], [Fraction(-23, 24), Fraction(0, 1), Fraction(1, 1), Fraction(0, 1)], [Fraction(-37, 96), Fraction(-35, 96), Fraction(0, 1), Fraction(1, 1)]]\n",
      "[[Fraction(0, 1), Fraction(1, 1), Fraction(-3, 4), Fraction(0, 1)], [Fraction(0, 1), Fraction(-3, 8), Fraction(1, 1), Fraction(-7, 40)], [Fraction(-23, 24), Fraction(0, 1), Fraction(0, 1), Fraction(0, 1)], [Fraction(-37, 96), Fraction(-35, 96), Fraction(0, 1), Fraction(1, 1)]]\n",
      "[[Fraction(0, 1), Fraction(1, 1), Fraction(-3, 4), Fraction(0, 1)], [Fraction(0, 1), Fraction(-3, 8), Fraction(1, 1), Fraction(-1, 5)], [Fraction(-23, 24), Fraction(0, 1), Fraction(0, 1), Fraction(1, 1)], [Fraction(-37, 96), Fraction(-35, 96), Fraction(0, 1), Fraction(0, 1)]]\n",
      "[[Fraction(0, 1), Fraction(-1, 3), Fraction(0, 1), Fraction(-5, 12)], [Fraction(-3, 8), Fraction(1, 1), Fraction(-1, 5), Fraction(-7, 40)], [Fraction(0, 1), Fraction(0, 1), Fraction(1, 1), Fraction(0, 1)], [Fraction(-35, 96), Fraction(0, 1), Fraction(0, 1), Fraction(1, 1)]]\n",
      "[[Fraction(1, 1), Fraction(-1, 3), Fraction(0, 1), Fraction(-5, 12)], [Fraction(0, 1), Fraction(1, 1), Fraction(-1, 5), Fraction(-7, 40)], [Fraction(-23, 24), Fraction(0, 1), Fraction(1, 1), Fraction(0, 1)], [Fraction(-37, 96), Fraction(0, 1), Fraction(0, 1), Fraction(1, 1)]]\n",
      "[[Fraction(1, 1), Fraction(0, 1), Fraction(0, 1), Fraction(-5, 12)], [Fraction(0, 1), Fraction(-3, 8), Fraction(-1, 5), Fraction(-7, 40)], [Fraction(-23, 24), Fraction(0, 1), Fraction(1, 1), Fraction(0, 1)], [Fraction(-37, 96), Fraction(-35, 96), Fraction(0, 1), Fraction(1, 1)]]\n",
      "[[Fraction(1, 1), Fraction(0, 1), Fraction(-1, 3), Fraction(-5, 12)], [Fraction(0, 1), Fraction(-3, 8), Fraction(1, 1), Fraction(-7, 40)], [Fraction(-23, 24), Fraction(0, 1), Fraction(0, 1), Fraction(0, 1)], [Fraction(-37, 96), Fraction(-35, 96), Fraction(0, 1), Fraction(1, 1)]]\n",
      "[[Fraction(1, 1), Fraction(0, 1), Fraction(-1, 3), Fraction(0, 1)], [Fraction(0, 1), Fraction(-3, 8), Fraction(1, 1), Fraction(-1, 5)], [Fraction(-23, 24), Fraction(0, 1), Fraction(0, 1), Fraction(1, 1)], [Fraction(-37, 96), Fraction(-35, 96), Fraction(0, 1), Fraction(0, 1)]]\n",
      "[[Fraction(0, 1), Fraction(-1, 3), Fraction(0, 1), Fraction(-5, 12)], [Fraction(1, 1), Fraction(-3, 4), Fraction(0, 1), Fraction(0, 1)], [Fraction(0, 1), Fraction(0, 1), Fraction(1, 1), Fraction(0, 1)], [Fraction(-35, 96), Fraction(0, 1), Fraction(0, 1), Fraction(1, 1)]]\n",
      "[[Fraction(1, 1), Fraction(-1, 3), Fraction(0, 1), Fraction(-5, 12)], [Fraction(0, 1), Fraction(-3, 4), Fraction(0, 1), Fraction(0, 1)], [Fraction(-23, 24), Fraction(0, 1), Fraction(1, 1), Fraction(0, 1)], [Fraction(-37, 96), Fraction(0, 1), Fraction(0, 1), Fraction(1, 1)]]\n",
      "[[Fraction(1, 1), Fraction(0, 1), Fraction(0, 1), Fraction(-5, 12)], [Fraction(0, 1), Fraction(1, 1), Fraction(0, 1), Fraction(0, 1)], [Fraction(-23, 24), Fraction(0, 1), Fraction(1, 1), Fraction(0, 1)], [Fraction(-37, 96), Fraction(-35, 96), Fraction(0, 1), Fraction(1, 1)]]\n",
      "[[Fraction(1, 1), Fraction(0, 1), Fraction(-1, 3), Fraction(-5, 12)], [Fraction(0, 1), Fraction(1, 1), Fraction(-3, 4), Fraction(0, 1)], [Fraction(-23, 24), Fraction(0, 1), Fraction(0, 1), Fraction(0, 1)], [Fraction(-37, 96), Fraction(-35, 96), Fraction(0, 1), Fraction(1, 1)]]\n",
      "[[Fraction(1, 1), Fraction(0, 1), Fraction(-1, 3), Fraction(0, 1)], [Fraction(0, 1), Fraction(1, 1), Fraction(-3, 4), Fraction(0, 1)], [Fraction(-23, 24), Fraction(0, 1), Fraction(0, 1), Fraction(1, 1)], [Fraction(-37, 96), Fraction(-35, 96), Fraction(0, 1), Fraction(0, 1)]]\n",
      "[[Fraction(0, 1), Fraction(-1, 3), Fraction(0, 1), Fraction(-5, 12)], [Fraction(1, 1), Fraction(-3, 4), Fraction(0, 1), Fraction(0, 1)], [Fraction(-3, 8), Fraction(1, 1), Fraction(-1, 5), Fraction(-7, 40)], [Fraction(-35, 96), Fraction(0, 1), Fraction(0, 1), Fraction(1, 1)]]\n",
      "[[Fraction(1, 1), Fraction(-1, 3), Fraction(0, 1), Fraction(-5, 12)], [Fraction(0, 1), Fraction(-3, 4), Fraction(0, 1), Fraction(0, 1)], [Fraction(0, 1), Fraction(1, 1), Fraction(-1, 5), Fraction(-7, 40)], [Fraction(-37, 96), Fraction(0, 1), Fraction(0, 1), Fraction(1, 1)]]\n",
      "[[Fraction(1, 1), Fraction(0, 1), Fraction(0, 1), Fraction(-5, 12)], [Fraction(0, 1), Fraction(1, 1), Fraction(0, 1), Fraction(0, 1)], [Fraction(0, 1), Fraction(-3, 8), Fraction(-1, 5), Fraction(-7, 40)], [Fraction(-37, 96), Fraction(-35, 96), Fraction(0, 1), Fraction(1, 1)]]\n",
      "[[Fraction(1, 1), Fraction(0, 1), Fraction(-1, 3), Fraction(-5, 12)], [Fraction(0, 1), Fraction(1, 1), Fraction(-3, 4), Fraction(0, 1)], [Fraction(0, 1), Fraction(-3, 8), Fraction(1, 1), Fraction(-7, 40)], [Fraction(-37, 96), Fraction(-35, 96), Fraction(0, 1), Fraction(1, 1)]]\n",
      "[[Fraction(1, 1), Fraction(0, 1), Fraction(-1, 3), Fraction(0, 1)], [Fraction(0, 1), Fraction(1, 1), Fraction(-3, 4), Fraction(0, 1)], [Fraction(0, 1), Fraction(-3, 8), Fraction(1, 1), Fraction(-1, 5)], [Fraction(-37, 96), Fraction(-35, 96), Fraction(0, 1), Fraction(0, 1)]]\n",
      "[[Fraction(0, 1), Fraction(-1, 3), Fraction(0, 1), Fraction(-5, 12)], [Fraction(1, 1), Fraction(-3, 4), Fraction(0, 1), Fraction(0, 1)], [Fraction(-3, 8), Fraction(1, 1), Fraction(-1, 5), Fraction(-7, 40)], [Fraction(0, 1), Fraction(0, 1), Fraction(1, 1), Fraction(0, 1)]]\n",
      "[[Fraction(1, 1), Fraction(-1, 3), Fraction(0, 1), Fraction(-5, 12)], [Fraction(0, 1), Fraction(-3, 4), Fraction(0, 1), Fraction(0, 1)], [Fraction(0, 1), Fraction(1, 1), Fraction(-1, 5), Fraction(-7, 40)], [Fraction(-23, 24), Fraction(0, 1), Fraction(1, 1), Fraction(0, 1)]]\n",
      "[[Fraction(1, 1), Fraction(0, 1), Fraction(0, 1), Fraction(-5, 12)], [Fraction(0, 1), Fraction(1, 1), Fraction(0, 1), Fraction(0, 1)], [Fraction(0, 1), Fraction(-3, 8), Fraction(-1, 5), Fraction(-7, 40)], [Fraction(-23, 24), Fraction(0, 1), Fraction(1, 1), Fraction(0, 1)]]\n",
      "[[Fraction(1, 1), Fraction(0, 1), Fraction(-1, 3), Fraction(-5, 12)], [Fraction(0, 1), Fraction(1, 1), Fraction(-3, 4), Fraction(0, 1)], [Fraction(0, 1), Fraction(-3, 8), Fraction(1, 1), Fraction(-7, 40)], [Fraction(-23, 24), Fraction(0, 1), Fraction(0, 1), Fraction(0, 1)]]\n",
      "[[Fraction(1, 1), Fraction(0, 1), Fraction(-1, 3), Fraction(0, 1)], [Fraction(0, 1), Fraction(1, 1), Fraction(-3, 4), Fraction(0, 1)], [Fraction(0, 1), Fraction(-3, 8), Fraction(1, 1), Fraction(-1, 5)], [Fraction(-23, 24), Fraction(0, 1), Fraction(0, 1), Fraction(1, 1)]]\n"
     ]
    }
   ],
   "source": [
    "#cofactor_mat = list()\n",
    "    \n",
    "for row_ind, row in enumerate(f_mat):\n",
    "    cofactor_row = list()\n",
    "    for col_ind, col in enumerate(row):\n",
    "        determinant_for = f_mat[row_ind][col_ind]\n",
    "            \n",
    "        minor_mat = f_mat[:row_ind]+f_mat[row_ind+1:]\n",
    "        for row_index, row in enumerate(minor_mat):\n",
    "            row = row[:col_ind]+row[col_ind+1:]\n",
    "            minor_mat[row_index] = row\n",
    "                \n",
    "        print(minor_mat)"
   ]
  },
  {
   "cell_type": "code",
   "execution_count": 83,
   "metadata": {},
   "outputs": [
    {
     "data": {
      "text/plain": [
       "[[5, 6, 7, 8], [1, 2, 3, 4], [1, 2, 3, 4], [1, 2, 3, 4]]"
      ]
     },
     "execution_count": 83,
     "metadata": {},
     "output_type": "execute_result"
    }
   ],
   "source": [
    "test_mat"
   ]
  },
  {
   "cell_type": "code",
   "execution_count": 89,
   "metadata": {},
   "outputs": [
    {
     "name": "stdout",
     "output_type": "stream",
     "text": [
      "5\n",
      "1\n",
      "1\n",
      "1\n",
      "6\n",
      "2\n",
      "2\n",
      "2\n",
      "7\n",
      "3\n",
      "3\n",
      "3\n",
      "8\n",
      "4\n",
      "4\n",
      "4\n"
     ]
    },
    {
     "data": {
      "text/plain": [
       "[[5, 1, 1, 1], [6, 2, 2, 2], [7, 3, 3, 3], [8, 4, 4, 4]]"
      ]
     },
     "execution_count": 89,
     "metadata": {},
     "output_type": "execute_result"
    }
   ],
   "source": [
    "cofactor_len = 4\n",
    "adjugate_mat = list()\n",
    "for row_ind, row in enumerate(test_mat):\n",
    "    adjugate_row = list()\n",
    "    for col_ind, _ in enumerate(row):\n",
    "        print(test_mat[col_ind][row_ind])\n",
    "        adjugate_row.append(test_mat[col_ind][row_ind])\n",
    "    adjugate_mat.append(adjugate_row)\n",
    "adjugate_mat"
   ]
  },
  {
   "cell_type": "code",
   "execution_count": 114,
   "metadata": {},
   "outputs": [],
   "source": [
    "f_mat_real = [[Fraction(9, 7), Fraction(9, 14)], [Fraction(4, 7), Fraction(9, 7)]]\n",
    "r_mat_real = [[0, 0, 0, Fraction(1, 2)], [0, Fraction(3, 9), Fraction(2, 9), 0]]"
   ]
  },
  {
   "cell_type": "code",
   "execution_count": 122,
   "metadata": {},
   "outputs": [
    {
     "data": {
      "text/plain": [
       "[[Fraction(0, 1), Fraction(3, 14), Fraction(1, 7), Fraction(9, 14)],\n",
       " [Fraction(0, 1), Fraction(3, 7), Fraction(2, 7), Fraction(2, 7)]]"
      ]
     },
     "execution_count": 122,
     "metadata": {},
     "output_type": "execute_result"
    }
   ],
   "source": [
    "    assert len(f_mat_real[0]) == len(r_mat_real)\n",
    "    fr_mat = list()\n",
    "    r_cols = list(zip(*r_mat_real))\n",
    "    for f_ind, row in enumerate(f_mat_real):\n",
    "        fr_rows = list()\n",
    "        for r_ind, col in enumerate(r_cols):\n",
    "            zipped_vals = list(zip(f_mat_real[f_ind], r_cols[r_ind]))\n",
    "            fr_rows.append(sum([a*b for a, b in zipped_vals]))\n",
    "        fr_mat.append(fr_rows)\n",
    "    fr_mat"
   ]
  },
  {
   "cell_type": "code",
   "execution_count": null,
   "metadata": {},
   "outputs": [],
   "source": [
    "test_1 = [\n",
    "        [0, 2, 1, 0, 0],\n",
    "        [0, 0, 0, 3, 4],\n",
    "        [0, 0, 0, 0, 0],\n",
    "        [0, 0, 0, 0, 0],\n",
    "        [0, 0, 0, 0, 0]\n",
    "    ] \n",
    "\n",
    "# Answer = [7, 6, 8, 21] pass\n",
    "\n",
    " \n",
    "test_2 = [\n",
    "        [0, 1, 0, 0, 0, 1],\n",
    "        [4, 0, 0, 3, 2, 0],\n",
    "        [0, 0, 0, 0, 0, 0],\n",
    "        [0, 0, 0, 0, 0, 0],\n",
    "        [0, 0, 0, 0, 0, 0],\n",
    "        [0, 0, 0, 0, 0, 0]\n",
    "    ] \n",
    "# Answer = [0, 3, 2, 9, 14] pass\n",
    "\n",
    " \n",
    "test_3 = [\n",
    "        [1, 2, 3, 0, 0, 0],\n",
    "        [4, 5, 6, 0, 0, 0],\n",
    "        [7, 8, 9, 1, 0, 0],\n",
    "        [0, 0, 0, 0, 1, 2],\n",
    "        [0, 0, 0, 0, 0, 0],\n",
    "        [0, 0, 0, 0, 0, 0]\n",
    "    ]\n",
    "# Answer = [1, 2, 3] pass\n",
    "\n",
    "\n",
    "test_4 = [\n",
    "        [0]\n",
    "    ]\n",
    "\n",
    "# Answer = [1, 1] pass\n",
    "\n",
    " \n"
   ]
  },
  {
   "cell_type": "code",
   "execution_count": 107,
   "metadata": {},
   "outputs": [
    {
     "data": {
      "text/plain": [
       "[Fraction(1, 1),\n",
       " Fraction(0, 1),\n",
       " Fraction(-1, 3),\n",
       " Fraction(0, 1),\n",
       " Fraction(-5, 12)]"
      ]
     },
     "execution_count": 107,
     "metadata": {},
     "output_type": "execute_result"
    }
   ],
   "source": [
    "mat = test_5_f_mat\n",
    "#mat = test_5_minor\n",
    "mat[0]"
   ]
  },
  {
   "cell_type": "code",
   "execution_count": 109,
   "metadata": {},
   "outputs": [
    {
     "name": "stdout",
     "output_type": "stream",
     "text": [
      "[[Fraction(1, 1), Fraction(-3, 4), Fraction(0, 1), Fraction(0, 1)], [Fraction(-3, 8), Fraction(1, 1), Fraction(-1, 5), Fraction(-7, 40)], [Fraction(0, 1), Fraction(0, 1), Fraction(1, 1), Fraction(0, 1)], [Fraction(-35, 96), Fraction(0, 1), Fraction(0, 1), Fraction(1, 1)]] 1\n",
      "1\n"
     ]
    }
   ],
   "source": [
    "for col_ind, val in enumerate(mat[0]):\n",
    "    minor_mat = mat[1:]\n",
    "    #print(minor_mat)\n",
    "            \n",
    "    for row_ind, row in enumerate(minor_mat):\n",
    "        row = row[:col_ind]+row[col_ind+1:]\n",
    "        #print(row)\n",
    "        minor_mat[row_ind] = row\n",
    "        #print(minor_mat)\n",
    "    test_5_minor = minor_mat\n",
    "    print(minor_mat, val)\n",
    "    print((-1)**(col_ind+row_ind+1))\n",
    "    break"
   ]
  },
  {
   "cell_type": "code",
   "execution_count": 110,
   "metadata": {},
   "outputs": [
    {
     "data": {
      "text/plain": [
       "Fraction(-687, 1024)"
      ]
     },
     "execution_count": 110,
     "metadata": {},
     "output_type": "execute_result"
    }
   ],
   "source": [
    "find_det(test_5_minor)"
   ]
  },
  {
   "cell_type": "code",
   "execution_count": null,
   "metadata": {},
   "outputs": [],
   "source": []
  },
  {
   "cell_type": "code",
   "execution_count": null,
   "metadata": {},
   "outputs": [],
   "source": []
  },
  {
   "cell_type": "code",
   "execution_count": 93,
   "metadata": {},
   "outputs": [
    {
     "name": "stdout",
     "output_type": "stream",
     "text": [
      "[[0, 0, 3, 4], [0, 0, 0, 0], [0, 0, 0, 0], [0, 0, 0, 0]] 0\n",
      "1\n",
      "m:  [0, 0, 3, 4]\n",
      "m:  [0, 0, 0, 0]\n",
      "m:  [0, 0, 0, 0]\n",
      "m:  [0, 0, 0, 0]\n",
      "mat:  [[0, 2, 1, 0, 0], [0, 0, 0, 3, 4], [0, 0, 0, 0, 0], [0, 0, 0, 0, 0], [0, 0, 0, 0, 0]]\n",
      "minor_mat:  [[0, 0, 3, 4], [0, 0, 0, 0], [0, 0, 0, 0], [0, 0, 0, 0]]\n"
     ]
    }
   ],
   "source": [
    "\n",
    "\n",
    "for col_ind, val in enumerate(mat[0]):\n",
    "    minor_mat = mat[1:]\n",
    "    #print(minor_mat)\n",
    "            \n",
    "    for row_ind, row in enumerate(minor_mat):\n",
    "        row = row[:col_ind]+row[col_ind+1:]\n",
    "        #print(row)\n",
    "        minor_mat[row_ind] = row\n",
    "        #print(minor_mat)\n",
    "    print(minor_mat, val)\n",
    "    print((-1)**(col_ind+row_ind+1))\n",
    "    break\n",
    "    \n",
    "for m in minor_mat:\n",
    "    print(\"m: \",m)\n",
    "\n",
    "print(\"mat: \", mat)\n",
    "print(\"minor_mat: \",minor_mat)"
   ]
  },
  {
   "cell_type": "code",
   "execution_count": 99,
   "metadata": {},
   "outputs": [
    {
     "data": {
      "text/plain": [
       "[[Fraction(1, 1),\n",
       "  Fraction(0, 1),\n",
       "  Fraction(-1, 3),\n",
       "  Fraction(0, 1),\n",
       "  Fraction(-5, 12)],\n",
       " [Fraction(0, 1),\n",
       "  Fraction(1, 1),\n",
       "  Fraction(-3, 4),\n",
       "  Fraction(0, 1),\n",
       "  Fraction(0, 1)],\n",
       " [Fraction(0, 1),\n",
       "  Fraction(-3, 8),\n",
       "  Fraction(1, 1),\n",
       "  Fraction(-1, 5),\n",
       "  Fraction(-7, 40)],\n",
       " [Fraction(-23, 24),\n",
       "  Fraction(0, 1),\n",
       "  Fraction(0, 1),\n",
       "  Fraction(1, 1),\n",
       "  Fraction(0, 1)],\n",
       " [Fraction(-37, 96),\n",
       "  Fraction(-35, 96),\n",
       "  Fraction(0, 1),\n",
       "  Fraction(0, 1),\n",
       "  Fraction(1, 1)]]"
      ]
     },
     "execution_count": 99,
     "metadata": {},
     "output_type": "execute_result"
    }
   ],
   "source": [
    "test_5_f_mat"
   ]
  },
  {
   "cell_type": "code",
   "execution_count": 152,
   "metadata": {},
   "outputs": [],
   "source": [
    "def make_prob_mat(m):\n",
    "    from fractions import Fraction\n",
    "    probs = list()    \n",
    "    for row in m:\n",
    "        row_probs = list()\n",
    "        row_sum = sum(row)\n",
    "        for val in row:\n",
    "            if row_sum != 0:\n",
    "                prob = Fraction(val, row_sum)\n",
    "            else:\n",
    "                prob = Fraction()\n",
    "            row_probs.append(prob)   \n",
    "        probs.append(row_probs)\n",
    "    return(probs)\n",
    "\n",
    "def find_det(mat):\n",
    "    mat_len = len(mat)\n",
    "    \n",
    "    if mat_len == 2:\n",
    "        determinant = (mat[0][0] * mat[1][1]) - (mat[0][1] * mat[1][0])\n",
    "        \n",
    "        return(determinant)\n",
    "        \n",
    "    elif mat_len > 2:\n",
    "        \n",
    "        determinant_sum = 0\n",
    "        \n",
    "        exp = 1\n",
    "        \n",
    "        for col_ind, val in enumerate(mat[0]):\n",
    "            \n",
    "            minor_mat = mat[1:]\n",
    "            \n",
    "            for row_ind, row in enumerate(minor_mat):\n",
    "                row = row[:col_ind]+row[col_ind+1:]\n",
    "                minor_mat[row_ind] = row\n",
    "\n",
    "            determinant_sum = determinant_sum + ((-1)**(exp))*val*find_det(minor_mat)\n",
    "            \n",
    "            exp += 1\n",
    "            \n",
    "        return(determinant_sum)\n",
    "\n",
    "def answer(m):\n",
    "    # your code here\n",
    "    from fractions import Fraction, gcd\n",
    "    from functools import reduce\n",
    "\n",
    "    if len(m) <= 2:\n",
    "        answer = [1, 1]\n",
    "    \n",
    "    elif len(m) >= 3:\n",
    "        \n",
    "        probs = make_prob_mat(m)\n",
    "    \n",
    "        probs_copy = probs\n",
    "        \n",
    "        transition_states = list()\n",
    "        \n",
    "        for state, vals in enumerate(probs):\n",
    "            if any(val != 0 for val in vals):\n",
    "                transition_states.append(state)\n",
    "        \n",
    "        trans_mat = list()\n",
    "        \n",
    "        for state in probs_copy: \n",
    "            if any(p != 0 and ind not in transition_states for ind, p in enumerate(state)):\n",
    "                trans_mat.append(state)\n",
    "            \n",
    "        trans_len = len(trans_mat)\n",
    "        \n",
    "        q_mat = list()\n",
    "        r_mat = list()\n",
    "            \n",
    "        for row in trans_mat:\n",
    "            q_vals = list()\n",
    "            r_vals = list()\n",
    "            for ind, val in enumerate(row):\n",
    "                if ind in transition_states:\n",
    "                    q_vals.append(val)\n",
    "                elif ind not in transition_states:\n",
    "                    r_vals.append(val)\n",
    "            q_mat.append(q_vals)\n",
    "            r_mat.append(r_vals)\n",
    "        \n",
    "        l = len(q_mat)\n",
    "            \n",
    "        i_mat = list()\n",
    "        for r in range(l):\n",
    "            row = [\"none\"]*l\n",
    "            for ind, _ in enumerate(row):\n",
    "                if ind == r:\n",
    "                    val = 1\n",
    "                else:\n",
    "                    val = 0\n",
    "                row[ind] = val\n",
    "            i_mat.append(row)\n",
    "                \n",
    "        f_mat = list()\n",
    "        for row_i, row_q in zip(i_mat, q_mat):\n",
    "            rows = list()\n",
    "            for val_i, val_q in zip(row_i, row_q):\n",
    "                rows.append(Fraction(val_i - val_q))\n",
    "            f_mat.append(rows)\n",
    "        \n",
    "        f_len = len(f_mat)\n",
    "            \n",
    "        if f_len > 2:\n",
    "            cofactor_mat = list()\n",
    "            \n",
    "            for row_ind, row in enumerate(f_mat):\n",
    "                cofactor_row = list()\n",
    "                for col_ind, col in enumerate(row):\n",
    "                    \n",
    "                    minor_mat = f_mat[:row_ind]+f_mat[row_ind+1:]\n",
    "                    for row_index, row in enumerate(minor_mat):\n",
    "                        row = row[:col_ind]+row[col_ind+1:]\n",
    "                        minor_mat[row_index] = row\n",
    "                    \n",
    "                    cof = ((-1)**(row_ind+col_ind+1))*find_det(minor_mat)\n",
    "                    \n",
    "                    cofactor_row.append(cof)\n",
    "                \n",
    "                cofactor_mat.append(cofactor_row)\n",
    "            \n",
    "            cofactor_len = len(cofactor_mat)\n",
    "            \n",
    "            matrix_determinant = find_det(f_mat)\n",
    "            \n",
    "            adjugate_mat = list()\n",
    "            for row_ind, row in enumerate(cofactor_mat):\n",
    "                adjugate_row = list()\n",
    "                for col_ind, _ in enumerate(row):\n",
    "                    adjugate_row.append(cofactor_mat[col_ind][row_ind])\n",
    "                adjugate_mat.append(adjugate_row)\n",
    "            \n",
    "            f_mat = list()\n",
    "            for row in adjugate_mat:\n",
    "                inverse_row = list()\n",
    "                for val in row:\n",
    "                    inverse_row.append(val/matrix_determinant)\n",
    "                f_mat.append(inverse_row)\n",
    "                    \n",
    "        elif f_len == 2:\n",
    "            determinant = (f_mat[0][0] * f_mat[1][1]) - (f_mat[0][1] * f_mat[1][0])\n",
    "            cofactor_mat = [[f_mat[1][1], -f_mat[0][1]], [-f_mat[1][0], f_mat[0][0]]]\n",
    "            f_mat = [[cofactor_mat[0][0]/determinant, cofactor_mat[0][1]/determinant],\n",
    "                        [cofactor_mat[1][0]/determinant, cofactor_mat[1][1]/determinant]]\n",
    "                \n",
    "        fr_mat = list()\n",
    "        r_cols = list(zip(*r_mat))\n",
    "        for f_ind, row in enumerate(f_mat):\n",
    "            fr_rows = list()\n",
    "            for r_ind, col in enumerate(r_cols):\n",
    "                zipped_vals = list(zip(f_mat[f_ind], r_cols[r_ind]))\n",
    "                fr_rows.append(sum([a*b for a, b in zipped_vals]))\n",
    "            fr_mat.append(fr_rows)\n",
    "        \n",
    "        denominators = list()\n",
    "        numerators = list()\n",
    "        for state, probs in enumerate(fr_mat):\n",
    "            if state == 0:\n",
    "                for prob in probs:\n",
    "                    numerators.append(prob.numerator)\n",
    "                    denominators.append(prob.denominator)\n",
    "\n",
    "        ind = 0\n",
    "        d_len = len(denominators)\n",
    "        lcm = 0\n",
    "        while ind < d_len:\n",
    "            if ind == 0:\n",
    "                lcm = int((denominators[ind]*denominators[ind+1])/gcd(denominators[ind], denominators[ind+1]))\n",
    "                ind += 2\n",
    "            elif ind > 0:\n",
    "                lcm = int((lcm*denominators[ind])/gcd(lcm, denominators[ind]))\n",
    "                ind += 1\n",
    "        \n",
    "        answer = list()\n",
    "        for d, n in zip(denominators, numerators):\n",
    "            answer.append(int(n*(lcm/d)))\n",
    "        answer.append(sum(answer))\n",
    "    \n",
    "    return(answer)"
   ]
  },
  {
   "cell_type": "code",
   "execution_count": 157,
   "metadata": {
    "scrolled": false
   },
   "outputs": [
    {
     "name": "stderr",
     "output_type": "stream",
     "text": [
      "/Users/maheshrao/anaconda3/lib/python3.6/site-packages/ipykernel_launcher.py:172: DeprecationWarning: fractions.gcd() is deprecated. Use math.gcd() instead.\n",
      "/Users/maheshrao/anaconda3/lib/python3.6/site-packages/ipykernel_launcher.py:175: DeprecationWarning: fractions.gcd() is deprecated. Use math.gcd() instead.\n"
     ]
    },
    {
     "data": {
      "text/plain": [
       "[1, 1, 1, 1, 1, 5]"
      ]
     },
     "execution_count": 157,
     "metadata": {},
     "output_type": "execute_result"
    }
   ],
   "source": [
    "answer(test_7)"
   ]
  },
  {
   "cell_type": "code",
   "execution_count": 130,
   "metadata": {},
   "outputs": [],
   "source": [
    "test_5 = [\n",
    "        [0, 0, 12, 0, 15, 0, 0, 0, 1, 8],\n",
    "        [0, 0, 60, 0, 0, 7, 13, 0, 0, 0],\n",
    "        [0, 15, 0, 8, 7, 0, 0, 1, 9, 0],\n",
    "        [23, 0, 0, 0, 0, 1, 0, 0, 0, 0],\n",
    "        [37, 35, 0, 0, 0, 0, 3, 21, 0, 0],\n",
    "        [0, 0, 0, 0, 0, 0, 0, 0, 0, 0],\n",
    "        [0, 0, 0, 0, 0, 0, 0, 0, 0, 0],\n",
    "        [0, 0, 0, 0, 0, 0, 0, 0, 0, 0],\n",
    "        [0, 0, 0, 0, 0, 0, 0, 0, 0, 0],\n",
    "        [0, 0, 0, 0, 0, 0, 0, 0, 0, 0]\n",
    "    ] \n",
    "# Answer = [1, 2, 3, 4, 5, 15]\n",
    "\n",
    " \n",
    "test_6 = [\n",
    "        [0, 7, 0, 17, 0, 1, 0, 5, 0, 2],\n",
    "        [0, 0, 29, 0, 28, 0, 3, 0, 16, 0],\n",
    "        [0, 3, 0, 0, 0, 1, 0, 0, 0, 0],\n",
    "        [48, 0, 3, 0, 0, 0, 17, 0, 0, 0],\n",
    "        [0, 6, 0, 0, 0, 1, 0, 0, 0, 0],\n",
    "        [0, 0, 0, 0, 0, 0, 0, 0, 0, 0],\n",
    "        [0, 0, 0, 0, 0, 0, 0, 0, 0, 0],\n",
    "        [0, 0, 0, 0, 0, 0, 0, 0, 0, 0],\n",
    "        [0, 0, 0, 0, 0, 0, 0, 0, 0, 0],\n",
    "        [0, 0, 0, 0, 0, 0, 0, 0, 0, 0]\n",
    "    ] \n",
    "# Answer = [4, 5, 5, 4, 2, 20]\n",
    "\n",
    " \n",
    "test_7 = [\n",
    "        [1, 1, 1, 1, 1, 1, 1, 1, 1, 1],\n",
    "        [0, 0, 0, 0, 0, 0, 0, 0, 0, 0],\n",
    "        [1, 1, 1, 1, 1, 1, 1, 1, 1, 1],\n",
    "        [0, 0, 0, 0, 0, 0, 0, 0, 0, 0],\n",
    "        [1, 1, 1, 1, 1, 1, 1, 1, 1, 1],\n",
    "        [0, 0, 0, 0, 0, 0, 0, 0, 0, 0],\n",
    "        [1, 1, 1, 1, 1, 1, 1, 1, 1, 1],\n",
    "        [0, 0, 0, 0, 0, 0, 0, 0, 0, 0],\n",
    "        [1, 1, 1, 1, 1, 1, 1, 1, 1, 1],\n",
    "        [0, 0, 0, 0, 0, 0, 0, 0, 0, 0]\n",
    "    ]\n",
    "# Answer = [1, 1, 1, 1, 1, 5]\n",
    "\n",
    " \n",
    "test_8 = [\n",
    "        [1, 1, 1, 0, 1, 0, 1, 0, 1, 0],\n",
    "        [0, 0, 0, 0, 0, 0, 0, 0, 0, 0],\n",
    "        [1, 0, 1, 1, 1, 0, 1, 0, 1, 0],\n",
    "        [0, 0, 0, 0, 0, 0, 0, 0, 0, 0],\n",
    "        [1, 0, 1, 0, 1, 1, 1, 0, 1, 0],\n",
    "        [0, 0, 0, 0, 0, 0, 0, 0, 0, 0],\n",
    "        [1, 0, 1, 0, 1, 0, 1, 1, 1, 0],\n",
    "        [0, 0, 0, 0, 0, 0, 0, 0, 0, 0],\n",
    "        [1, 0, 1, 0, 1, 0, 1, 0, 1, 1],\n",
    "        [0, 0, 0, 0, 0, 0, 0, 0, 0, 0]\n",
    "    ]\n",
    "# Answer = [2, 1, 1, 1, 1, 6]\n",
    "\n",
    " \n",
    "test_9 = [\n",
    "        [0, 86, 61, 189, 0, 18, 12, 33, 66, 39],\n",
    "        [0, 0, 2, 0, 0, 1, 0, 0, 0, 0],\n",
    "        [15, 187, 0, 0, 18, 23, 0, 0, 0, 0],\n",
    "        [1, 0, 0, 0, 0, 0, 0, 0, 0, 0],\n",
    "        [0, 0, 0, 0, 0, 0, 0, 0, 0, 0],\n",
    "        [0, 0, 0, 0, 0, 0, 0, 0, 0, 0],\n",
    "        [0, 0, 0, 0, 0, 0, 0, 0, 0, 0],\n",
    "        [0, 0, 0, 0, 0, 0, 0, 0, 0, 0],\n",
    "        [0, 0, 0, 0, 0, 0, 0, 0, 0, 0],\n",
    "        [0, 0, 0, 0, 0, 0, 0, 0, 0, 0]\n",
    "    ]\n",
    "# Answer = [6, 44, 4, 11, 22, 13, 100]\n",
    "\n",
    " \n",
    "test_10 = [\n",
    "        [0, 0, 0, 0, 3, 5, 0, 0, 0, 2],\n",
    "        [0, 0, 4, 0, 0, 0, 1, 0, 0, 0],\n",
    "        [0, 0, 0, 4, 4, 0, 0, 0, 1, 1],\n",
    "        [13, 0, 0, 0, 0, 0, 2, 0, 0, 0],\n",
    "        [0, 1, 8, 7, 0, 0, 0, 1, 3, 0],\n",
    "        [1, 7, 0, 0, 0, 0, 0, 2, 0, 0],\n",
    "        [0, 0, 0, 0, 0, 0, 0, 0, 0, 0],\n",
    "        [0, 0, 0, 0, 0, 0, 0, 0, 0, 0],\n",
    "        [0, 0, 0, 0, 0, 0, 0, 0, 0, 0],\n",
    "        [0, 0, 0, 0, 0, 0, 0, 0, 0, 0]\n",
    "    ]\n",
    "# Answer = [1, 1, 1, 2, 5]\n"
   ]
  },
  {
   "cell_type": "code",
   "execution_count": 163,
   "metadata": {},
   "outputs": [
    {
     "data": {
      "text/plain": [
       "[0, 3, 2, 9, 14]"
      ]
     },
     "execution_count": 163,
     "metadata": {},
     "output_type": "execute_result"
    }
   ],
   "source": [
    "fr_mat"
   ]
  },
  {
   "cell_type": "code",
   "execution_count": null,
   "metadata": {},
   "outputs": [],
   "source": [
    "def find_det(mat):\n",
    "    mat_len = len(mat)\n",
    "    \n",
    "    if mat_len == 2:\n",
    "        determinant = (mat[0][0] * mat[1][1]) - (mat[0][1] * mat[1][0])\n",
    "        \n",
    "        return(determinant)\n",
    "        \n",
    "    elif mat_len > 2:\n",
    "        \n",
    "        determinant_sum = 0\n",
    "        \n",
    "        exp = 0\n",
    "        \n",
    "        for col_ind, val in enumerate(mat[0]):\n",
    "            \n",
    "            minor_mat = mat[1:]\n",
    "            \n",
    "            for row_ind, row in enumerate(minor_mat):\n",
    "                row = row[:col_ind]+row[col_ind+1:]\n",
    "                minor_mat[row_ind] = row\n",
    "            \n",
    "            #print(minor_mat)\n",
    "            #minor_det = find_determinant(minor_mat)\n",
    "            \n",
    "            determinant_sum = determinant_sum + ((-1)**(exp))*val*find_det(minor_mat)\n",
    "            #print(determinant_sum)\n",
    "            exp = exp + 1\n",
    "            \n",
    "        return(determinant_sum)\n",
    "\n",
    "def answer(m):\n",
    "    # your code here\n",
    "    from fractions import Fraction, gcd\n",
    "    from functools import reduce\n",
    "\n",
    "    if len(m) == 1:\n",
    "        answer = [1, 1]\n",
    "        \n",
    "    elif len(m) == 2:\n",
    "        answer = [1, 1]\n",
    "        \n",
    "    elif len(m) >= 3:\n",
    "    \n",
    "        probs = list()\n",
    "        \n",
    "        for row in m:\n",
    "            \n",
    "            row_probs = list()\n",
    "            row_sum = sum(row)\n",
    "            \n",
    "            for val in row:\n",
    "                if row_sum != 0:\n",
    "                    \n",
    "                    prob = Fraction(val, row_sum)\n",
    "                    \n",
    "                else:\n",
    "                    \n",
    "                    prob = Fraction()\n",
    "                    \n",
    "                row_probs.append(prob)   \n",
    "                \n",
    "            probs.append(row_probs)\n",
    "    \n",
    "        probs_copy = probs\n",
    "        \n",
    "        transition_states = list()\n",
    "        #terminal_states = list()\n",
    "        \n",
    "        for state, probs in enumerate(probs):\n",
    "            if any(prob != 0 for prob in probs):\n",
    "                transition_states.append(state)\n",
    "            #else:\n",
    "                #terminal_states.append(state)\n",
    "        \n",
    "        print(transition_states)\n",
    "        \n",
    "        trans_mat = list()\n",
    "        \n",
    "        for state in probs_copy: \n",
    "            if any(p != 0 and ind not in transition_states for ind, p in enumerate(state)):\n",
    "                trans_mat.append(state)\n",
    "            \n",
    "        trans_len = len(trans_mat)\n",
    "        \n",
    "        if trans_len == 1:\n",
    "            numerators = list()\n",
    "            denominators = list()\n",
    "            for prob in trans_mat[0]:\n",
    "                numerators.append(prob.numerator)\n",
    "                denominators.append(prob.denominator)\n",
    "        \n",
    "            ind = 0\n",
    "            d_len = len(denominators)\n",
    "            lcm = 0\n",
    "            while ind < d_len:\n",
    "                if ind == 0:\n",
    "                    lcm = int((denominators[ind]*denominators[ind+1])/gcd(denominators[ind], denominators[ind+1]))\n",
    "                    ind += 2\n",
    "                elif ind > 0:\n",
    "                    lcm = int((lcm*denominators[ind])/gcd(lcm, denominators[ind]))\n",
    "                    ind += 1\n",
    "                \n",
    "            den = [d for ind, d in enumerate(denominators) if ind not in transition_states]\n",
    "            num = [n for ind, n in enumerate(numerators) if ind not in transition_states]\n",
    "            \n",
    "            \n",
    "            answer = list()\n",
    "            for d, n in zip(den, num):\n",
    "                if ind not in transition_states:\n",
    "                    answer.append(int(n*(lcm/d)))\n",
    "            answer.append(lcm)\n",
    "            \n",
    "            return(answer)\n",
    "            \n",
    "        elif trans_len >= 2:\n",
    "            q_mat = list()\n",
    "            r_mat = list()\n",
    "            \n",
    "            for row in trans_mat:\n",
    "                q_vals = list()\n",
    "                r_vals = list()\n",
    "                for ind, val in enumerate(row):\n",
    "                    if ind in transition_states:\n",
    "                        q_vals.append(val)\n",
    "                    elif ind not in transition_states:\n",
    "                        r_vals.append(val)\n",
    "                q_mat.append(q_vals)\n",
    "                r_mat.append(r_vals)\n",
    "                \n",
    "            l = len(q_mat)\n",
    "            \n",
    "            i_mat = list()\n",
    "            for r in range(l):\n",
    "                row = [\"none\"]*l\n",
    "                for ind, _ in enumerate(row):\n",
    "                    if ind == r:\n",
    "                        val = 1\n",
    "                    else:\n",
    "                        val = 0\n",
    "                    row[ind] = val\n",
    "                i_mat.append(row)\n",
    "                \n",
    "            f_mat = list()\n",
    "            for row_i, row_q in zip(i_mat, q_mat):\n",
    "                rows = list()\n",
    "                for val_i, val_q in zip(row_i, row_q):\n",
    "                    rows.append(Fraction(val_i - val_q))\n",
    "                f_mat.append(rows)\n",
    "            \n",
    "            f_len = len(f_mat)\n",
    "            \n",
    "            if f_len > 2:\n",
    "                cofactor_mat = list()\n",
    "            \n",
    "                for row_ind, row in enumerate(f_mat):\n",
    "                    cofactor_row = list()\n",
    "                    for col_ind, col in enumerate(row):\n",
    "                        determinant_for = f_mat[row_ind][col_ind]\n",
    "                    \n",
    "                        minor_mat = f_mat[:row_ind]+f_mat[row_ind+1:]\n",
    "                        for row_index, row in enumerate(minor_mat):\n",
    "                            row = row[:col_ind]+row[col_ind+1:]\n",
    "                            minor_mat[row_index] = row\n",
    "                    \n",
    "                        det = determinant_for*find_det(minor_mat)\n",
    "                    \n",
    "                        cofactor_row.append(det)\n",
    "                \n",
    "                    cofactor_mat.append(cofactor_row)\n",
    "            \n",
    "                cofactor_len = len(cofactor_mat)\n",
    "            \n",
    "                matrix_determinant = sum(cofactor_mat[0])\n",
    "                adjugate_mat = list()\n",
    "                for row_ind, row in enumerate(cofactor_mat):\n",
    "                    adjugate_row = list()\n",
    "                    for col_ind, _ in enumerate(row):\n",
    "                        adjugate_row.append(cofactor_mat[col_ind][row_ind])\n",
    "                    adjugate_mat.append(adjugate_row)\n",
    "            \n",
    "                f_mat = list()\n",
    "                for row in adjugate_mat:\n",
    "                    inverse_row = list()\n",
    "                    for val in row:\n",
    "                        inverse_row.append(val/matrix_determinant)\n",
    "                    f_mat.append(inverse_row)\n",
    "                    \n",
    "            elif f_len == 2:\n",
    "                determinant = (f_mat[0][0] * f_mat[1][1]) - (f_mat[0][1] * f_mat[1][0])\n",
    "                cofactor_mat = [[f_mat[1][1], -f_mat[0][1]], [-f_mat[1][0], f_mat[0][0]]]\n",
    "                f_mat = [[cofactor_mat[0][0]/determinant, cofactor_mat[0][1]/determinant],\n",
    "                           [cofactor_mat[1][0]/determinant, cofactor_mat[1][1]/determinant]]\n",
    "                \n",
    "                \n",
    "            #assert len(inverse_mat[0]) == len(r_mat)\n",
    "            fr_mat = list()\n",
    "            r_cols = list(zip(*r_mat))\n",
    "            for f_ind, row in enumerate(f_mat):\n",
    "                fr_rows = list()\n",
    "                for r_ind, col in enumerate(r_cols):\n",
    "                    zipped_vals = list(zip(f_mat[f_ind], r_cols[r_ind]))\n",
    "                    fr_rows.append(sum([a*b for a, b in zipped_vals]))\n",
    "                fr_mat.append(fr_rows)\n",
    "        \n",
    "            denominators = list()\n",
    "            numerators = list()\n",
    "            for state, probs in enumerate(fr_mat):\n",
    "                #print(ind, d)\n",
    "                if state == 0:\n",
    "                    for prob in probs:\n",
    "                        numerators.append(prob.numerator)\n",
    "                        denominators.append(prob.denominator)\n",
    "            \n",
    "            #print(denominators, numerators)\n",
    "            \n",
    "            #for d in denominators:\n",
    "                #print(type(d))\n",
    "        \n",
    "            ind = 0\n",
    "            d_len = len(denominators)\n",
    "            lcm = 0\n",
    "            while ind < d_len:\n",
    "                if ind == 0:\n",
    "                    lcm = int((denominators[ind]*denominators[ind+1])/gcd(denominators[ind], denominators[ind+1]))\n",
    "                    ind += 2\n",
    "                elif ind > 0:\n",
    "                    lcm = int((lcm*denominators[ind])/gcd(lcm, denominators[ind]))\n",
    "                    ind += 1\n",
    "                    \n",
    "                \n",
    "            #for d in denominators:\n",
    "                \n",
    "                #if ind < d_len:\n",
    "                    \n",
    "            #lcm = reduce((lambda x, y: int((x * y)/gcd(x, y))), denominators)\n",
    "            \n",
    "            #print(type(lcm))\n",
    "        \n",
    "            answer = list()\n",
    "            for d, n in zip(denominators, numerators):\n",
    "                answer.append(int(n*(lcm/d)))\n",
    "            answer.append(lcm)\n",
    "    \n",
    "    return(answer)"
   ]
  },
  {
   "cell_type": "code",
   "execution_count": 12,
   "metadata": {},
   "outputs": [
    {
     "data": {
      "text/plain": [
       "Fraction(-1, 540)"
      ]
     },
     "execution_count": 12,
     "metadata": {},
     "output_type": "execute_result"
    }
   ],
   "source": [
    "Fraction(-1, 54)*Fraction(1, 10)"
   ]
  },
  {
   "cell_type": "code",
   "execution_count": 11,
   "metadata": {},
   "outputs": [],
   "source": [
    "from fractions import Fraction"
   ]
  },
  {
   "cell_type": "code",
   "execution_count": 28,
   "metadata": {},
   "outputs": [
    {
     "data": {
      "text/plain": [
       "-1"
      ]
     },
     "execution_count": 28,
     "metadata": {},
     "output_type": "execute_result"
    }
   ],
   "source": [
    "(-1)**1"
   ]
  },
  {
   "cell_type": "code",
   "execution_count": null,
   "metadata": {},
   "outputs": [],
   "source": []
  }
 ],
 "metadata": {
  "kernelspec": {
   "display_name": "Python 3",
   "language": "python",
   "name": "python3"
  },
  "language_info": {
   "codemirror_mode": {
    "name": "ipython",
    "version": 3
   },
   "file_extension": ".py",
   "mimetype": "text/x-python",
   "name": "python",
   "nbconvert_exporter": "python",
   "pygments_lexer": "ipython3",
   "version": "3.7.2"
  }
 },
 "nbformat": 4,
 "nbformat_minor": 2
}
